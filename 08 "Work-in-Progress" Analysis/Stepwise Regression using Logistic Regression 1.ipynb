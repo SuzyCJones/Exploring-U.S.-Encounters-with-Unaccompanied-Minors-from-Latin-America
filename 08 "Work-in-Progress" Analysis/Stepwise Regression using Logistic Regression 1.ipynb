{
 "cells": [
  {
   "cell_type": "markdown",
   "id": "0582a9d2",
   "metadata": {},
   "source": [
    "# Stepwise Regression using Logistic Regression 1"
   ]
  },
  {
   "cell_type": "markdown",
   "id": "2edc8aa2",
   "metadata": {},
   "source": [
    "## import packages"
   ]
  },
  {
   "cell_type": "code",
   "execution_count": 768,
   "id": "0687f2c9",
   "metadata": {},
   "outputs": [],
   "source": [
    "import statsmodels.api as sm\n",
    "import pandas as pd\n",
    "import matplotlib.pyplot as plt\n",
    "import seaborn as sns\n",
    "import numpy as np\n",
    "import pandas as pd\n",
    "import numpy as np\n",
    "from scipy.stats import norm\n",
    "from scipy import stats\n",
    "from scipy.stats import ttest_ind\n"
   ]
  },
  {
   "cell_type": "markdown",
   "id": "39b82771",
   "metadata": {},
   "source": [
    "## Import data"
   ]
  },
  {
   "cell_type": "code",
   "execution_count": 769,
   "id": "ca09454c",
   "metadata": {},
   "outputs": [],
   "source": [
    "Encounters = pd.read_excel('/Users/suzejones/Downloads/Finalsbo-encounters-fy20-fy23-apr .xlsx')"
   ]
  },
  {
   "cell_type": "code",
   "execution_count": 770,
   "id": "108dcdff",
   "metadata": {
    "scrolled": false
   },
   "outputs": [
    {
     "data": {
      "text/html": [
       "<div>\n",
       "<style scoped>\n",
       "    .dataframe tbody tr th:only-of-type {\n",
       "        vertical-align: middle;\n",
       "    }\n",
       "\n",
       "    .dataframe tbody tr th {\n",
       "        vertical-align: top;\n",
       "    }\n",
       "\n",
       "    .dataframe thead th {\n",
       "        text-align: right;\n",
       "    }\n",
       "</style>\n",
       "<table border=\"1\" class=\"dataframe\">\n",
       "  <thead>\n",
       "    <tr style=\"text-align: right;\">\n",
       "      <th></th>\n",
       "      <th>Fiscal Year</th>\n",
       "      <th>Month Grouping</th>\n",
       "      <th>Month (abbv)</th>\n",
       "      <th>Component</th>\n",
       "      <th>Demographic</th>\n",
       "      <th>Citizenship Grouping</th>\n",
       "      <th>Title of Authority</th>\n",
       "      <th>Encounter Type</th>\n",
       "      <th>Encounter Count</th>\n",
       "    </tr>\n",
       "  </thead>\n",
       "  <tbody>\n",
       "    <tr>\n",
       "      <th>0</th>\n",
       "      <td>2020</td>\n",
       "      <td>FYTD</td>\n",
       "      <td>OCT</td>\n",
       "      <td>Office of Field Operations</td>\n",
       "      <td>Accompanied Minors</td>\n",
       "      <td>El Salvador</td>\n",
       "      <td>Title 8</td>\n",
       "      <td>Inadmissibles</td>\n",
       "      <td>2</td>\n",
       "    </tr>\n",
       "    <tr>\n",
       "      <th>1</th>\n",
       "      <td>2020</td>\n",
       "      <td>FYTD</td>\n",
       "      <td>OCT</td>\n",
       "      <td>Office of Field Operations</td>\n",
       "      <td>Accompanied Minors</td>\n",
       "      <td>Guatemala</td>\n",
       "      <td>Title 8</td>\n",
       "      <td>Inadmissibles</td>\n",
       "      <td>1</td>\n",
       "    </tr>\n",
       "    <tr>\n",
       "      <th>2</th>\n",
       "      <td>2020</td>\n",
       "      <td>FYTD</td>\n",
       "      <td>OCT</td>\n",
       "      <td>Office of Field Operations</td>\n",
       "      <td>Accompanied Minors</td>\n",
       "      <td>Mexico</td>\n",
       "      <td>Title 8</td>\n",
       "      <td>Inadmissibles</td>\n",
       "      <td>91</td>\n",
       "    </tr>\n",
       "    <tr>\n",
       "      <th>3</th>\n",
       "      <td>2020</td>\n",
       "      <td>FYTD</td>\n",
       "      <td>OCT</td>\n",
       "      <td>Office of Field Operations</td>\n",
       "      <td>Accompanied Minors</td>\n",
       "      <td>Other</td>\n",
       "      <td>Title 8</td>\n",
       "      <td>Inadmissibles</td>\n",
       "      <td>8</td>\n",
       "    </tr>\n",
       "    <tr>\n",
       "      <th>4</th>\n",
       "      <td>2020</td>\n",
       "      <td>FYTD</td>\n",
       "      <td>OCT</td>\n",
       "      <td>Office of Field Operations</td>\n",
       "      <td>FMUA</td>\n",
       "      <td>El Salvador</td>\n",
       "      <td>Title 8</td>\n",
       "      <td>Inadmissibles</td>\n",
       "      <td>38</td>\n",
       "    </tr>\n",
       "  </tbody>\n",
       "</table>\n",
       "</div>"
      ],
      "text/plain": [
       "  Fiscal Year Month Grouping Month (abbv)                   Component  \\\n",
       "0        2020           FYTD          OCT  Office of Field Operations   \n",
       "1        2020           FYTD          OCT  Office of Field Operations   \n",
       "2        2020           FYTD          OCT  Office of Field Operations   \n",
       "3        2020           FYTD          OCT  Office of Field Operations   \n",
       "4        2020           FYTD          OCT  Office of Field Operations   \n",
       "\n",
       "          Demographic Citizenship Grouping Title of Authority Encounter Type  \\\n",
       "0  Accompanied Minors          El Salvador            Title 8  Inadmissibles   \n",
       "1  Accompanied Minors            Guatemala            Title 8  Inadmissibles   \n",
       "2  Accompanied Minors               Mexico            Title 8  Inadmissibles   \n",
       "3  Accompanied Minors                Other            Title 8  Inadmissibles   \n",
       "4                FMUA          El Salvador            Title 8  Inadmissibles   \n",
       "\n",
       "   Encounter Count  \n",
       "0                2  \n",
       "1                1  \n",
       "2               91  \n",
       "3                8  \n",
       "4               38  "
      ]
     },
     "execution_count": 770,
     "metadata": {},
     "output_type": "execute_result"
    }
   ],
   "source": [
    "Encounters.head()"
   ]
  },
  {
   "cell_type": "markdown",
   "id": "6d1ae624",
   "metadata": {},
   "source": [
    "## Check data types"
   ]
  },
  {
   "cell_type": "code",
   "execution_count": 771,
   "id": "22de4ba1",
   "metadata": {
    "scrolled": true
   },
   "outputs": [
    {
     "data": {
      "text/plain": [
       "Fiscal Year             object\n",
       "Month Grouping          object\n",
       "Month (abbv)            object\n",
       "Component               object\n",
       "Demographic             object\n",
       "Citizenship Grouping    object\n",
       "Title of Authority      object\n",
       "Encounter Type          object\n",
       "Encounter Count          int64\n",
       "dtype: object"
      ]
     },
     "execution_count": 771,
     "metadata": {},
     "output_type": "execute_result"
    }
   ],
   "source": [
    "Encounters.dtypes"
   ]
  },
  {
   "cell_type": "markdown",
   "id": "09f73e61",
   "metadata": {},
   "source": [
    "## Drop columns not needed"
   ]
  },
  {
   "cell_type": "code",
   "execution_count": 772,
   "id": "96744b2d",
   "metadata": {},
   "outputs": [],
   "source": [
    "Encounters1 = Encounters.drop(['Month Grouping'], axis=1)"
   ]
  },
  {
   "cell_type": "code",
   "execution_count": 773,
   "id": "dccaf8bb",
   "metadata": {
    "scrolled": true
   },
   "outputs": [
    {
     "data": {
      "text/html": [
       "<div>\n",
       "<style scoped>\n",
       "    .dataframe tbody tr th:only-of-type {\n",
       "        vertical-align: middle;\n",
       "    }\n",
       "\n",
       "    .dataframe tbody tr th {\n",
       "        vertical-align: top;\n",
       "    }\n",
       "\n",
       "    .dataframe thead th {\n",
       "        text-align: right;\n",
       "    }\n",
       "</style>\n",
       "<table border=\"1\" class=\"dataframe\">\n",
       "  <thead>\n",
       "    <tr style=\"text-align: right;\">\n",
       "      <th></th>\n",
       "      <th>Fiscal Year</th>\n",
       "      <th>Month (abbv)</th>\n",
       "      <th>Component</th>\n",
       "      <th>Demographic</th>\n",
       "      <th>Citizenship Grouping</th>\n",
       "      <th>Title of Authority</th>\n",
       "      <th>Encounter Type</th>\n",
       "      <th>Encounter Count</th>\n",
       "    </tr>\n",
       "  </thead>\n",
       "  <tbody>\n",
       "    <tr>\n",
       "      <th>0</th>\n",
       "      <td>2020</td>\n",
       "      <td>OCT</td>\n",
       "      <td>Office of Field Operations</td>\n",
       "      <td>Accompanied Minors</td>\n",
       "      <td>El Salvador</td>\n",
       "      <td>Title 8</td>\n",
       "      <td>Inadmissibles</td>\n",
       "      <td>2</td>\n",
       "    </tr>\n",
       "    <tr>\n",
       "      <th>1</th>\n",
       "      <td>2020</td>\n",
       "      <td>OCT</td>\n",
       "      <td>Office of Field Operations</td>\n",
       "      <td>Accompanied Minors</td>\n",
       "      <td>Guatemala</td>\n",
       "      <td>Title 8</td>\n",
       "      <td>Inadmissibles</td>\n",
       "      <td>1</td>\n",
       "    </tr>\n",
       "    <tr>\n",
       "      <th>2</th>\n",
       "      <td>2020</td>\n",
       "      <td>OCT</td>\n",
       "      <td>Office of Field Operations</td>\n",
       "      <td>Accompanied Minors</td>\n",
       "      <td>Mexico</td>\n",
       "      <td>Title 8</td>\n",
       "      <td>Inadmissibles</td>\n",
       "      <td>91</td>\n",
       "    </tr>\n",
       "    <tr>\n",
       "      <th>3</th>\n",
       "      <td>2020</td>\n",
       "      <td>OCT</td>\n",
       "      <td>Office of Field Operations</td>\n",
       "      <td>Accompanied Minors</td>\n",
       "      <td>Other</td>\n",
       "      <td>Title 8</td>\n",
       "      <td>Inadmissibles</td>\n",
       "      <td>8</td>\n",
       "    </tr>\n",
       "    <tr>\n",
       "      <th>4</th>\n",
       "      <td>2020</td>\n",
       "      <td>OCT</td>\n",
       "      <td>Office of Field Operations</td>\n",
       "      <td>FMUA</td>\n",
       "      <td>El Salvador</td>\n",
       "      <td>Title 8</td>\n",
       "      <td>Inadmissibles</td>\n",
       "      <td>38</td>\n",
       "    </tr>\n",
       "  </tbody>\n",
       "</table>\n",
       "</div>"
      ],
      "text/plain": [
       "  Fiscal Year Month (abbv)                   Component         Demographic  \\\n",
       "0        2020          OCT  Office of Field Operations  Accompanied Minors   \n",
       "1        2020          OCT  Office of Field Operations  Accompanied Minors   \n",
       "2        2020          OCT  Office of Field Operations  Accompanied Minors   \n",
       "3        2020          OCT  Office of Field Operations  Accompanied Minors   \n",
       "4        2020          OCT  Office of Field Operations                FMUA   \n",
       "\n",
       "  Citizenship Grouping Title of Authority Encounter Type  Encounter Count  \n",
       "0          El Salvador            Title 8  Inadmissibles                2  \n",
       "1            Guatemala            Title 8  Inadmissibles                1  \n",
       "2               Mexico            Title 8  Inadmissibles               91  \n",
       "3                Other            Title 8  Inadmissibles                8  \n",
       "4          El Salvador            Title 8  Inadmissibles               38  "
      ]
     },
     "execution_count": 773,
     "metadata": {},
     "output_type": "execute_result"
    }
   ],
   "source": [
    "Encounters1.head()"
   ]
  },
  {
   "cell_type": "markdown",
   "id": "fa389618",
   "metadata": {},
   "source": [
    "## Map columns to numeric"
   ]
  },
  {
   "cell_type": "markdown",
   "id": "b8b256c9",
   "metadata": {},
   "source": [
    "#### Demographic Column using mapping"
   ]
  },
  {
   "cell_type": "code",
   "execution_count": 774,
   "id": "cad6fd48",
   "metadata": {},
   "outputs": [],
   "source": [
    "demographic_category_mapping = {\n",
    "    'Accompanied Minors': 0,\n",
    "    'FMUA': 0,\n",
    "    'Single Adults': 0,\n",
    "    'UC / Single Minors': 1\n",
    "}"
   ]
  },
  {
   "cell_type": "code",
   "execution_count": 775,
   "id": "a8ddd099",
   "metadata": {},
   "outputs": [],
   "source": [
    "Encounters1['Demographic'] = Encounters1['Demographic'].map(demographic_category_mapping)"
   ]
  },
  {
   "cell_type": "code",
   "execution_count": 776,
   "id": "5ff8aaad",
   "metadata": {},
   "outputs": [],
   "source": [
    "Encounters1['Demographic'] = Encounters1['Demographic'].astype(int)"
   ]
  },
  {
   "cell_type": "code",
   "execution_count": 777,
   "id": "6b37c67f",
   "metadata": {},
   "outputs": [
    {
     "data": {
      "text/plain": [
       "0    0\n",
       "1    0\n",
       "2    0\n",
       "3    0\n",
       "4    0\n",
       "Name: Demographic, dtype: int64"
      ]
     },
     "execution_count": 777,
     "metadata": {},
     "output_type": "execute_result"
    }
   ],
   "source": [
    "Encounters1['Demographic'].head()"
   ]
  },
  {
   "cell_type": "code",
   "execution_count": 778,
   "id": "9ad1f60f",
   "metadata": {},
   "outputs": [
    {
     "data": {
      "text/plain": [
       "0    0\n",
       "1    0\n",
       "2    0\n",
       "3    0\n",
       "4    0\n",
       "Name: Demographic, dtype: int64"
      ]
     },
     "execution_count": 778,
     "metadata": {},
     "output_type": "execute_result"
    }
   ],
   "source": [
    "Encounters1['Demographic'].head()"
   ]
  },
  {
   "cell_type": "code",
   "execution_count": 779,
   "id": "585b63bd",
   "metadata": {},
   "outputs": [
    {
     "data": {
      "text/html": [
       "<div>\n",
       "<style scoped>\n",
       "    .dataframe tbody tr th:only-of-type {\n",
       "        vertical-align: middle;\n",
       "    }\n",
       "\n",
       "    .dataframe tbody tr th {\n",
       "        vertical-align: top;\n",
       "    }\n",
       "\n",
       "    .dataframe thead th {\n",
       "        text-align: right;\n",
       "    }\n",
       "</style>\n",
       "<table border=\"1\" class=\"dataframe\">\n",
       "  <thead>\n",
       "    <tr style=\"text-align: right;\">\n",
       "      <th></th>\n",
       "      <th>Fiscal Year</th>\n",
       "      <th>Month (abbv)</th>\n",
       "      <th>Component</th>\n",
       "      <th>Demographic</th>\n",
       "      <th>Citizenship Grouping</th>\n",
       "      <th>Title of Authority</th>\n",
       "      <th>Encounter Type</th>\n",
       "      <th>Encounter Count</th>\n",
       "    </tr>\n",
       "  </thead>\n",
       "  <tbody>\n",
       "    <tr>\n",
       "      <th>0</th>\n",
       "      <td>2020</td>\n",
       "      <td>OCT</td>\n",
       "      <td>Office of Field Operations</td>\n",
       "      <td>0</td>\n",
       "      <td>El Salvador</td>\n",
       "      <td>Title 8</td>\n",
       "      <td>Inadmissibles</td>\n",
       "      <td>2</td>\n",
       "    </tr>\n",
       "    <tr>\n",
       "      <th>1</th>\n",
       "      <td>2020</td>\n",
       "      <td>OCT</td>\n",
       "      <td>Office of Field Operations</td>\n",
       "      <td>0</td>\n",
       "      <td>Guatemala</td>\n",
       "      <td>Title 8</td>\n",
       "      <td>Inadmissibles</td>\n",
       "      <td>1</td>\n",
       "    </tr>\n",
       "    <tr>\n",
       "      <th>2</th>\n",
       "      <td>2020</td>\n",
       "      <td>OCT</td>\n",
       "      <td>Office of Field Operations</td>\n",
       "      <td>0</td>\n",
       "      <td>Mexico</td>\n",
       "      <td>Title 8</td>\n",
       "      <td>Inadmissibles</td>\n",
       "      <td>91</td>\n",
       "    </tr>\n",
       "    <tr>\n",
       "      <th>3</th>\n",
       "      <td>2020</td>\n",
       "      <td>OCT</td>\n",
       "      <td>Office of Field Operations</td>\n",
       "      <td>0</td>\n",
       "      <td>Other</td>\n",
       "      <td>Title 8</td>\n",
       "      <td>Inadmissibles</td>\n",
       "      <td>8</td>\n",
       "    </tr>\n",
       "    <tr>\n",
       "      <th>4</th>\n",
       "      <td>2020</td>\n",
       "      <td>OCT</td>\n",
       "      <td>Office of Field Operations</td>\n",
       "      <td>0</td>\n",
       "      <td>El Salvador</td>\n",
       "      <td>Title 8</td>\n",
       "      <td>Inadmissibles</td>\n",
       "      <td>38</td>\n",
       "    </tr>\n",
       "  </tbody>\n",
       "</table>\n",
       "</div>"
      ],
      "text/plain": [
       "  Fiscal Year Month (abbv)                   Component  Demographic  \\\n",
       "0        2020          OCT  Office of Field Operations            0   \n",
       "1        2020          OCT  Office of Field Operations            0   \n",
       "2        2020          OCT  Office of Field Operations            0   \n",
       "3        2020          OCT  Office of Field Operations            0   \n",
       "4        2020          OCT  Office of Field Operations            0   \n",
       "\n",
       "  Citizenship Grouping Title of Authority Encounter Type  Encounter Count  \n",
       "0          El Salvador            Title 8  Inadmissibles                2  \n",
       "1            Guatemala            Title 8  Inadmissibles                1  \n",
       "2               Mexico            Title 8  Inadmissibles               91  \n",
       "3                Other            Title 8  Inadmissibles                8  \n",
       "4          El Salvador            Title 8  Inadmissibles               38  "
      ]
     },
     "execution_count": 779,
     "metadata": {},
     "output_type": "execute_result"
    }
   ],
   "source": [
    "Encounters1.head()"
   ]
  },
  {
   "cell_type": "code",
   "execution_count": null,
   "id": "f3fea9d0",
   "metadata": {},
   "outputs": [],
   "source": []
  },
  {
   "cell_type": "markdown",
   "id": "168d9735",
   "metadata": {},
   "source": [
    "   #### Fiscal Year Column using mapping"
   ]
  },
  {
   "cell_type": "code",
   "execution_count": 780,
   "id": "ad583477",
   "metadata": {},
   "outputs": [],
   "source": [
    "unique_categories = Encounters1['Fiscal Year'].unique()"
   ]
  },
  {
   "cell_type": "code",
   "execution_count": 781,
   "id": "47022529",
   "metadata": {
    "scrolled": true
   },
   "outputs": [
    {
     "name": "stdout",
     "output_type": "stream",
     "text": [
      "2020\n",
      "2021\n",
      "2022\n",
      "2023 (FYTD)\n"
     ]
    }
   ],
   "source": [
    "for category in unique_categories:\n",
    "    print(category)"
   ]
  },
  {
   "cell_type": "code",
   "execution_count": 782,
   "id": "6af16422",
   "metadata": {
    "scrolled": true
   },
   "outputs": [],
   "source": [
    "\n",
    "fiscalyear_mapping = {\n",
    "    '2020': 20,\n",
    "    '2021': 21,\n",
    "    '2022': 22,\n",
    "    '2023 (FYTD)': 23,\n",
    "}\n",
    "\n",
    "Encounters1['Fiscal Year'] = Encounters1['Fiscal Year'].map(fiscalyear_mapping)"
   ]
  },
  {
   "cell_type": "code",
   "execution_count": 783,
   "id": "17c090b2",
   "metadata": {},
   "outputs": [],
   "source": [
    "Encounters1['Fiscal Year'] = Encounters1['Fiscal Year'].fillna(0).astype(int)"
   ]
  },
  {
   "cell_type": "code",
   "execution_count": 784,
   "id": "a97f7fd9",
   "metadata": {},
   "outputs": [],
   "source": [
    "Encounters1['Fiscal Year'] = Encounters1['Fiscal Year'].astype(int)"
   ]
  },
  {
   "cell_type": "code",
   "execution_count": 785,
   "id": "ffe3795e",
   "metadata": {
    "scrolled": true
   },
   "outputs": [
    {
     "data": {
      "text/plain": [
       "0    0\n",
       "1    0\n",
       "2    0\n",
       "3    0\n",
       "4    0\n",
       "Name: Fiscal Year, dtype: int64"
      ]
     },
     "execution_count": 785,
     "metadata": {},
     "output_type": "execute_result"
    }
   ],
   "source": [
    "Encounters1['Fiscal Year'].head()"
   ]
  },
  {
   "cell_type": "code",
   "execution_count": 786,
   "id": "a7c1cdf7",
   "metadata": {},
   "outputs": [
    {
     "data": {
      "text/html": [
       "<div>\n",
       "<style scoped>\n",
       "    .dataframe tbody tr th:only-of-type {\n",
       "        vertical-align: middle;\n",
       "    }\n",
       "\n",
       "    .dataframe tbody tr th {\n",
       "        vertical-align: top;\n",
       "    }\n",
       "\n",
       "    .dataframe thead th {\n",
       "        text-align: right;\n",
       "    }\n",
       "</style>\n",
       "<table border=\"1\" class=\"dataframe\">\n",
       "  <thead>\n",
       "    <tr style=\"text-align: right;\">\n",
       "      <th></th>\n",
       "      <th>Fiscal Year</th>\n",
       "      <th>Month (abbv)</th>\n",
       "      <th>Component</th>\n",
       "      <th>Demographic</th>\n",
       "      <th>Citizenship Grouping</th>\n",
       "      <th>Title of Authority</th>\n",
       "      <th>Encounter Type</th>\n",
       "      <th>Encounter Count</th>\n",
       "    </tr>\n",
       "  </thead>\n",
       "  <tbody>\n",
       "    <tr>\n",
       "      <th>0</th>\n",
       "      <td>0</td>\n",
       "      <td>OCT</td>\n",
       "      <td>Office of Field Operations</td>\n",
       "      <td>0</td>\n",
       "      <td>El Salvador</td>\n",
       "      <td>Title 8</td>\n",
       "      <td>Inadmissibles</td>\n",
       "      <td>2</td>\n",
       "    </tr>\n",
       "    <tr>\n",
       "      <th>1</th>\n",
       "      <td>0</td>\n",
       "      <td>OCT</td>\n",
       "      <td>Office of Field Operations</td>\n",
       "      <td>0</td>\n",
       "      <td>Guatemala</td>\n",
       "      <td>Title 8</td>\n",
       "      <td>Inadmissibles</td>\n",
       "      <td>1</td>\n",
       "    </tr>\n",
       "    <tr>\n",
       "      <th>2</th>\n",
       "      <td>0</td>\n",
       "      <td>OCT</td>\n",
       "      <td>Office of Field Operations</td>\n",
       "      <td>0</td>\n",
       "      <td>Mexico</td>\n",
       "      <td>Title 8</td>\n",
       "      <td>Inadmissibles</td>\n",
       "      <td>91</td>\n",
       "    </tr>\n",
       "    <tr>\n",
       "      <th>3</th>\n",
       "      <td>0</td>\n",
       "      <td>OCT</td>\n",
       "      <td>Office of Field Operations</td>\n",
       "      <td>0</td>\n",
       "      <td>Other</td>\n",
       "      <td>Title 8</td>\n",
       "      <td>Inadmissibles</td>\n",
       "      <td>8</td>\n",
       "    </tr>\n",
       "    <tr>\n",
       "      <th>4</th>\n",
       "      <td>0</td>\n",
       "      <td>OCT</td>\n",
       "      <td>Office of Field Operations</td>\n",
       "      <td>0</td>\n",
       "      <td>El Salvador</td>\n",
       "      <td>Title 8</td>\n",
       "      <td>Inadmissibles</td>\n",
       "      <td>38</td>\n",
       "    </tr>\n",
       "  </tbody>\n",
       "</table>\n",
       "</div>"
      ],
      "text/plain": [
       "   Fiscal Year Month (abbv)                   Component  Demographic  \\\n",
       "0            0          OCT  Office of Field Operations            0   \n",
       "1            0          OCT  Office of Field Operations            0   \n",
       "2            0          OCT  Office of Field Operations            0   \n",
       "3            0          OCT  Office of Field Operations            0   \n",
       "4            0          OCT  Office of Field Operations            0   \n",
       "\n",
       "  Citizenship Grouping Title of Authority Encounter Type  Encounter Count  \n",
       "0          El Salvador            Title 8  Inadmissibles                2  \n",
       "1            Guatemala            Title 8  Inadmissibles                1  \n",
       "2               Mexico            Title 8  Inadmissibles               91  \n",
       "3                Other            Title 8  Inadmissibles                8  \n",
       "4          El Salvador            Title 8  Inadmissibles               38  "
      ]
     },
     "execution_count": 786,
     "metadata": {},
     "output_type": "execute_result"
    }
   ],
   "source": [
    "Encounters1.head()"
   ]
  },
  {
   "cell_type": "code",
   "execution_count": 841,
   "id": "b4f7792c",
   "metadata": {},
   "outputs": [
    {
     "data": {
      "text/plain": [
       "0     1844\n",
       "23     378\n",
       "Name: Fiscal Year, dtype: int64"
      ]
     },
     "execution_count": 841,
     "metadata": {},
     "output_type": "execute_result"
    }
   ],
   "source": [
    "Encounters1['Fiscal Year'].value_counts()"
   ]
  },
  {
   "cell_type": "markdown",
   "id": "2ec1a44d",
   "metadata": {},
   "source": [
    "#### Recoding Month by mapping"
   ]
  },
  {
   "cell_type": "code",
   "execution_count": 787,
   "id": "469b9d39",
   "metadata": {},
   "outputs": [],
   "source": [
    "Encounters1['Month (abbv)'] = Encounters1['Month (abbv)'].map(month_mapping)\n",
    "month_mapping = {\n",
    "    'JAN': 1,\n",
    "    'FEB': 2,\n",
    "    'MAR': 3,\n",
    "    'APR': 4,\n",
    "    'MAY': 5,\n",
    "    'JUN': 6,\n",
    "    'JUL': 7,\n",
    "    'AUG': 8,\n",
    "    'SEP': 9,\n",
    "    'OCT': 10,\n",
    "    'NOV': 11,\n",
    "    'DEC': 12\n",
    "}\n"
   ]
  },
  {
   "cell_type": "code",
   "execution_count": 788,
   "id": "2f6f1e58",
   "metadata": {},
   "outputs": [],
   "source": [
    "Encounters1['Month (abbv)'] = Encounters1['Month (abbv)'].astype(int)"
   ]
  },
  {
   "cell_type": "code",
   "execution_count": 789,
   "id": "8b6e217e",
   "metadata": {},
   "outputs": [
    {
     "data": {
      "text/plain": [
       "0    10\n",
       "1    10\n",
       "2    10\n",
       "3    10\n",
       "4    10\n",
       "Name: Month (abbv), dtype: int64"
      ]
     },
     "execution_count": 789,
     "metadata": {},
     "output_type": "execute_result"
    }
   ],
   "source": [
    "Encounters1['Month (abbv)'].head()"
   ]
  },
  {
   "cell_type": "code",
   "execution_count": 790,
   "id": "f777f0c8",
   "metadata": {},
   "outputs": [
    {
     "data": {
      "text/html": [
       "<div>\n",
       "<style scoped>\n",
       "    .dataframe tbody tr th:only-of-type {\n",
       "        vertical-align: middle;\n",
       "    }\n",
       "\n",
       "    .dataframe tbody tr th {\n",
       "        vertical-align: top;\n",
       "    }\n",
       "\n",
       "    .dataframe thead th {\n",
       "        text-align: right;\n",
       "    }\n",
       "</style>\n",
       "<table border=\"1\" class=\"dataframe\">\n",
       "  <thead>\n",
       "    <tr style=\"text-align: right;\">\n",
       "      <th></th>\n",
       "      <th>Fiscal Year</th>\n",
       "      <th>Month (abbv)</th>\n",
       "      <th>Component</th>\n",
       "      <th>Demographic</th>\n",
       "      <th>Citizenship Grouping</th>\n",
       "      <th>Title of Authority</th>\n",
       "      <th>Encounter Type</th>\n",
       "      <th>Encounter Count</th>\n",
       "    </tr>\n",
       "  </thead>\n",
       "  <tbody>\n",
       "    <tr>\n",
       "      <th>0</th>\n",
       "      <td>0</td>\n",
       "      <td>10</td>\n",
       "      <td>Office of Field Operations</td>\n",
       "      <td>0</td>\n",
       "      <td>El Salvador</td>\n",
       "      <td>Title 8</td>\n",
       "      <td>Inadmissibles</td>\n",
       "      <td>2</td>\n",
       "    </tr>\n",
       "    <tr>\n",
       "      <th>1</th>\n",
       "      <td>0</td>\n",
       "      <td>10</td>\n",
       "      <td>Office of Field Operations</td>\n",
       "      <td>0</td>\n",
       "      <td>Guatemala</td>\n",
       "      <td>Title 8</td>\n",
       "      <td>Inadmissibles</td>\n",
       "      <td>1</td>\n",
       "    </tr>\n",
       "    <tr>\n",
       "      <th>2</th>\n",
       "      <td>0</td>\n",
       "      <td>10</td>\n",
       "      <td>Office of Field Operations</td>\n",
       "      <td>0</td>\n",
       "      <td>Mexico</td>\n",
       "      <td>Title 8</td>\n",
       "      <td>Inadmissibles</td>\n",
       "      <td>91</td>\n",
       "    </tr>\n",
       "    <tr>\n",
       "      <th>3</th>\n",
       "      <td>0</td>\n",
       "      <td>10</td>\n",
       "      <td>Office of Field Operations</td>\n",
       "      <td>0</td>\n",
       "      <td>Other</td>\n",
       "      <td>Title 8</td>\n",
       "      <td>Inadmissibles</td>\n",
       "      <td>8</td>\n",
       "    </tr>\n",
       "    <tr>\n",
       "      <th>4</th>\n",
       "      <td>0</td>\n",
       "      <td>10</td>\n",
       "      <td>Office of Field Operations</td>\n",
       "      <td>0</td>\n",
       "      <td>El Salvador</td>\n",
       "      <td>Title 8</td>\n",
       "      <td>Inadmissibles</td>\n",
       "      <td>38</td>\n",
       "    </tr>\n",
       "  </tbody>\n",
       "</table>\n",
       "</div>"
      ],
      "text/plain": [
       "   Fiscal Year  Month (abbv)                   Component  Demographic  \\\n",
       "0            0            10  Office of Field Operations            0   \n",
       "1            0            10  Office of Field Operations            0   \n",
       "2            0            10  Office of Field Operations            0   \n",
       "3            0            10  Office of Field Operations            0   \n",
       "4            0            10  Office of Field Operations            0   \n",
       "\n",
       "  Citizenship Grouping Title of Authority Encounter Type  Encounter Count  \n",
       "0          El Salvador            Title 8  Inadmissibles                2  \n",
       "1            Guatemala            Title 8  Inadmissibles                1  \n",
       "2               Mexico            Title 8  Inadmissibles               91  \n",
       "3                Other            Title 8  Inadmissibles                8  \n",
       "4          El Salvador            Title 8  Inadmissibles               38  "
      ]
     },
     "execution_count": 790,
     "metadata": {},
     "output_type": "execute_result"
    }
   ],
   "source": [
    "Encounters1.head()"
   ]
  },
  {
   "cell_type": "markdown",
   "id": "6ffb82c1",
   "metadata": {},
   "source": [
    "#### Citizenship Grouping recode with mapping"
   ]
  },
  {
   "cell_type": "code",
   "execution_count": 791,
   "id": "ebfa24a3",
   "metadata": {},
   "outputs": [],
   "source": [
    "unique_categories = Encounters1['Citizenship Grouping'].unique()"
   ]
  },
  {
   "cell_type": "code",
   "execution_count": 792,
   "id": "0be42478",
   "metadata": {},
   "outputs": [
    {
     "name": "stdout",
     "output_type": "stream",
     "text": [
      "El Salvador\n",
      "Guatemala\n",
      "Mexico\n",
      "Other\n",
      "Honduras\n"
     ]
    }
   ],
   "source": [
    "for category in unique_categories:\n",
    "    print(category)"
   ]
  },
  {
   "cell_type": "code",
   "execution_count": 793,
   "id": "760ca723",
   "metadata": {},
   "outputs": [],
   "source": [
    "citizenship_mapping = {\n",
    "    'El Salvador': 5,\n",
    "    'Guatemala': 6,\n",
    "    'Mexico': 7,\n",
    "    'Other': 8,\n",
    "    'Honduras': 9,\n",
    "}"
   ]
  },
  {
   "cell_type": "code",
   "execution_count": 794,
   "id": "48908c61",
   "metadata": {},
   "outputs": [],
   "source": [
    "Encounters1['Citizenship Grouping'] = Encounters1['Citizenship Grouping'].map(citizenship_mapping)\n"
   ]
  },
  {
   "cell_type": "code",
   "execution_count": 795,
   "id": "064eb4f3",
   "metadata": {},
   "outputs": [
    {
     "data": {
      "text/plain": [
       "0    5\n",
       "1    6\n",
       "2    7\n",
       "3    8\n",
       "4    5\n",
       "Name: Citizenship Grouping, dtype: int64"
      ]
     },
     "execution_count": 795,
     "metadata": {},
     "output_type": "execute_result"
    }
   ],
   "source": [
    "Encounters1['Citizenship Grouping'].head()"
   ]
  },
  {
   "cell_type": "code",
   "execution_count": 796,
   "id": "c7470c35",
   "metadata": {},
   "outputs": [
    {
     "data": {
      "text/html": [
       "<div>\n",
       "<style scoped>\n",
       "    .dataframe tbody tr th:only-of-type {\n",
       "        vertical-align: middle;\n",
       "    }\n",
       "\n",
       "    .dataframe tbody tr th {\n",
       "        vertical-align: top;\n",
       "    }\n",
       "\n",
       "    .dataframe thead th {\n",
       "        text-align: right;\n",
       "    }\n",
       "</style>\n",
       "<table border=\"1\" class=\"dataframe\">\n",
       "  <thead>\n",
       "    <tr style=\"text-align: right;\">\n",
       "      <th></th>\n",
       "      <th>Fiscal Year</th>\n",
       "      <th>Month (abbv)</th>\n",
       "      <th>Component</th>\n",
       "      <th>Demographic</th>\n",
       "      <th>Citizenship Grouping</th>\n",
       "      <th>Title of Authority</th>\n",
       "      <th>Encounter Type</th>\n",
       "      <th>Encounter Count</th>\n",
       "    </tr>\n",
       "  </thead>\n",
       "  <tbody>\n",
       "    <tr>\n",
       "      <th>0</th>\n",
       "      <td>0</td>\n",
       "      <td>10</td>\n",
       "      <td>Office of Field Operations</td>\n",
       "      <td>0</td>\n",
       "      <td>5</td>\n",
       "      <td>Title 8</td>\n",
       "      <td>Inadmissibles</td>\n",
       "      <td>2</td>\n",
       "    </tr>\n",
       "    <tr>\n",
       "      <th>1</th>\n",
       "      <td>0</td>\n",
       "      <td>10</td>\n",
       "      <td>Office of Field Operations</td>\n",
       "      <td>0</td>\n",
       "      <td>6</td>\n",
       "      <td>Title 8</td>\n",
       "      <td>Inadmissibles</td>\n",
       "      <td>1</td>\n",
       "    </tr>\n",
       "    <tr>\n",
       "      <th>2</th>\n",
       "      <td>0</td>\n",
       "      <td>10</td>\n",
       "      <td>Office of Field Operations</td>\n",
       "      <td>0</td>\n",
       "      <td>7</td>\n",
       "      <td>Title 8</td>\n",
       "      <td>Inadmissibles</td>\n",
       "      <td>91</td>\n",
       "    </tr>\n",
       "    <tr>\n",
       "      <th>3</th>\n",
       "      <td>0</td>\n",
       "      <td>10</td>\n",
       "      <td>Office of Field Operations</td>\n",
       "      <td>0</td>\n",
       "      <td>8</td>\n",
       "      <td>Title 8</td>\n",
       "      <td>Inadmissibles</td>\n",
       "      <td>8</td>\n",
       "    </tr>\n",
       "    <tr>\n",
       "      <th>4</th>\n",
       "      <td>0</td>\n",
       "      <td>10</td>\n",
       "      <td>Office of Field Operations</td>\n",
       "      <td>0</td>\n",
       "      <td>5</td>\n",
       "      <td>Title 8</td>\n",
       "      <td>Inadmissibles</td>\n",
       "      <td>38</td>\n",
       "    </tr>\n",
       "  </tbody>\n",
       "</table>\n",
       "</div>"
      ],
      "text/plain": [
       "   Fiscal Year  Month (abbv)                   Component  Demographic  \\\n",
       "0            0            10  Office of Field Operations            0   \n",
       "1            0            10  Office of Field Operations            0   \n",
       "2            0            10  Office of Field Operations            0   \n",
       "3            0            10  Office of Field Operations            0   \n",
       "4            0            10  Office of Field Operations            0   \n",
       "\n",
       "   Citizenship Grouping Title of Authority Encounter Type  Encounter Count  \n",
       "0                     5            Title 8  Inadmissibles                2  \n",
       "1                     6            Title 8  Inadmissibles                1  \n",
       "2                     7            Title 8  Inadmissibles               91  \n",
       "3                     8            Title 8  Inadmissibles                8  \n",
       "4                     5            Title 8  Inadmissibles               38  "
      ]
     },
     "execution_count": 796,
     "metadata": {},
     "output_type": "execute_result"
    }
   ],
   "source": [
    "(Encounters1).head()"
   ]
  },
  {
   "cell_type": "markdown",
   "id": "0b625a71",
   "metadata": {},
   "source": [
    "#### Component recoding with mapping"
   ]
  },
  {
   "cell_type": "code",
   "execution_count": 797,
   "id": "06b4e6aa",
   "metadata": {},
   "outputs": [],
   "source": [
    "unique_categories = Encounters1['Component'].unique()"
   ]
  },
  {
   "cell_type": "code",
   "execution_count": 798,
   "id": "7532f583",
   "metadata": {},
   "outputs": [
    {
     "name": "stdout",
     "output_type": "stream",
     "text": [
      "Office of Field Operations\n",
      "U.S. Border Patrol\n"
     ]
    }
   ],
   "source": [
    "for category in unique_categories:\n",
    "    print(category)"
   ]
  },
  {
   "cell_type": "code",
   "execution_count": 799,
   "id": "fd5a9709",
   "metadata": {},
   "outputs": [],
   "source": [
    "component_mapping = {\n",
    "    'Office of Field Operations': 10,\n",
    "    'U.S. Border Patrol': 20,\n",
    "}"
   ]
  },
  {
   "cell_type": "code",
   "execution_count": 800,
   "id": "d22d3f7f",
   "metadata": {},
   "outputs": [],
   "source": [
    "Encounters1['Component'] = Encounters1['Component'].map(component_mapping)\n"
   ]
  },
  {
   "cell_type": "code",
   "execution_count": 801,
   "id": "8291f4b1",
   "metadata": {},
   "outputs": [
    {
     "data": {
      "text/plain": [
       "0    10\n",
       "1    10\n",
       "2    10\n",
       "3    10\n",
       "4    10\n",
       "Name: Component, dtype: int64"
      ]
     },
     "execution_count": 801,
     "metadata": {},
     "output_type": "execute_result"
    }
   ],
   "source": [
    "Encounters1['Component'].head()"
   ]
  },
  {
   "cell_type": "code",
   "execution_count": 802,
   "id": "7b73b175",
   "metadata": {
    "scrolled": true
   },
   "outputs": [
    {
     "data": {
      "text/html": [
       "<div>\n",
       "<style scoped>\n",
       "    .dataframe tbody tr th:only-of-type {\n",
       "        vertical-align: middle;\n",
       "    }\n",
       "\n",
       "    .dataframe tbody tr th {\n",
       "        vertical-align: top;\n",
       "    }\n",
       "\n",
       "    .dataframe thead th {\n",
       "        text-align: right;\n",
       "    }\n",
       "</style>\n",
       "<table border=\"1\" class=\"dataframe\">\n",
       "  <thead>\n",
       "    <tr style=\"text-align: right;\">\n",
       "      <th></th>\n",
       "      <th>Fiscal Year</th>\n",
       "      <th>Month (abbv)</th>\n",
       "      <th>Component</th>\n",
       "      <th>Demographic</th>\n",
       "      <th>Citizenship Grouping</th>\n",
       "      <th>Title of Authority</th>\n",
       "      <th>Encounter Type</th>\n",
       "      <th>Encounter Count</th>\n",
       "    </tr>\n",
       "  </thead>\n",
       "  <tbody>\n",
       "    <tr>\n",
       "      <th>0</th>\n",
       "      <td>0</td>\n",
       "      <td>10</td>\n",
       "      <td>10</td>\n",
       "      <td>0</td>\n",
       "      <td>5</td>\n",
       "      <td>Title 8</td>\n",
       "      <td>Inadmissibles</td>\n",
       "      <td>2</td>\n",
       "    </tr>\n",
       "    <tr>\n",
       "      <th>1</th>\n",
       "      <td>0</td>\n",
       "      <td>10</td>\n",
       "      <td>10</td>\n",
       "      <td>0</td>\n",
       "      <td>6</td>\n",
       "      <td>Title 8</td>\n",
       "      <td>Inadmissibles</td>\n",
       "      <td>1</td>\n",
       "    </tr>\n",
       "    <tr>\n",
       "      <th>2</th>\n",
       "      <td>0</td>\n",
       "      <td>10</td>\n",
       "      <td>10</td>\n",
       "      <td>0</td>\n",
       "      <td>7</td>\n",
       "      <td>Title 8</td>\n",
       "      <td>Inadmissibles</td>\n",
       "      <td>91</td>\n",
       "    </tr>\n",
       "    <tr>\n",
       "      <th>3</th>\n",
       "      <td>0</td>\n",
       "      <td>10</td>\n",
       "      <td>10</td>\n",
       "      <td>0</td>\n",
       "      <td>8</td>\n",
       "      <td>Title 8</td>\n",
       "      <td>Inadmissibles</td>\n",
       "      <td>8</td>\n",
       "    </tr>\n",
       "    <tr>\n",
       "      <th>4</th>\n",
       "      <td>0</td>\n",
       "      <td>10</td>\n",
       "      <td>10</td>\n",
       "      <td>0</td>\n",
       "      <td>5</td>\n",
       "      <td>Title 8</td>\n",
       "      <td>Inadmissibles</td>\n",
       "      <td>38</td>\n",
       "    </tr>\n",
       "  </tbody>\n",
       "</table>\n",
       "</div>"
      ],
      "text/plain": [
       "   Fiscal Year  Month (abbv)  Component  Demographic  Citizenship Grouping  \\\n",
       "0            0            10         10            0                     5   \n",
       "1            0            10         10            0                     6   \n",
       "2            0            10         10            0                     7   \n",
       "3            0            10         10            0                     8   \n",
       "4            0            10         10            0                     5   \n",
       "\n",
       "  Title of Authority Encounter Type  Encounter Count  \n",
       "0            Title 8  Inadmissibles                2  \n",
       "1            Title 8  Inadmissibles                1  \n",
       "2            Title 8  Inadmissibles               91  \n",
       "3            Title 8  Inadmissibles                8  \n",
       "4            Title 8  Inadmissibles               38  "
      ]
     },
     "execution_count": 802,
     "metadata": {},
     "output_type": "execute_result"
    }
   ],
   "source": [
    "Encounters1.head()"
   ]
  },
  {
   "cell_type": "markdown",
   "id": "0b83909c",
   "metadata": {},
   "source": [
    "#### Recoding Title of Authority with mapping"
   ]
  },
  {
   "cell_type": "code",
   "execution_count": 803,
   "id": "765e57c6",
   "metadata": {},
   "outputs": [],
   "source": [
    "unique_categories = Encounters1['Title of Authority'].unique()"
   ]
  },
  {
   "cell_type": "code",
   "execution_count": 804,
   "id": "604bf4fc",
   "metadata": {},
   "outputs": [
    {
     "name": "stdout",
     "output_type": "stream",
     "text": [
      "Title 8\n",
      "Title 42\n"
     ]
    }
   ],
   "source": [
    "for category in unique_categories:\n",
    "    print(category)"
   ]
  },
  {
   "cell_type": "code",
   "execution_count": 805,
   "id": "ed2340f7",
   "metadata": {},
   "outputs": [],
   "source": [
    "authority_mapping = {\n",
    "    'Title 8': 8,\n",
    "    'Title 42': 42,\n",
    "}"
   ]
  },
  {
   "cell_type": "code",
   "execution_count": 806,
   "id": "a39a3b6f",
   "metadata": {},
   "outputs": [],
   "source": [
    "Encounters1['Title of Authority'] = Encounters1['Title of Authority'].map(authority_mapping)"
   ]
  },
  {
   "cell_type": "code",
   "execution_count": 807,
   "id": "b098cb9a",
   "metadata": {},
   "outputs": [
    {
     "data": {
      "text/plain": [
       "0    8\n",
       "1    8\n",
       "2    8\n",
       "3    8\n",
       "4    8\n",
       "Name: Title of Authority, dtype: int64"
      ]
     },
     "execution_count": 807,
     "metadata": {},
     "output_type": "execute_result"
    }
   ],
   "source": [
    "Encounters1['Title of Authority'].head()"
   ]
  },
  {
   "cell_type": "code",
   "execution_count": 808,
   "id": "5ef411a4",
   "metadata": {},
   "outputs": [
    {
     "data": {
      "text/html": [
       "<div>\n",
       "<style scoped>\n",
       "    .dataframe tbody tr th:only-of-type {\n",
       "        vertical-align: middle;\n",
       "    }\n",
       "\n",
       "    .dataframe tbody tr th {\n",
       "        vertical-align: top;\n",
       "    }\n",
       "\n",
       "    .dataframe thead th {\n",
       "        text-align: right;\n",
       "    }\n",
       "</style>\n",
       "<table border=\"1\" class=\"dataframe\">\n",
       "  <thead>\n",
       "    <tr style=\"text-align: right;\">\n",
       "      <th></th>\n",
       "      <th>Fiscal Year</th>\n",
       "      <th>Month (abbv)</th>\n",
       "      <th>Component</th>\n",
       "      <th>Demographic</th>\n",
       "      <th>Citizenship Grouping</th>\n",
       "      <th>Title of Authority</th>\n",
       "      <th>Encounter Type</th>\n",
       "      <th>Encounter Count</th>\n",
       "    </tr>\n",
       "  </thead>\n",
       "  <tbody>\n",
       "    <tr>\n",
       "      <th>0</th>\n",
       "      <td>0</td>\n",
       "      <td>10</td>\n",
       "      <td>10</td>\n",
       "      <td>0</td>\n",
       "      <td>5</td>\n",
       "      <td>8</td>\n",
       "      <td>Inadmissibles</td>\n",
       "      <td>2</td>\n",
       "    </tr>\n",
       "    <tr>\n",
       "      <th>1</th>\n",
       "      <td>0</td>\n",
       "      <td>10</td>\n",
       "      <td>10</td>\n",
       "      <td>0</td>\n",
       "      <td>6</td>\n",
       "      <td>8</td>\n",
       "      <td>Inadmissibles</td>\n",
       "      <td>1</td>\n",
       "    </tr>\n",
       "    <tr>\n",
       "      <th>2</th>\n",
       "      <td>0</td>\n",
       "      <td>10</td>\n",
       "      <td>10</td>\n",
       "      <td>0</td>\n",
       "      <td>7</td>\n",
       "      <td>8</td>\n",
       "      <td>Inadmissibles</td>\n",
       "      <td>91</td>\n",
       "    </tr>\n",
       "    <tr>\n",
       "      <th>3</th>\n",
       "      <td>0</td>\n",
       "      <td>10</td>\n",
       "      <td>10</td>\n",
       "      <td>0</td>\n",
       "      <td>8</td>\n",
       "      <td>8</td>\n",
       "      <td>Inadmissibles</td>\n",
       "      <td>8</td>\n",
       "    </tr>\n",
       "    <tr>\n",
       "      <th>4</th>\n",
       "      <td>0</td>\n",
       "      <td>10</td>\n",
       "      <td>10</td>\n",
       "      <td>0</td>\n",
       "      <td>5</td>\n",
       "      <td>8</td>\n",
       "      <td>Inadmissibles</td>\n",
       "      <td>38</td>\n",
       "    </tr>\n",
       "  </tbody>\n",
       "</table>\n",
       "</div>"
      ],
      "text/plain": [
       "   Fiscal Year  Month (abbv)  Component  Demographic  Citizenship Grouping  \\\n",
       "0            0            10         10            0                     5   \n",
       "1            0            10         10            0                     6   \n",
       "2            0            10         10            0                     7   \n",
       "3            0            10         10            0                     8   \n",
       "4            0            10         10            0                     5   \n",
       "\n",
       "   Title of Authority Encounter Type  Encounter Count  \n",
       "0                   8  Inadmissibles                2  \n",
       "1                   8  Inadmissibles                1  \n",
       "2                   8  Inadmissibles               91  \n",
       "3                   8  Inadmissibles                8  \n",
       "4                   8  Inadmissibles               38  "
      ]
     },
     "execution_count": 808,
     "metadata": {},
     "output_type": "execute_result"
    }
   ],
   "source": [
    "Encounters1.head()"
   ]
  },
  {
   "cell_type": "markdown",
   "id": "b10e5303",
   "metadata": {},
   "source": [
    "#### Recoding Encounter Type"
   ]
  },
  {
   "cell_type": "code",
   "execution_count": 833,
   "id": "ff3a8218",
   "metadata": {},
   "outputs": [],
   "source": [
    "unique_categories = Encounters1['Encounter Type'].unique()"
   ]
  },
  {
   "cell_type": "code",
   "execution_count": 834,
   "id": "150991c7",
   "metadata": {},
   "outputs": [
    {
     "name": "stdout",
     "output_type": "stream",
     "text": [
      "0\n"
     ]
    }
   ],
   "source": [
    "for category in unique_categories:\n",
    "    print(category)"
   ]
  },
  {
   "cell_type": "code",
   "execution_count": 835,
   "id": "35cea397",
   "metadata": {},
   "outputs": [],
   "source": [
    "encountertype_mapping = {\n",
    "    'Inadmissibles': 1,\n",
    "    'Apprehensions': 2,\n",
    "    'Expulsions': 0\n",
    "}"
   ]
  },
  {
   "cell_type": "code",
   "execution_count": 836,
   "id": "e1b65597",
   "metadata": {},
   "outputs": [],
   "source": [
    "Encounters1['Encounter Type'] = Encounters1['Encounter Type'].map(encountertype_mapping)"
   ]
  },
  {
   "cell_type": "code",
   "execution_count": 837,
   "id": "176db583",
   "metadata": {},
   "outputs": [],
   "source": [
    "Encounters1['Encounter Type'] = Encounters1['Encounter Type'].fillna(0).astype(int)"
   ]
  },
  {
   "cell_type": "code",
   "execution_count": 838,
   "id": "54056833",
   "metadata": {},
   "outputs": [
    {
     "data": {
      "text/plain": [
       "0    0\n",
       "1    0\n",
       "2    0\n",
       "3    0\n",
       "4    0\n",
       "Name: Encounter Type, dtype: int64"
      ]
     },
     "execution_count": 838,
     "metadata": {},
     "output_type": "execute_result"
    }
   ],
   "source": [
    "Encounters1['Encounter Type'].head()"
   ]
  },
  {
   "cell_type": "code",
   "execution_count": 839,
   "id": "6162216b",
   "metadata": {},
   "outputs": [
    {
     "data": {
      "text/html": [
       "<div>\n",
       "<style scoped>\n",
       "    .dataframe tbody tr th:only-of-type {\n",
       "        vertical-align: middle;\n",
       "    }\n",
       "\n",
       "    .dataframe tbody tr th {\n",
       "        vertical-align: top;\n",
       "    }\n",
       "\n",
       "    .dataframe thead th {\n",
       "        text-align: right;\n",
       "    }\n",
       "</style>\n",
       "<table border=\"1\" class=\"dataframe\">\n",
       "  <thead>\n",
       "    <tr style=\"text-align: right;\">\n",
       "      <th></th>\n",
       "      <th>Fiscal Year</th>\n",
       "      <th>Month (abbv)</th>\n",
       "      <th>Component</th>\n",
       "      <th>Demographic</th>\n",
       "      <th>Citizenship Grouping</th>\n",
       "      <th>Title of Authority</th>\n",
       "      <th>Encounter Type</th>\n",
       "      <th>Encounter Count</th>\n",
       "    </tr>\n",
       "  </thead>\n",
       "  <tbody>\n",
       "    <tr>\n",
       "      <th>0</th>\n",
       "      <td>0</td>\n",
       "      <td>10</td>\n",
       "      <td>10</td>\n",
       "      <td>0</td>\n",
       "      <td>5</td>\n",
       "      <td>8</td>\n",
       "      <td>0</td>\n",
       "      <td>2</td>\n",
       "    </tr>\n",
       "    <tr>\n",
       "      <th>1</th>\n",
       "      <td>0</td>\n",
       "      <td>10</td>\n",
       "      <td>10</td>\n",
       "      <td>0</td>\n",
       "      <td>6</td>\n",
       "      <td>8</td>\n",
       "      <td>0</td>\n",
       "      <td>1</td>\n",
       "    </tr>\n",
       "    <tr>\n",
       "      <th>2</th>\n",
       "      <td>0</td>\n",
       "      <td>10</td>\n",
       "      <td>10</td>\n",
       "      <td>0</td>\n",
       "      <td>7</td>\n",
       "      <td>8</td>\n",
       "      <td>0</td>\n",
       "      <td>91</td>\n",
       "    </tr>\n",
       "    <tr>\n",
       "      <th>3</th>\n",
       "      <td>0</td>\n",
       "      <td>10</td>\n",
       "      <td>10</td>\n",
       "      <td>0</td>\n",
       "      <td>8</td>\n",
       "      <td>8</td>\n",
       "      <td>0</td>\n",
       "      <td>8</td>\n",
       "    </tr>\n",
       "    <tr>\n",
       "      <th>4</th>\n",
       "      <td>0</td>\n",
       "      <td>10</td>\n",
       "      <td>10</td>\n",
       "      <td>0</td>\n",
       "      <td>5</td>\n",
       "      <td>8</td>\n",
       "      <td>0</td>\n",
       "      <td>38</td>\n",
       "    </tr>\n",
       "  </tbody>\n",
       "</table>\n",
       "</div>"
      ],
      "text/plain": [
       "   Fiscal Year  Month (abbv)  Component  Demographic  Citizenship Grouping  \\\n",
       "0            0            10         10            0                     5   \n",
       "1            0            10         10            0                     6   \n",
       "2            0            10         10            0                     7   \n",
       "3            0            10         10            0                     8   \n",
       "4            0            10         10            0                     5   \n",
       "\n",
       "   Title of Authority  Encounter Type  Encounter Count  \n",
       "0                   8               0                2  \n",
       "1                   8               0                1  \n",
       "2                   8               0               91  \n",
       "3                   8               0                8  \n",
       "4                   8               0               38  "
      ]
     },
     "execution_count": 839,
     "metadata": {},
     "output_type": "execute_result"
    }
   ],
   "source": [
    "Encounters1.head()"
   ]
  },
  {
   "cell_type": "code",
   "execution_count": 840,
   "id": "4724213d",
   "metadata": {},
   "outputs": [
    {
     "data": {
      "text/plain": [
       "0    2222\n",
       "Name: Encounter Type, dtype: int64"
      ]
     },
     "execution_count": 840,
     "metadata": {},
     "output_type": "execute_result"
    }
   ],
   "source": [
    "Encounters1['Encounter Type'].value_counts()"
   ]
  },
  {
   "cell_type": "markdown",
   "id": "fb09333b",
   "metadata": {},
   "source": [
    "## Create a subset of predictor variables\n"
   ]
  },
  {
   "cell_type": "code",
   "execution_count": 815,
   "id": "83b4d621",
   "metadata": {},
   "outputs": [],
   "source": [
    "predictors = Encounters1[['Fiscal Year', 'Month (abbv)', 'Demographic', 'Citizenship Grouping', 'Component', 'Encounter Type', 'Title of Authority']]"
   ]
  },
  {
   "cell_type": "code",
   "execution_count": 816,
   "id": "7c9c8964",
   "metadata": {
    "scrolled": true
   },
   "outputs": [
    {
     "name": "stdout",
     "output_type": "stream",
     "text": [
      "Fiscal Year             int64\n",
      "Month (abbv)            int64\n",
      "Demographic             int64\n",
      "Citizenship Grouping    int64\n",
      "Component               int64\n",
      "Encounter Type          int64\n",
      "Title of Authority      int64\n",
      "dtype: object\n"
     ]
    }
   ],
   "source": [
    "print(predictors.dtypes)"
   ]
  },
  {
   "cell_type": "markdown",
   "id": "688d2240",
   "metadata": {},
   "source": [
    "## Add constant column if needed\n"
   ]
  },
  {
   "cell_type": "code",
   "execution_count": 817,
   "id": "4fb1d925",
   "metadata": {},
   "outputs": [],
   "source": [
    "predictors = sm.add_constant(predictors)\n"
   ]
  },
  {
   "cell_type": "markdown",
   "id": "f8906730",
   "metadata": {},
   "source": [
    "## Fit logistic regression model using stepwise selection"
   ]
  },
  {
   "cell_type": "code",
   "execution_count": 843,
   "id": "f6ba20c6",
   "metadata": {},
   "outputs": [
    {
     "ename": "ModuleNotFoundError",
     "evalue": "No module named 'mlxtend'",
     "output_type": "error",
     "traceback": [
      "\u001b[0;31m---------------------------------------------------------------------------\u001b[0m",
      "\u001b[0;31mModuleNotFoundError\u001b[0m                       Traceback (most recent call last)",
      "Cell \u001b[0;32mIn[843], line 2\u001b[0m\n\u001b[1;32m      1\u001b[0m \u001b[38;5;28;01mimport\u001b[39;00m \u001b[38;5;21;01mstatsmodels\u001b[39;00m\u001b[38;5;21;01m.\u001b[39;00m\u001b[38;5;21;01mapi\u001b[39;00m \u001b[38;5;28;01mas\u001b[39;00m \u001b[38;5;21;01msm\u001b[39;00m\n\u001b[0;32m----> 2\u001b[0m \u001b[38;5;28;01mfrom\u001b[39;00m \u001b[38;5;21;01mmlxtend\u001b[39;00m\u001b[38;5;21;01m.\u001b[39;00m\u001b[38;5;21;01mfeature_selection\u001b[39;00m \u001b[38;5;28;01mimport\u001b[39;00m stepwise_selection\n",
      "\u001b[0;31mModuleNotFoundError\u001b[0m: No module named 'mlxtend'"
     ]
    }
   ],
   "source": [
    "import statsmodels.api as sm\n",
    "from mlxtend.feature_selection import stepwise_selection"
   ]
  },
  {
   "cell_type": "code",
   "execution_count": 845,
   "id": "162ca03c",
   "metadata": {},
   "outputs": [
    {
     "ename": "PerfectSeparationError",
     "evalue": "Perfect separation detected, results not available",
     "output_type": "error",
     "traceback": [
      "\u001b[0;31m---------------------------------------------------------------------------\u001b[0m",
      "\u001b[0;31mPerfectSeparationError\u001b[0m                    Traceback (most recent call last)",
      "Cell \u001b[0;32mIn[845], line 2\u001b[0m\n\u001b[1;32m      1\u001b[0m model \u001b[38;5;241m=\u001b[39m sm\u001b[38;5;241m.\u001b[39mLogit(Encounters1[\u001b[38;5;124m'\u001b[39m\u001b[38;5;124mDemographic\u001b[39m\u001b[38;5;124m'\u001b[39m], predictors)\n\u001b[0;32m----> 2\u001b[0m result \u001b[38;5;241m=\u001b[39m \u001b[43mmodel\u001b[49m\u001b[38;5;241;43m.\u001b[39;49m\u001b[43mfit\u001b[49m\u001b[43m(\u001b[49m\u001b[43mmethod\u001b[49m\u001b[38;5;241;43m=\u001b[39;49m\u001b[38;5;124;43m'\u001b[39;49m\u001b[38;5;124;43mnewton\u001b[39;49m\u001b[38;5;124;43m'\u001b[39;49m\u001b[43m,\u001b[49m\u001b[43m \u001b[49m\u001b[43mmaxiter\u001b[49m\u001b[38;5;241;43m=\u001b[39;49m\u001b[38;5;241;43m100\u001b[39;49m\u001b[43m,\u001b[49m\u001b[43m \u001b[49m\u001b[43mstep\u001b[49m\u001b[38;5;241;43m=\u001b[39;49m\u001b[38;5;241;43m1\u001b[39;49m\u001b[43m)\u001b[49m\n",
      "File \u001b[0;32m~/anaconda3/lib/python3.10/site-packages/statsmodels/discrete/discrete_model.py:1983\u001b[0m, in \u001b[0;36mLogit.fit\u001b[0;34m(self, start_params, method, maxiter, full_output, disp, callback, **kwargs)\u001b[0m\n\u001b[1;32m   1980\u001b[0m \u001b[38;5;129m@Appender\u001b[39m(DiscreteModel\u001b[38;5;241m.\u001b[39mfit\u001b[38;5;241m.\u001b[39m\u001b[38;5;18m__doc__\u001b[39m)\n\u001b[1;32m   1981\u001b[0m \u001b[38;5;28;01mdef\u001b[39;00m \u001b[38;5;21mfit\u001b[39m(\u001b[38;5;28mself\u001b[39m, start_params\u001b[38;5;241m=\u001b[39m\u001b[38;5;28;01mNone\u001b[39;00m, method\u001b[38;5;241m=\u001b[39m\u001b[38;5;124m'\u001b[39m\u001b[38;5;124mnewton\u001b[39m\u001b[38;5;124m'\u001b[39m, maxiter\u001b[38;5;241m=\u001b[39m\u001b[38;5;241m35\u001b[39m,\n\u001b[1;32m   1982\u001b[0m         full_output\u001b[38;5;241m=\u001b[39m\u001b[38;5;241m1\u001b[39m, disp\u001b[38;5;241m=\u001b[39m\u001b[38;5;241m1\u001b[39m, callback\u001b[38;5;241m=\u001b[39m\u001b[38;5;28;01mNone\u001b[39;00m, \u001b[38;5;241m*\u001b[39m\u001b[38;5;241m*\u001b[39mkwargs):\n\u001b[0;32m-> 1983\u001b[0m     bnryfit \u001b[38;5;241m=\u001b[39m \u001b[38;5;28;43msuper\u001b[39;49m\u001b[43m(\u001b[49m\u001b[43m)\u001b[49m\u001b[38;5;241;43m.\u001b[39;49m\u001b[43mfit\u001b[49m\u001b[43m(\u001b[49m\u001b[43mstart_params\u001b[49m\u001b[38;5;241;43m=\u001b[39;49m\u001b[43mstart_params\u001b[49m\u001b[43m,\u001b[49m\n\u001b[1;32m   1984\u001b[0m \u001b[43m                          \u001b[49m\u001b[43mmethod\u001b[49m\u001b[38;5;241;43m=\u001b[39;49m\u001b[43mmethod\u001b[49m\u001b[43m,\u001b[49m\n\u001b[1;32m   1985\u001b[0m \u001b[43m                          \u001b[49m\u001b[43mmaxiter\u001b[49m\u001b[38;5;241;43m=\u001b[39;49m\u001b[43mmaxiter\u001b[49m\u001b[43m,\u001b[49m\n\u001b[1;32m   1986\u001b[0m \u001b[43m                          \u001b[49m\u001b[43mfull_output\u001b[49m\u001b[38;5;241;43m=\u001b[39;49m\u001b[43mfull_output\u001b[49m\u001b[43m,\u001b[49m\n\u001b[1;32m   1987\u001b[0m \u001b[43m                          \u001b[49m\u001b[43mdisp\u001b[49m\u001b[38;5;241;43m=\u001b[39;49m\u001b[43mdisp\u001b[49m\u001b[43m,\u001b[49m\n\u001b[1;32m   1988\u001b[0m \u001b[43m                          \u001b[49m\u001b[43mcallback\u001b[49m\u001b[38;5;241;43m=\u001b[39;49m\u001b[43mcallback\u001b[49m\u001b[43m,\u001b[49m\n\u001b[1;32m   1989\u001b[0m \u001b[43m                          \u001b[49m\u001b[38;5;241;43m*\u001b[39;49m\u001b[38;5;241;43m*\u001b[39;49m\u001b[43mkwargs\u001b[49m\u001b[43m)\u001b[49m\n\u001b[1;32m   1991\u001b[0m     discretefit \u001b[38;5;241m=\u001b[39m LogitResults(\u001b[38;5;28mself\u001b[39m, bnryfit)\n\u001b[1;32m   1992\u001b[0m     \u001b[38;5;28;01mreturn\u001b[39;00m BinaryResultsWrapper(discretefit)\n",
      "File \u001b[0;32m~/anaconda3/lib/python3.10/site-packages/statsmodels/discrete/discrete_model.py:230\u001b[0m, in \u001b[0;36mDiscreteModel.fit\u001b[0;34m(self, start_params, method, maxiter, full_output, disp, callback, **kwargs)\u001b[0m\n\u001b[1;32m    227\u001b[0m \u001b[38;5;28;01melse\u001b[39;00m:\n\u001b[1;32m    228\u001b[0m     \u001b[38;5;28;01mpass\u001b[39;00m  \u001b[38;5;66;03m# TODO: make a function factory to have multiple call-backs\u001b[39;00m\n\u001b[0;32m--> 230\u001b[0m mlefit \u001b[38;5;241m=\u001b[39m \u001b[38;5;28;43msuper\u001b[39;49m\u001b[43m(\u001b[49m\u001b[43m)\u001b[49m\u001b[38;5;241;43m.\u001b[39;49m\u001b[43mfit\u001b[49m\u001b[43m(\u001b[49m\u001b[43mstart_params\u001b[49m\u001b[38;5;241;43m=\u001b[39;49m\u001b[43mstart_params\u001b[49m\u001b[43m,\u001b[49m\n\u001b[1;32m    231\u001b[0m \u001b[43m                     \u001b[49m\u001b[43mmethod\u001b[49m\u001b[38;5;241;43m=\u001b[39;49m\u001b[43mmethod\u001b[49m\u001b[43m,\u001b[49m\n\u001b[1;32m    232\u001b[0m \u001b[43m                     \u001b[49m\u001b[43mmaxiter\u001b[49m\u001b[38;5;241;43m=\u001b[39;49m\u001b[43mmaxiter\u001b[49m\u001b[43m,\u001b[49m\n\u001b[1;32m    233\u001b[0m \u001b[43m                     \u001b[49m\u001b[43mfull_output\u001b[49m\u001b[38;5;241;43m=\u001b[39;49m\u001b[43mfull_output\u001b[49m\u001b[43m,\u001b[49m\n\u001b[1;32m    234\u001b[0m \u001b[43m                     \u001b[49m\u001b[43mdisp\u001b[49m\u001b[38;5;241;43m=\u001b[39;49m\u001b[43mdisp\u001b[49m\u001b[43m,\u001b[49m\n\u001b[1;32m    235\u001b[0m \u001b[43m                     \u001b[49m\u001b[43mcallback\u001b[49m\u001b[38;5;241;43m=\u001b[39;49m\u001b[43mcallback\u001b[49m\u001b[43m,\u001b[49m\n\u001b[1;32m    236\u001b[0m \u001b[43m                     \u001b[49m\u001b[38;5;241;43m*\u001b[39;49m\u001b[38;5;241;43m*\u001b[39;49m\u001b[43mkwargs\u001b[49m\u001b[43m)\u001b[49m\n\u001b[1;32m    238\u001b[0m \u001b[38;5;28;01mreturn\u001b[39;00m mlefit\n",
      "File \u001b[0;32m~/anaconda3/lib/python3.10/site-packages/statsmodels/base/model.py:563\u001b[0m, in \u001b[0;36mLikelihoodModel.fit\u001b[0;34m(self, start_params, method, maxiter, full_output, disp, fargs, callback, retall, skip_hessian, **kwargs)\u001b[0m\n\u001b[1;32m    560\u001b[0m     \u001b[38;5;28;01mdel\u001b[39;00m kwargs[\u001b[38;5;124m\"\u001b[39m\u001b[38;5;124muse_t\u001b[39m\u001b[38;5;124m\"\u001b[39m]\n\u001b[1;32m    562\u001b[0m optimizer \u001b[38;5;241m=\u001b[39m Optimizer()\n\u001b[0;32m--> 563\u001b[0m xopt, retvals, optim_settings \u001b[38;5;241m=\u001b[39m \u001b[43moptimizer\u001b[49m\u001b[38;5;241;43m.\u001b[39;49m\u001b[43m_fit\u001b[49m\u001b[43m(\u001b[49m\u001b[43mf\u001b[49m\u001b[43m,\u001b[49m\u001b[43m \u001b[49m\u001b[43mscore\u001b[49m\u001b[43m,\u001b[49m\u001b[43m \u001b[49m\u001b[43mstart_params\u001b[49m\u001b[43m,\u001b[49m\n\u001b[1;32m    564\u001b[0m \u001b[43m                                               \u001b[49m\u001b[43mfargs\u001b[49m\u001b[43m,\u001b[49m\u001b[43m \u001b[49m\u001b[43mkwargs\u001b[49m\u001b[43m,\u001b[49m\n\u001b[1;32m    565\u001b[0m \u001b[43m                                               \u001b[49m\u001b[43mhessian\u001b[49m\u001b[38;5;241;43m=\u001b[39;49m\u001b[43mhess\u001b[49m\u001b[43m,\u001b[49m\n\u001b[1;32m    566\u001b[0m \u001b[43m                                               \u001b[49m\u001b[43mmethod\u001b[49m\u001b[38;5;241;43m=\u001b[39;49m\u001b[43mmethod\u001b[49m\u001b[43m,\u001b[49m\n\u001b[1;32m    567\u001b[0m \u001b[43m                                               \u001b[49m\u001b[43mdisp\u001b[49m\u001b[38;5;241;43m=\u001b[39;49m\u001b[43mdisp\u001b[49m\u001b[43m,\u001b[49m\n\u001b[1;32m    568\u001b[0m \u001b[43m                                               \u001b[49m\u001b[43mmaxiter\u001b[49m\u001b[38;5;241;43m=\u001b[39;49m\u001b[43mmaxiter\u001b[49m\u001b[43m,\u001b[49m\n\u001b[1;32m    569\u001b[0m \u001b[43m                                               \u001b[49m\u001b[43mcallback\u001b[49m\u001b[38;5;241;43m=\u001b[39;49m\u001b[43mcallback\u001b[49m\u001b[43m,\u001b[49m\n\u001b[1;32m    570\u001b[0m \u001b[43m                                               \u001b[49m\u001b[43mretall\u001b[49m\u001b[38;5;241;43m=\u001b[39;49m\u001b[43mretall\u001b[49m\u001b[43m,\u001b[49m\n\u001b[1;32m    571\u001b[0m \u001b[43m                                               \u001b[49m\u001b[43mfull_output\u001b[49m\u001b[38;5;241;43m=\u001b[39;49m\u001b[43mfull_output\u001b[49m\u001b[43m)\u001b[49m\n\u001b[1;32m    572\u001b[0m \u001b[38;5;66;03m# Restore cov_type, cov_kwds and use_t\u001b[39;00m\n\u001b[1;32m    573\u001b[0m optim_settings\u001b[38;5;241m.\u001b[39mupdate(kwds)\n",
      "File \u001b[0;32m~/anaconda3/lib/python3.10/site-packages/statsmodels/base/optimizer.py:241\u001b[0m, in \u001b[0;36mOptimizer._fit\u001b[0;34m(self, objective, gradient, start_params, fargs, kwargs, hessian, method, maxiter, full_output, disp, callback, retall)\u001b[0m\n\u001b[1;32m    238\u001b[0m     fit_funcs\u001b[38;5;241m.\u001b[39mupdate(extra_fit_funcs)\n\u001b[1;32m    240\u001b[0m func \u001b[38;5;241m=\u001b[39m fit_funcs[method]\n\u001b[0;32m--> 241\u001b[0m xopt, retvals \u001b[38;5;241m=\u001b[39m \u001b[43mfunc\u001b[49m\u001b[43m(\u001b[49m\u001b[43mobjective\u001b[49m\u001b[43m,\u001b[49m\u001b[43m \u001b[49m\u001b[43mgradient\u001b[49m\u001b[43m,\u001b[49m\u001b[43m \u001b[49m\u001b[43mstart_params\u001b[49m\u001b[43m,\u001b[49m\u001b[43m \u001b[49m\u001b[43mfargs\u001b[49m\u001b[43m,\u001b[49m\u001b[43m \u001b[49m\u001b[43mkwargs\u001b[49m\u001b[43m,\u001b[49m\n\u001b[1;32m    242\u001b[0m \u001b[43m                     \u001b[49m\u001b[43mdisp\u001b[49m\u001b[38;5;241;43m=\u001b[39;49m\u001b[43mdisp\u001b[49m\u001b[43m,\u001b[49m\u001b[43m \u001b[49m\u001b[43mmaxiter\u001b[49m\u001b[38;5;241;43m=\u001b[39;49m\u001b[43mmaxiter\u001b[49m\u001b[43m,\u001b[49m\u001b[43m \u001b[49m\u001b[43mcallback\u001b[49m\u001b[38;5;241;43m=\u001b[39;49m\u001b[43mcallback\u001b[49m\u001b[43m,\u001b[49m\n\u001b[1;32m    243\u001b[0m \u001b[43m                     \u001b[49m\u001b[43mretall\u001b[49m\u001b[38;5;241;43m=\u001b[39;49m\u001b[43mretall\u001b[49m\u001b[43m,\u001b[49m\u001b[43m \u001b[49m\u001b[43mfull_output\u001b[49m\u001b[38;5;241;43m=\u001b[39;49m\u001b[43mfull_output\u001b[49m\u001b[43m,\u001b[49m\n\u001b[1;32m    244\u001b[0m \u001b[43m                     \u001b[49m\u001b[43mhess\u001b[49m\u001b[38;5;241;43m=\u001b[39;49m\u001b[43mhessian\u001b[49m\u001b[43m)\u001b[49m\n\u001b[1;32m    246\u001b[0m optim_settings \u001b[38;5;241m=\u001b[39m {\u001b[38;5;124m'\u001b[39m\u001b[38;5;124moptimizer\u001b[39m\u001b[38;5;124m'\u001b[39m: method, \u001b[38;5;124m'\u001b[39m\u001b[38;5;124mstart_params\u001b[39m\u001b[38;5;124m'\u001b[39m: start_params,\n\u001b[1;32m    247\u001b[0m                   \u001b[38;5;124m'\u001b[39m\u001b[38;5;124mmaxiter\u001b[39m\u001b[38;5;124m'\u001b[39m: maxiter, \u001b[38;5;124m'\u001b[39m\u001b[38;5;124mfull_output\u001b[39m\u001b[38;5;124m'\u001b[39m: full_output,\n\u001b[1;32m    248\u001b[0m                   \u001b[38;5;124m'\u001b[39m\u001b[38;5;124mdisp\u001b[39m\u001b[38;5;124m'\u001b[39m: disp, \u001b[38;5;124m'\u001b[39m\u001b[38;5;124mfargs\u001b[39m\u001b[38;5;124m'\u001b[39m: fargs, \u001b[38;5;124m'\u001b[39m\u001b[38;5;124mcallback\u001b[39m\u001b[38;5;124m'\u001b[39m: callback,\n\u001b[1;32m    249\u001b[0m                   \u001b[38;5;124m'\u001b[39m\u001b[38;5;124mretall\u001b[39m\u001b[38;5;124m'\u001b[39m: retall, \u001b[38;5;124m\"\u001b[39m\u001b[38;5;124mextra_fit_funcs\u001b[39m\u001b[38;5;124m\"\u001b[39m: extra_fit_funcs}\n\u001b[1;32m    250\u001b[0m optim_settings\u001b[38;5;241m.\u001b[39mupdate(kwargs)\n",
      "File \u001b[0;32m~/anaconda3/lib/python3.10/site-packages/statsmodels/base/optimizer.py:443\u001b[0m, in \u001b[0;36m_fit_newton\u001b[0;34m(f, score, start_params, fargs, kwargs, disp, maxiter, callback, retall, full_output, hess, ridge_factor)\u001b[0m\n\u001b[1;32m    441\u001b[0m         history\u001b[38;5;241m.\u001b[39mappend(newparams)\n\u001b[1;32m    442\u001b[0m     \u001b[38;5;28;01mif\u001b[39;00m callback \u001b[38;5;129;01mis\u001b[39;00m \u001b[38;5;129;01mnot\u001b[39;00m \u001b[38;5;28;01mNone\u001b[39;00m:\n\u001b[0;32m--> 443\u001b[0m         \u001b[43mcallback\u001b[49m\u001b[43m(\u001b[49m\u001b[43mnewparams\u001b[49m\u001b[43m)\u001b[49m\n\u001b[1;32m    444\u001b[0m     iterations \u001b[38;5;241m+\u001b[39m\u001b[38;5;241m=\u001b[39m \u001b[38;5;241m1\u001b[39m\n\u001b[1;32m    445\u001b[0m fval \u001b[38;5;241m=\u001b[39m f(newparams, \u001b[38;5;241m*\u001b[39mfargs)  \u001b[38;5;66;03m# this is the negative likelihood\u001b[39;00m\n",
      "File \u001b[0;32m~/anaconda3/lib/python3.10/site-packages/statsmodels/discrete/discrete_model.py:214\u001b[0m, in \u001b[0;36mDiscreteModel._check_perfect_pred\u001b[0;34m(self, params, *args)\u001b[0m\n\u001b[1;32m    211\u001b[0m \u001b[38;5;28;01mif\u001b[39;00m (\u001b[38;5;28mself\u001b[39m\u001b[38;5;241m.\u001b[39mraise_on_perfect_prediction \u001b[38;5;129;01mand\u001b[39;00m\n\u001b[1;32m    212\u001b[0m         np\u001b[38;5;241m.\u001b[39mallclose(fittedvalues \u001b[38;5;241m-\u001b[39m endog, \u001b[38;5;241m0\u001b[39m)):\n\u001b[1;32m    213\u001b[0m     msg \u001b[38;5;241m=\u001b[39m \u001b[38;5;124m\"\u001b[39m\u001b[38;5;124mPerfect separation detected, results not available\u001b[39m\u001b[38;5;124m\"\u001b[39m\n\u001b[0;32m--> 214\u001b[0m     \u001b[38;5;28;01mraise\u001b[39;00m PerfectSeparationError(msg)\n",
      "\u001b[0;31mPerfectSeparationError\u001b[0m: Perfect separation detected, results not available"
     ]
    }
   ],
   "source": [
    "model = sm.Logit(Encounters1['Demographic'], predictors)\n",
    "result = model.fit(method='newton', maxiter=100, step=1)"
   ]
  },
  {
   "cell_type": "code",
   "execution_count": null,
   "id": "080a84f3",
   "metadata": {},
   "outputs": [],
   "source": []
  },
  {
   "cell_type": "code",
   "execution_count": null,
   "id": "827ce0c6",
   "metadata": {},
   "outputs": [],
   "source": []
  }
 ],
 "metadata": {
  "kernelspec": {
   "display_name": "Python 3 (ipykernel)",
   "language": "python",
   "name": "python3"
  },
  "language_info": {
   "codemirror_mode": {
    "name": "ipython",
    "version": 3
   },
   "file_extension": ".py",
   "mimetype": "text/x-python",
   "name": "python",
   "nbconvert_exporter": "python",
   "pygments_lexer": "ipython3",
   "version": "3.10.9"
  }
 },
 "nbformat": 4,
 "nbformat_minor": 5
}
