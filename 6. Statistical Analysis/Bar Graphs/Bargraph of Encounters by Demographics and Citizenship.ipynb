{
 "cells": [
  {
   "cell_type": "markdown",
   "id": "0ee20885",
   "metadata": {},
   "source": [
    "# BarGraph of Countries' Demographics of Encounters"
   ]
  },
  {
   "cell_type": "markdown",
   "id": "1ed0398a",
   "metadata": {},
   "source": [
    "## Import Data: "
   ]
  },
  {
   "cell_type": "code",
   "execution_count": 1,
   "id": "9b9c9968",
   "metadata": {},
   "outputs": [
    {
     "name": "stdout",
     "output_type": "stream",
     "text": [
      "\n",
      "The downloaded binary packages are in\n",
      "\t/var/folders/q_/vv8mn9pn63l7m3ps3k_2tqdm0000gn/T//RtmpIslrpq/downloaded_packages\n"
     ]
    },
    {
     "name": "stderr",
     "output_type": "stream",
     "text": [
      "Warning message:\n",
      "“package ‘datasets’ is a base package, and should not be updated”\n"
     ]
    },
    {
     "name": "stdout",
     "output_type": "stream",
     "text": [
      "\n",
      "The downloaded binary packages are in\n",
      "\t/var/folders/q_/vv8mn9pn63l7m3ps3k_2tqdm0000gn/T//RtmpIslrpq/downloaded_packages\n",
      "\n",
      "The downloaded binary packages are in\n",
      "\t/var/folders/q_/vv8mn9pn63l7m3ps3k_2tqdm0000gn/T//RtmpIslrpq/downloaded_packages\n",
      "\n",
      "The downloaded binary packages are in\n",
      "\t/var/folders/q_/vv8mn9pn63l7m3ps3k_2tqdm0000gn/T//RtmpIslrpq/downloaded_packages\n",
      "\n",
      "The downloaded binary packages are in\n",
      "\t/var/folders/q_/vv8mn9pn63l7m3ps3k_2tqdm0000gn/T//RtmpIslrpq/downloaded_packages\n",
      "\n",
      "The downloaded binary packages are in\n",
      "\t/var/folders/q_/vv8mn9pn63l7m3ps3k_2tqdm0000gn/T//RtmpIslrpq/downloaded_packages\n"
     ]
    },
    {
     "name": "stderr",
     "output_type": "stream",
     "text": [
      "Warning message:\n",
      "“package ‘gridextra’ is not available for this version of R\n",
      "\n",
      "A version of this package for your version of R might be available elsewhere,\n",
      "see the ideas at\n",
      "https://cran.r-project.org/doc/manuals/r-patched/R-admin.html#Installing-packages”\n",
      "Warning message:\n",
      "“Perhaps you meant ‘gridExtra’ ?”\n"
     ]
    },
    {
     "name": "stdout",
     "output_type": "stream",
     "text": [
      "\n",
      "The downloaded binary packages are in\n",
      "\t/var/folders/q_/vv8mn9pn63l7m3ps3k_2tqdm0000gn/T//RtmpIslrpq/downloaded_packages\n",
      "\n",
      "The downloaded binary packages are in\n",
      "\t/var/folders/q_/vv8mn9pn63l7m3ps3k_2tqdm0000gn/T//RtmpIslrpq/downloaded_packages\n",
      "\n",
      "The downloaded binary packages are in\n",
      "\t/var/folders/q_/vv8mn9pn63l7m3ps3k_2tqdm0000gn/T//RtmpIslrpq/downloaded_packages\n",
      "\n",
      "The downloaded binary packages are in\n",
      "\t/var/folders/q_/vv8mn9pn63l7m3ps3k_2tqdm0000gn/T//RtmpIslrpq/downloaded_packages\n",
      "\n",
      "The downloaded binary packages are in\n",
      "\t/var/folders/q_/vv8mn9pn63l7m3ps3k_2tqdm0000gn/T//RtmpIslrpq/downloaded_packages\n",
      "\n",
      "The downloaded binary packages are in\n",
      "\t/var/folders/q_/vv8mn9pn63l7m3ps3k_2tqdm0000gn/T//RtmpIslrpq/downloaded_packages\n",
      "\n",
      "The downloaded binary packages are in\n",
      "\t/var/folders/q_/vv8mn9pn63l7m3ps3k_2tqdm0000gn/T//RtmpIslrpq/downloaded_packages\n",
      "\n",
      "The downloaded binary packages are in\n",
      "\t/var/folders/q_/vv8mn9pn63l7m3ps3k_2tqdm0000gn/T//RtmpIslrpq/downloaded_packages\n",
      "\n",
      "The downloaded binary packages are in\n",
      "\t/var/folders/q_/vv8mn9pn63l7m3ps3k_2tqdm0000gn/T//RtmpIslrpq/downloaded_packages\n",
      "\n",
      "The downloaded binary packages are in\n",
      "\t/var/folders/q_/vv8mn9pn63l7m3ps3k_2tqdm0000gn/T//RtmpIslrpq/downloaded_packages\n",
      "\n",
      "The downloaded binary packages are in\n",
      "\t/var/folders/q_/vv8mn9pn63l7m3ps3k_2tqdm0000gn/T//RtmpIslrpq/downloaded_packages\n",
      "\n",
      "The downloaded binary packages are in\n",
      "\t/var/folders/q_/vv8mn9pn63l7m3ps3k_2tqdm0000gn/T//RtmpIslrpq/downloaded_packages\n",
      "\n",
      "The downloaded binary packages are in\n",
      "\t/var/folders/q_/vv8mn9pn63l7m3ps3k_2tqdm0000gn/T//RtmpIslrpq/downloaded_packages\n",
      "\n",
      "The downloaded binary packages are in\n",
      "\t/var/folders/q_/vv8mn9pn63l7m3ps3k_2tqdm0000gn/T//RtmpIslrpq/downloaded_packages\n",
      "\n",
      "The downloaded binary packages are in\n",
      "\t/var/folders/q_/vv8mn9pn63l7m3ps3k_2tqdm0000gn/T//RtmpIslrpq/downloaded_packages\n",
      "\n",
      "The downloaded binary packages are in\n",
      "\t/var/folders/q_/vv8mn9pn63l7m3ps3k_2tqdm0000gn/T//RtmpIslrpq/downloaded_packages\n",
      "\n",
      "The downloaded binary packages are in\n",
      "\t/var/folders/q_/vv8mn9pn63l7m3ps3k_2tqdm0000gn/T//RtmpIslrpq/downloaded_packages\n",
      "\n",
      "The downloaded binary packages are in\n",
      "\t/var/folders/q_/vv8mn9pn63l7m3ps3k_2tqdm0000gn/T//RtmpIslrpq/downloaded_packages\n",
      "\n",
      "The downloaded binary packages are in\n",
      "\t/var/folders/q_/vv8mn9pn63l7m3ps3k_2tqdm0000gn/T//RtmpIslrpq/downloaded_packages\n",
      "\n",
      "The downloaded binary packages are in\n",
      "\t/var/folders/q_/vv8mn9pn63l7m3ps3k_2tqdm0000gn/T//RtmpIslrpq/downloaded_packages\n",
      "\n",
      "The downloaded binary packages are in\n",
      "\t/var/folders/q_/vv8mn9pn63l7m3ps3k_2tqdm0000gn/T//RtmpIslrpq/downloaded_packages\n",
      "\n",
      "The downloaded binary packages are in\n",
      "\t/var/folders/q_/vv8mn9pn63l7m3ps3k_2tqdm0000gn/T//RtmpIslrpq/downloaded_packages\n",
      "\n",
      "The downloaded binary packages are in\n",
      "\t/var/folders/q_/vv8mn9pn63l7m3ps3k_2tqdm0000gn/T//RtmpIslrpq/downloaded_packages\n",
      "\n",
      "The downloaded binary packages are in\n",
      "\t/var/folders/q_/vv8mn9pn63l7m3ps3k_2tqdm0000gn/T//RtmpIslrpq/downloaded_packages\n"
     ]
    }
   ],
   "source": [
    "install.packages(\"ggplot2\")\n",
    "install.packages(\"datasets\")\n",
    "install.packages(\"readxl\") \n",
    "install.packages(\"dplyr\") \n",
    "install.packages(\"PerformanceAnalytics\")\n",
    "install.packages(\"corrplot\")\n",
    "install.packages(\"gapminder\")\n",
    "install.packages(\"gridextra\")\n",
    "install.packages(\"Ecdat\")\n",
    "install.packages(\"corpcor\")\n",
    "install.packages(\"GPArotation\")\n",
    "install.packages(\"psych\")\n",
    "install.packages(\"IDPmisc\")\n",
    "install.packages(\"lattice\") \n",
    "install.packages(\"treetop\")\n",
    "install.packages(\"scales\")\n",
    "install.packages(\"rcompanion\")\n",
    "install.packages(\"gmodels\")\n",
    "install.packages(\"car\")\n",
    "install.packages(\"caret\")\n",
    "install.packages(\"gvlma\")\n",
    "install.packages(\"predictmeans\")\n",
    "install.packages(\"caret\")\n",
    "install.packages(\"magrittr\")\n",
    "install.packages(\"tidyr\")\n",
    "install.packages(\"lmtest\")\n",
    "install.packages(\"popbio\")\n",
    "install.packages(\"e1071\")\n",
    "install.packages(\"data.table\")\n",
    "install.packages(\"effects\")\n",
    "install.packages(\"multcomp\")\n",
    "install.packages(\"mvnormtest\")\n"
   ]
  },
  {
   "cell_type": "markdown",
   "id": "8581a80d",
   "metadata": {},
   "source": [
    "## Import Data"
   ]
  },
  {
   "cell_type": "code",
   "execution_count": 2,
   "id": "ecc5682a",
   "metadata": {},
   "outputs": [],
   "source": [
    "BPEncounters = read.csv(\"/Users/suzejones/Downloads/sbo-encounters-fy19-fy22.csv\")"
   ]
  },
  {
   "cell_type": "markdown",
   "id": "1b5d8d2d",
   "metadata": {},
   "source": [
    "## Wrangle Data"
   ]
  },
  {
   "cell_type": "code",
   "execution_count": 3,
   "id": "f8a73ee3",
   "metadata": {},
   "outputs": [],
   "source": [
    "library(\"tidyr\")"
   ]
  },
  {
   "cell_type": "code",
   "execution_count": 4,
   "id": "117c7d5f",
   "metadata": {},
   "outputs": [],
   "source": [
    "BPEncounters1 <- unite(BPEncounters, Date, Month..abbv., Fiscal.Year, sep = \" \")"
   ]
  },
  {
   "cell_type": "code",
   "execution_count": 5,
   "id": "6b85e32c",
   "metadata": {},
   "outputs": [],
   "source": [
    "names(BPEncounters1)[names(BPEncounters1) == \"Citizenship.Grouping\"] <- \"Citizenship\""
   ]
  },
  {
   "cell_type": "code",
   "execution_count": 6,
   "id": "cf7be3a0",
   "metadata": {},
   "outputs": [],
   "source": [
    "names(BPEncounters1)[names(BPEncounters1) == \"Title.of.Authority\"] <- \"Law.Enforced\""
   ]
  },
  {
   "cell_type": "code",
   "execution_count": 7,
   "id": "1860dc9f",
   "metadata": {},
   "outputs": [],
   "source": [
    "BPEncounters1 <- BPEncounters1[, -which(names(BPEncounters1) == \"Month.Grouping\")]"
   ]
  },
  {
   "cell_type": "code",
   "execution_count": null,
   "id": "b4b7acae",
   "metadata": {},
   "outputs": [],
   "source": []
  },
  {
   "cell_type": "code",
   "execution_count": null,
   "id": "cbbbdd93",
   "metadata": {},
   "outputs": [],
   "source": []
  },
  {
   "cell_type": "code",
   "execution_count": 8,
   "id": "4787f4fe",
   "metadata": {
    "scrolled": true
   },
   "outputs": [
    {
     "data": {
      "text/html": [
       "<table class=\"dataframe\">\n",
       "<caption>A data.frame: 6 × 7</caption>\n",
       "<thead>\n",
       "\t<tr><th></th><th scope=col>Date</th><th scope=col>Component</th><th scope=col>Demographic</th><th scope=col>Citizenship</th><th scope=col>Law.Enforced</th><th scope=col>Encounter.Type</th><th scope=col>Encounter.Count</th></tr>\n",
       "\t<tr><th></th><th scope=col>&lt;chr&gt;</th><th scope=col>&lt;chr&gt;</th><th scope=col>&lt;chr&gt;</th><th scope=col>&lt;chr&gt;</th><th scope=col>&lt;chr&gt;</th><th scope=col>&lt;chr&gt;</th><th scope=col>&lt;dbl&gt;</th></tr>\n",
       "</thead>\n",
       "<tbody>\n",
       "\t<tr><th scope=row>1</th><td>AUG 2019</td><td>Office of Field Operations</td><td>Accompanied Minors</td><td>Guatemala</td><td>Title 8</td><td>Inadmissibles</td><td>   0</td></tr>\n",
       "\t<tr><th scope=row>2</th><td>DEC 2019</td><td>U.S. Border Patrol        </td><td>FMUA              </td><td>Honduras </td><td>Title 8</td><td>Apprehensions</td><td>9584</td></tr>\n",
       "\t<tr><th scope=row>3</th><td>SEP 2021</td><td>Office of Field Operations</td><td>Single Adults     </td><td>Other    </td><td>Title 8</td><td>Inadmissibles</td><td>1108</td></tr>\n",
       "\t<tr><th scope=row>4</th><td>SEP 2021</td><td>Office of Field Operations</td><td>Single Adults     </td><td>Guatemala</td><td>Title 8</td><td>Inadmissibles</td><td>  14</td></tr>\n",
       "\t<tr><th scope=row>5</th><td>JUN 2019</td><td>Office of Field Operations</td><td>Single Adults     </td><td>Honduras </td><td>Title 8</td><td>Inadmissibles</td><td>  87</td></tr>\n",
       "\t<tr><th scope=row>6</th><td>OCT 2019</td><td>Office of Field Operations</td><td>UC / Single Minors</td><td>Guatemala</td><td>Title 8</td><td>Inadmissibles</td><td> 121</td></tr>\n",
       "</tbody>\n",
       "</table>\n"
      ],
      "text/latex": [
       "A data.frame: 6 × 7\n",
       "\\begin{tabular}{r|lllllll}\n",
       "  & Date & Component & Demographic & Citizenship & Law.Enforced & Encounter.Type & Encounter.Count\\\\\n",
       "  & <chr> & <chr> & <chr> & <chr> & <chr> & <chr> & <dbl>\\\\\n",
       "\\hline\n",
       "\t1 & AUG 2019 & Office of Field Operations & Accompanied Minors & Guatemala & Title 8 & Inadmissibles &    0\\\\\n",
       "\t2 & DEC 2019 & U.S. Border Patrol         & FMUA               & Honduras  & Title 8 & Apprehensions & 9584\\\\\n",
       "\t3 & SEP 2021 & Office of Field Operations & Single Adults      & Other     & Title 8 & Inadmissibles & 1108\\\\\n",
       "\t4 & SEP 2021 & Office of Field Operations & Single Adults      & Guatemala & Title 8 & Inadmissibles &   14\\\\\n",
       "\t5 & JUN 2019 & Office of Field Operations & Single Adults      & Honduras  & Title 8 & Inadmissibles &   87\\\\\n",
       "\t6 & OCT 2019 & Office of Field Operations & UC / Single Minors & Guatemala & Title 8 & Inadmissibles &  121\\\\\n",
       "\\end{tabular}\n"
      ],
      "text/markdown": [
       "\n",
       "A data.frame: 6 × 7\n",
       "\n",
       "| <!--/--> | Date &lt;chr&gt; | Component &lt;chr&gt; | Demographic &lt;chr&gt; | Citizenship &lt;chr&gt; | Law.Enforced &lt;chr&gt; | Encounter.Type &lt;chr&gt; | Encounter.Count &lt;dbl&gt; |\n",
       "|---|---|---|---|---|---|---|---|\n",
       "| 1 | AUG 2019 | Office of Field Operations | Accompanied Minors | Guatemala | Title 8 | Inadmissibles |    0 |\n",
       "| 2 | DEC 2019 | U.S. Border Patrol         | FMUA               | Honduras  | Title 8 | Apprehensions | 9584 |\n",
       "| 3 | SEP 2021 | Office of Field Operations | Single Adults      | Other     | Title 8 | Inadmissibles | 1108 |\n",
       "| 4 | SEP 2021 | Office of Field Operations | Single Adults      | Guatemala | Title 8 | Inadmissibles |   14 |\n",
       "| 5 | JUN 2019 | Office of Field Operations | Single Adults      | Honduras  | Title 8 | Inadmissibles |   87 |\n",
       "| 6 | OCT 2019 | Office of Field Operations | UC / Single Minors | Guatemala | Title 8 | Inadmissibles |  121 |\n",
       "\n"
      ],
      "text/plain": [
       "  Date     Component                  Demographic        Citizenship\n",
       "1 AUG 2019 Office of Field Operations Accompanied Minors Guatemala  \n",
       "2 DEC 2019 U.S. Border Patrol         FMUA               Honduras   \n",
       "3 SEP 2021 Office of Field Operations Single Adults      Other      \n",
       "4 SEP 2021 Office of Field Operations Single Adults      Guatemala  \n",
       "5 JUN 2019 Office of Field Operations Single Adults      Honduras   \n",
       "6 OCT 2019 Office of Field Operations UC / Single Minors Guatemala  \n",
       "  Law.Enforced Encounter.Type Encounter.Count\n",
       "1 Title 8      Inadmissibles     0           \n",
       "2 Title 8      Apprehensions  9584           \n",
       "3 Title 8      Inadmissibles  1108           \n",
       "4 Title 8      Inadmissibles    14           \n",
       "5 Title 8      Inadmissibles    87           \n",
       "6 Title 8      Inadmissibles   121           "
      ]
     },
     "metadata": {},
     "output_type": "display_data"
    }
   ],
   "source": [
    "head(BPEncounters1)"
   ]
  },
  {
   "cell_type": "code",
   "execution_count": 9,
   "id": "a9656eab",
   "metadata": {},
   "outputs": [],
   "source": [
    "library (\"ggplot2\")"
   ]
  },
  {
   "cell_type": "code",
   "execution_count": 10,
   "id": "8fa6408a",
   "metadata": {},
   "outputs": [
    {
     "name": "stderr",
     "output_type": "stream",
     "text": [
      "\n",
      "Attaching package: ‘dplyr’\n",
      "\n",
      "\n",
      "The following objects are masked from ‘package:stats’:\n",
      "\n",
      "    filter, lag\n",
      "\n",
      "\n",
      "The following objects are masked from ‘package:base’:\n",
      "\n",
      "    intersect, setdiff, setequal, union\n",
      "\n",
      "\n"
     ]
    }
   ],
   "source": [
    "library(dplyr)"
   ]
  },
  {
   "cell_type": "code",
   "execution_count": 12,
   "id": "99388715",
   "metadata": {},
   "outputs": [],
   "source": [
    "BPEncounters_Citizenship_Demographics <- ggplot(BPEncounters1, aes(x = Encounter.Count, y = Citizenship))"
   ]
  },
  {
   "cell_type": "code",
   "execution_count": 13,
   "id": "52d5b92d",
   "metadata": {},
   "outputs": [],
   "source": [
    "BPEncountersCountPlot3 <- BPEncounters_Citizenship_Demographics + geom_bar(stat = \"sum\", fill = \"steelblue\")"
   ]
  },
  {
   "cell_type": "code",
   "execution_count": 14,
   "id": "de3e3b31",
   "metadata": {},
   "outputs": [
    {
     "data": {
      "image/png": "[encoded data removed]",
      "text/plain": [
       "plot without title"
      ]
     },
     "metadata": {
      "image/png": {
       "height": 420,
       "width": 420
      }
     },
     "output_type": "display_data"
    }
   ],
   "source": [
    "BPEncountersCountPlot3"
   ]
  },
  {
   "cell_type": "markdown",
   "id": "1bccbd13",
   "metadata": {},
   "source": [
    "## Conclusion: "
   ]
  },
  {
   "cell_type": "markdown",
   "id": "00363df2",
   "metadata": {},
   "source": [
    "### Most encounters in general came from Mexico between 2019 and 2022"
   ]
  },
  {
   "cell_type": "code",
   "execution_count": null,
   "id": "40ee6c30",
   "metadata": {},
   "outputs": [],
   "source": []
  }
 ],
 "metadata": {
  "kernelspec": {
   "display_name": "R",
   "language": "R",
   "name": "ir"
  },
  "language_info": {
   "codemirror_mode": "r",
   "file_extension": ".r",
   "mimetype": "text/x-r-source",
   "name": "R",
   "pygments_lexer": "r",
   "version": "4.2.2"
  }
 },
 "nbformat": 4,
 "nbformat_minor": 5
}
