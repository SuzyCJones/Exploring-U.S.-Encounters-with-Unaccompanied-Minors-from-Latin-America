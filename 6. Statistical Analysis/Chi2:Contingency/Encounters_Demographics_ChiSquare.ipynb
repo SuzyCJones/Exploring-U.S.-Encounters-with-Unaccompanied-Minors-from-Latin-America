{
 "cells": [
  {
   "cell_type": "markdown",
   "id": "0edaa268",
   "metadata": {},
   "source": [
    "# See how Encounter Type and Demographics relate to each other using a Chi Square"
   ]
  },
  {
   "cell_type": "markdown",
   "id": "0ef1c6b2",
   "metadata": {},
   "source": [
    "## Import packages"
   ]
  },
  {
   "cell_type": "code",
   "execution_count": 2,
   "id": "b4b8613b",
   "metadata": {},
   "outputs": [],
   "source": [
    "import pandas as pd\n",
    "import matplotlib.pyplot as plt\n",
    "import seaborn as sns"
   ]
  },
  {
   "cell_type": "code",
   "execution_count": 3,
   "id": "17f048a0",
   "metadata": {},
   "outputs": [],
   "source": [
    "Encounters = pd.read_excel(\"/Users/suzejones/Downloads/Finalsbo-encounters-fy20-fy23-apr .xlsx\")"
   ]
  },
  {
   "cell_type": "code",
   "execution_count": 4,
   "id": "18921c08",
   "metadata": {},
   "outputs": [
    {
     "data": {
      "text/html": [
       "<div>\n",
       "<style scoped>\n",
       "    .dataframe tbody tr th:only-of-type {\n",
       "        vertical-align: middle;\n",
       "    }\n",
       "\n",
       "    .dataframe tbody tr th {\n",
       "        vertical-align: top;\n",
       "    }\n",
       "\n",
       "    .dataframe thead th {\n",
       "        text-align: right;\n",
       "    }\n",
       "</style>\n",
       "<table border=\"1\" class=\"dataframe\">\n",
       "  <thead>\n",
       "    <tr style=\"text-align: right;\">\n",
       "      <th></th>\n",
       "      <th>Fiscal Year</th>\n",
       "      <th>Month Grouping</th>\n",
       "      <th>Month (abbv)</th>\n",
       "      <th>Component</th>\n",
       "      <th>Demographic</th>\n",
       "      <th>Citizenship Grouping</th>\n",
       "      <th>Title of Authority</th>\n",
       "      <th>Encounter Type</th>\n",
       "      <th>Encounter Count</th>\n",
       "    </tr>\n",
       "  </thead>\n",
       "  <tbody>\n",
       "    <tr>\n",
       "      <th>0</th>\n",
       "      <td>2020</td>\n",
       "      <td>FYTD</td>\n",
       "      <td>OCT</td>\n",
       "      <td>Office of Field Operations</td>\n",
       "      <td>Accompanied Minors</td>\n",
       "      <td>El Salvador</td>\n",
       "      <td>Title 8</td>\n",
       "      <td>Inadmissibles</td>\n",
       "      <td>2</td>\n",
       "    </tr>\n",
       "    <tr>\n",
       "      <th>1</th>\n",
       "      <td>2020</td>\n",
       "      <td>FYTD</td>\n",
       "      <td>OCT</td>\n",
       "      <td>Office of Field Operations</td>\n",
       "      <td>Accompanied Minors</td>\n",
       "      <td>Guatemala</td>\n",
       "      <td>Title 8</td>\n",
       "      <td>Inadmissibles</td>\n",
       "      <td>1</td>\n",
       "    </tr>\n",
       "    <tr>\n",
       "      <th>2</th>\n",
       "      <td>2020</td>\n",
       "      <td>FYTD</td>\n",
       "      <td>OCT</td>\n",
       "      <td>Office of Field Operations</td>\n",
       "      <td>Accompanied Minors</td>\n",
       "      <td>Mexico</td>\n",
       "      <td>Title 8</td>\n",
       "      <td>Inadmissibles</td>\n",
       "      <td>91</td>\n",
       "    </tr>\n",
       "    <tr>\n",
       "      <th>3</th>\n",
       "      <td>2020</td>\n",
       "      <td>FYTD</td>\n",
       "      <td>OCT</td>\n",
       "      <td>Office of Field Operations</td>\n",
       "      <td>Accompanied Minors</td>\n",
       "      <td>Other</td>\n",
       "      <td>Title 8</td>\n",
       "      <td>Inadmissibles</td>\n",
       "      <td>8</td>\n",
       "    </tr>\n",
       "    <tr>\n",
       "      <th>4</th>\n",
       "      <td>2020</td>\n",
       "      <td>FYTD</td>\n",
       "      <td>OCT</td>\n",
       "      <td>Office of Field Operations</td>\n",
       "      <td>FMUA</td>\n",
       "      <td>El Salvador</td>\n",
       "      <td>Title 8</td>\n",
       "      <td>Inadmissibles</td>\n",
       "      <td>38</td>\n",
       "    </tr>\n",
       "  </tbody>\n",
       "</table>\n",
       "</div>"
      ],
      "text/plain": [
       "  Fiscal Year Month Grouping Month (abbv)                   Component  \\\n",
       "0        2020           FYTD          OCT  Office of Field Operations   \n",
       "1        2020           FYTD          OCT  Office of Field Operations   \n",
       "2        2020           FYTD          OCT  Office of Field Operations   \n",
       "3        2020           FYTD          OCT  Office of Field Operations   \n",
       "4        2020           FYTD          OCT  Office of Field Operations   \n",
       "\n",
       "          Demographic Citizenship Grouping Title of Authority Encounter Type  \\\n",
       "0  Accompanied Minors          El Salvador            Title 8  Inadmissibles   \n",
       "1  Accompanied Minors            Guatemala            Title 8  Inadmissibles   \n",
       "2  Accompanied Minors               Mexico            Title 8  Inadmissibles   \n",
       "3  Accompanied Minors                Other            Title 8  Inadmissibles   \n",
       "4                FMUA          El Salvador            Title 8  Inadmissibles   \n",
       "\n",
       "   Encounter Count  \n",
       "0                2  \n",
       "1                1  \n",
       "2               91  \n",
       "3                8  \n",
       "4               38  "
      ]
     },
     "execution_count": 4,
     "metadata": {},
     "output_type": "execute_result"
    }
   ],
   "source": [
    "Encounters.head()"
   ]
  },
  {
   "cell_type": "code",
   "execution_count": 5,
   "id": "1174a016",
   "metadata": {},
   "outputs": [
    {
     "data": {
      "text/plain": [
       "Index(['Fiscal Year', 'Month Grouping', 'Month (abbv)', 'Component',\n",
       "       'Demographic', 'Citizenship Grouping', 'Title of Authority',\n",
       "       'Encounter Type', 'Encounter Count'],\n",
       "      dtype='object')"
      ]
     },
     "execution_count": 5,
     "metadata": {},
     "output_type": "execute_result"
    }
   ],
   "source": [
    "Encounters.columns"
   ]
  },
  {
   "cell_type": "code",
   "execution_count": 6,
   "id": "d1ee1faf",
   "metadata": {},
   "outputs": [],
   "source": [
    "from scipy import stats"
   ]
  },
  {
   "cell_type": "code",
   "execution_count": 7,
   "id": "173fd8c1",
   "metadata": {},
   "outputs": [],
   "source": [
    "Encounters_crosstab = pd.crosstab(Encounters['Encounter Type'], Encounters['Demographic'])"
   ]
  },
  {
   "cell_type": "code",
   "execution_count": 8,
   "id": "67daa6a2",
   "metadata": {},
   "outputs": [
    {
     "data": {
      "text/html": [
       "<div>\n",
       "<style scoped>\n",
       "    .dataframe tbody tr th:only-of-type {\n",
       "        vertical-align: middle;\n",
       "    }\n",
       "\n",
       "    .dataframe tbody tr th {\n",
       "        vertical-align: top;\n",
       "    }\n",
       "\n",
       "    .dataframe thead th {\n",
       "        text-align: right;\n",
       "    }\n",
       "</style>\n",
       "<table border=\"1\" class=\"dataframe\">\n",
       "  <thead>\n",
       "    <tr style=\"text-align: right;\">\n",
       "      <th>Demographic</th>\n",
       "      <th>Accompanied Minors</th>\n",
       "      <th>FMUA</th>\n",
       "      <th>Single Adults</th>\n",
       "      <th>UC / Single Minors</th>\n",
       "    </tr>\n",
       "    <tr>\n",
       "      <th>Encounter Type</th>\n",
       "      <th></th>\n",
       "      <th></th>\n",
       "      <th></th>\n",
       "      <th></th>\n",
       "    </tr>\n",
       "  </thead>\n",
       "  <tbody>\n",
       "    <tr>\n",
       "      <th>Apprehensions</th>\n",
       "      <td>0</td>\n",
       "      <td>212</td>\n",
       "      <td>215</td>\n",
       "      <td>214</td>\n",
       "    </tr>\n",
       "    <tr>\n",
       "      <th>Expulsions</th>\n",
       "      <td>161</td>\n",
       "      <td>190</td>\n",
       "      <td>379</td>\n",
       "      <td>96</td>\n",
       "    </tr>\n",
       "    <tr>\n",
       "      <th>Inadmissibles</th>\n",
       "      <td>130</td>\n",
       "      <td>203</td>\n",
       "      <td>215</td>\n",
       "      <td>207</td>\n",
       "    </tr>\n",
       "  </tbody>\n",
       "</table>\n",
       "</div>"
      ],
      "text/plain": [
       "Demographic     Accompanied Minors  FMUA  Single Adults  UC / Single Minors\n",
       "Encounter Type                                                             \n",
       "Apprehensions                    0   212            215                 214\n",
       "Expulsions                     161   190            379                  96\n",
       "Inadmissibles                  130   203            215                 207"
      ]
     },
     "execution_count": 8,
     "metadata": {},
     "output_type": "execute_result"
    }
   ],
   "source": [
    "Encounters_crosstab"
   ]
  },
  {
   "cell_type": "markdown",
   "id": "71dc00d5",
   "metadata": {},
   "source": [
    "# The demographics is largely connected to the Encounter Type or what \n",
    "# happened to the people when they crossed the border. "
   ]
  },
  {
   "cell_type": "code",
   "execution_count": null,
   "id": "71c67a02",
   "metadata": {},
   "outputs": [],
   "source": []
  }
 ],
 "metadata": {
  "kernelspec": {
   "display_name": "Python 3 (ipykernel)",
   "language": "python",
   "name": "python3"
  },
  "language_info": {
   "codemirror_mode": {
    "name": "ipython",
    "version": 3
   },
   "file_extension": ".py",
   "mimetype": "text/x-python",
   "name": "python",
   "nbconvert_exporter": "python",
   "pygments_lexer": "ipython3",
   "version": "3.10.9"
  }
 },
 "nbformat": 4,
 "nbformat_minor": 5
}
