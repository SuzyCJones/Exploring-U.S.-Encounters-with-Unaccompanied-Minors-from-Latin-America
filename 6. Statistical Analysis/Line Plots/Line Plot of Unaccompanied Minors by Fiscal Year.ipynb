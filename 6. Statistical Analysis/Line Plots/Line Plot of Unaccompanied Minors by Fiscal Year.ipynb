{
 "cells": [
  {
   "cell_type": "markdown",
   "id": "c1718441",
   "metadata": {},
   "source": [
    "# Line Plot of Unaccompanied Minors by Fiscal Year"
   ]
  },
  {
   "cell_type": "markdown",
   "id": "7745eb4b",
   "metadata": {},
   "source": [
    "## USBP Dataset Wrangling: "
   ]
  },
  {
   "cell_type": "code",
   "execution_count": 5,
   "id": "d260eb4e",
   "metadata": {},
   "outputs": [
    {
     "name": "stdout",
     "output_type": "stream",
     "text": [
      "\n",
      "The downloaded binary packages are in\n",
      "\t/var/folders/q_/vv8mn9pn63l7m3ps3k_2tqdm0000gn/T//RtmpDDJtUp/downloaded_packages\n"
     ]
    },
    {
     "name": "stderr",
     "output_type": "stream",
     "text": [
      "Warning message:\n",
      "“package ‘datasets’ is a base package, and should not be updated”\n"
     ]
    },
    {
     "name": "stdout",
     "output_type": "stream",
     "text": [
      "\n",
      "The downloaded binary packages are in\n",
      "\t/var/folders/q_/vv8mn9pn63l7m3ps3k_2tqdm0000gn/T//RtmpDDJtUp/downloaded_packages\n",
      "\n",
      "The downloaded binary packages are in\n",
      "\t/var/folders/q_/vv8mn9pn63l7m3ps3k_2tqdm0000gn/T//RtmpDDJtUp/downloaded_packages\n",
      "\n",
      "The downloaded binary packages are in\n",
      "\t/var/folders/q_/vv8mn9pn63l7m3ps3k_2tqdm0000gn/T//RtmpDDJtUp/downloaded_packages\n",
      "\n",
      "The downloaded binary packages are in\n",
      "\t/var/folders/q_/vv8mn9pn63l7m3ps3k_2tqdm0000gn/T//RtmpDDJtUp/downloaded_packages\n",
      "\n",
      "The downloaded binary packages are in\n",
      "\t/var/folders/q_/vv8mn9pn63l7m3ps3k_2tqdm0000gn/T//RtmpDDJtUp/downloaded_packages\n"
     ]
    },
    {
     "name": "stderr",
     "output_type": "stream",
     "text": [
      "Warning message:\n",
      "“package ‘gridextra’ is not available for this version of R\n",
      "\n",
      "A version of this package for your version of R might be available elsewhere,\n",
      "see the ideas at\n",
      "https://cran.r-project.org/doc/manuals/r-patched/R-admin.html#Installing-packages”\n",
      "Warning message:\n",
      "“Perhaps you meant ‘gridExtra’ ?”\n"
     ]
    },
    {
     "name": "stdout",
     "output_type": "stream",
     "text": [
      "\n",
      "The downloaded binary packages are in\n",
      "\t/var/folders/q_/vv8mn9pn63l7m3ps3k_2tqdm0000gn/T//RtmpDDJtUp/downloaded_packages\n",
      "\n",
      "The downloaded binary packages are in\n",
      "\t/var/folders/q_/vv8mn9pn63l7m3ps3k_2tqdm0000gn/T//RtmpDDJtUp/downloaded_packages\n",
      "\n",
      "The downloaded binary packages are in\n",
      "\t/var/folders/q_/vv8mn9pn63l7m3ps3k_2tqdm0000gn/T//RtmpDDJtUp/downloaded_packages\n",
      "\n",
      "The downloaded binary packages are in\n",
      "\t/var/folders/q_/vv8mn9pn63l7m3ps3k_2tqdm0000gn/T//RtmpDDJtUp/downloaded_packages\n",
      "\n",
      "The downloaded binary packages are in\n",
      "\t/var/folders/q_/vv8mn9pn63l7m3ps3k_2tqdm0000gn/T//RtmpDDJtUp/downloaded_packages\n",
      "\n",
      "The downloaded binary packages are in\n",
      "\t/var/folders/q_/vv8mn9pn63l7m3ps3k_2tqdm0000gn/T//RtmpDDJtUp/downloaded_packages\n",
      "\n",
      "The downloaded binary packages are in\n",
      "\t/var/folders/q_/vv8mn9pn63l7m3ps3k_2tqdm0000gn/T//RtmpDDJtUp/downloaded_packages\n",
      "\n",
      "The downloaded binary packages are in\n",
      "\t/var/folders/q_/vv8mn9pn63l7m3ps3k_2tqdm0000gn/T//RtmpDDJtUp/downloaded_packages\n",
      "\n",
      "The downloaded binary packages are in\n",
      "\t/var/folders/q_/vv8mn9pn63l7m3ps3k_2tqdm0000gn/T//RtmpDDJtUp/downloaded_packages\n",
      "\n",
      "The downloaded binary packages are in\n",
      "\t/var/folders/q_/vv8mn9pn63l7m3ps3k_2tqdm0000gn/T//RtmpDDJtUp/downloaded_packages\n",
      "\n",
      "The downloaded binary packages are in\n",
      "\t/var/folders/q_/vv8mn9pn63l7m3ps3k_2tqdm0000gn/T//RtmpDDJtUp/downloaded_packages\n",
      "\n",
      "The downloaded binary packages are in\n",
      "\t/var/folders/q_/vv8mn9pn63l7m3ps3k_2tqdm0000gn/T//RtmpDDJtUp/downloaded_packages\n",
      "\n",
      "The downloaded binary packages are in\n",
      "\t/var/folders/q_/vv8mn9pn63l7m3ps3k_2tqdm0000gn/T//RtmpDDJtUp/downloaded_packages\n",
      "\n",
      "The downloaded binary packages are in\n",
      "\t/var/folders/q_/vv8mn9pn63l7m3ps3k_2tqdm0000gn/T//RtmpDDJtUp/downloaded_packages\n",
      "\n",
      "The downloaded binary packages are in\n",
      "\t/var/folders/q_/vv8mn9pn63l7m3ps3k_2tqdm0000gn/T//RtmpDDJtUp/downloaded_packages\n",
      "\n",
      "The downloaded binary packages are in\n",
      "\t/var/folders/q_/vv8mn9pn63l7m3ps3k_2tqdm0000gn/T//RtmpDDJtUp/downloaded_packages\n",
      "\n",
      "The downloaded binary packages are in\n",
      "\t/var/folders/q_/vv8mn9pn63l7m3ps3k_2tqdm0000gn/T//RtmpDDJtUp/downloaded_packages\n",
      "\n",
      "The downloaded binary packages are in\n",
      "\t/var/folders/q_/vv8mn9pn63l7m3ps3k_2tqdm0000gn/T//RtmpDDJtUp/downloaded_packages\n",
      "\n",
      "The downloaded binary packages are in\n",
      "\t/var/folders/q_/vv8mn9pn63l7m3ps3k_2tqdm0000gn/T//RtmpDDJtUp/downloaded_packages\n",
      "\n",
      "The downloaded binary packages are in\n",
      "\t/var/folders/q_/vv8mn9pn63l7m3ps3k_2tqdm0000gn/T//RtmpDDJtUp/downloaded_packages\n",
      "\n",
      "The downloaded binary packages are in\n",
      "\t/var/folders/q_/vv8mn9pn63l7m3ps3k_2tqdm0000gn/T//RtmpDDJtUp/downloaded_packages\n",
      "\n",
      "The downloaded binary packages are in\n",
      "\t/var/folders/q_/vv8mn9pn63l7m3ps3k_2tqdm0000gn/T//RtmpDDJtUp/downloaded_packages\n",
      "\n",
      "The downloaded binary packages are in\n",
      "\t/var/folders/q_/vv8mn9pn63l7m3ps3k_2tqdm0000gn/T//RtmpDDJtUp/downloaded_packages\n",
      "\n",
      "The downloaded binary packages are in\n",
      "\t/var/folders/q_/vv8mn9pn63l7m3ps3k_2tqdm0000gn/T//RtmpDDJtUp/downloaded_packages\n"
     ]
    }
   ],
   "source": [
    "install.packages(\"ggplot2\")\n",
    "install.packages(\"datasets\")\n",
    "install.packages(\"readxl\") \n",
    "install.packages(\"dplyr\") \n",
    "install.packages(\"PerformanceAnalytics\")\n",
    "install.packages(\"corrplot\") \n",
    "install.packages(\"gapminder\")\n",
    "install.packages(\"gridextra\")\n",
    "install.packages(\"Ecdat\")\n",
    "install.packages(\"corpcor\")\n",
    "install.packages(\"GPArotation\")\n",
    "install.packages(\"psych\")\n",
    "install.packages(\"IDPmisc\")\n",
    "install.packages(\"lattice\") \n",
    "install.packages(\"treetop\")\n",
    "install.packages(\"scales\")\n",
    "install.packages(\"rcompanion\")\n",
    "install.packages(\"gmodels\")\n",
    "install.packages(\"car\")\n",
    "install.packages(\"caret\")\n",
    "install.packages(\"gvlma\")\n",
    "install.packages(\"predictmeans\")\n",
    "install.packages(\"caret\")\n",
    "install.packages(\"magrittr\")\n",
    "install.packages(\"tidyr\")\n",
    "install.packages(\"lmtest\")\n",
    "install.packages(\"popbio\")\n",
    "install.packages(\"e1071\")\n",
    "install.packages(\"data.table\")\n",
    "install.packages(\"effects\")\n",
    "install.packages(\"multcomp\")\n",
    "install.packages(\"mvnormtest\")"
   ]
  },
  {
   "cell_type": "markdown",
   "id": "19e10ddc",
   "metadata": {},
   "source": [
    "### Import Data"
   ]
  },
  {
   "cell_type": "code",
   "execution_count": 6,
   "id": "962b7205",
   "metadata": {},
   "outputs": [],
   "source": [
    "BPEncounters = read.csv(\"/Users/suzejones/Downloads/sbo-encounters-fy19-fy22.csv\")"
   ]
  },
  {
   "cell_type": "markdown",
   "id": "09ae75cf",
   "metadata": {},
   "source": [
    "### View Data"
   ]
  },
  {
   "cell_type": "code",
   "execution_count": 7,
   "id": "f431c10b",
   "metadata": {},
   "outputs": [
    {
     "data": {
      "text/html": [
       "<table class=\"dataframe\">\n",
       "<caption>A data.frame: 2264 × 9</caption>\n",
       "<thead>\n",
       "\t<tr><th scope=col>Fiscal.Year</th><th scope=col>Month.Grouping</th><th scope=col>Month..abbv.</th><th scope=col>Component</th><th scope=col>Demographic</th><th scope=col>Citizenship.Grouping</th><th scope=col>Title.of.Authority</th><th scope=col>Encounter.Type</th><th scope=col>Encounter.Count</th></tr>\n",
       "\t<tr><th scope=col>&lt;int&gt;</th><th scope=col>&lt;chr&gt;</th><th scope=col>&lt;chr&gt;</th><th scope=col>&lt;chr&gt;</th><th scope=col>&lt;chr&gt;</th><th scope=col>&lt;chr&gt;</th><th scope=col>&lt;chr&gt;</th><th scope=col>&lt;chr&gt;</th><th scope=col>&lt;dbl&gt;</th></tr>\n",
       "</thead>\n",
       "<tbody>\n",
       "\t<tr><td>2019</td><td>FYTD</td><td>AUG</td><td>Office of Field Operations</td><td>Accompanied Minors</td><td>Guatemala  </td><td>Title 8 </td><td>Inadmissibles</td><td>    0</td></tr>\n",
       "\t<tr><td>2019</td><td>FYTD</td><td>DEC</td><td>U.S. Border Patrol        </td><td>FMUA              </td><td>Honduras   </td><td>Title 8 </td><td>Apprehensions</td><td> 9584</td></tr>\n",
       "\t<tr><td>2021</td><td>FYTD</td><td>SEP</td><td>Office of Field Operations</td><td>Single Adults     </td><td>Other      </td><td>Title 8 </td><td>Inadmissibles</td><td> 1108</td></tr>\n",
       "\t<tr><td>2021</td><td>FYTD</td><td>SEP</td><td>Office of Field Operations</td><td>Single Adults     </td><td>Guatemala  </td><td>Title 8 </td><td>Inadmissibles</td><td>   14</td></tr>\n",
       "\t<tr><td>2019</td><td>FYTD</td><td>JUN</td><td>Office of Field Operations</td><td>Single Adults     </td><td>Honduras   </td><td>Title 8 </td><td>Inadmissibles</td><td>   87</td></tr>\n",
       "\t<tr><td>2019</td><td>FYTD</td><td>OCT</td><td>Office of Field Operations</td><td>UC / Single Minors</td><td>Guatemala  </td><td>Title 8 </td><td>Inadmissibles</td><td>  121</td></tr>\n",
       "\t<tr><td>2019</td><td>FYTD</td><td>SEP</td><td>U.S. Border Patrol        </td><td>FMUA              </td><td>Mexico     </td><td>Title 8 </td><td>Apprehensions</td><td> 1693</td></tr>\n",
       "\t<tr><td>2021</td><td>FYTD</td><td>AUG</td><td>U.S. Border Patrol        </td><td>FMUA              </td><td>Mexico     </td><td>Title 42</td><td>Expulsions   </td><td> 1580</td></tr>\n",
       "\t<tr><td>2020</td><td>FYTD</td><td>MAY</td><td>U.S. Border Patrol        </td><td>FMUA              </td><td>Honduras   </td><td>Title 8 </td><td>Apprehensions</td><td>    8</td></tr>\n",
       "\t<tr><td>2019</td><td>FYTD</td><td>FEB</td><td>Office of Field Operations</td><td>UC / Single Minors</td><td>Honduras   </td><td>Title 8 </td><td>Inadmissibles</td><td>   71</td></tr>\n",
       "\t<tr><td>2020</td><td>FYTD</td><td>MAY</td><td>Office of Field Operations</td><td>Accompanied Minors</td><td>Other      </td><td>Title 42</td><td>Expulsions   </td><td>    7</td></tr>\n",
       "\t<tr><td>2019</td><td>FYTD</td><td>JUN</td><td>Office of Field Operations</td><td>UC / Single Minors</td><td>El Salvador</td><td>Title 8 </td><td>Inadmissibles</td><td>    9</td></tr>\n",
       "\t<tr><td>2019</td><td>FYTD</td><td>JUL</td><td>Office of Field Operations</td><td>Single Adults     </td><td>Guatemala  </td><td>Title 8 </td><td>Inadmissibles</td><td>   49</td></tr>\n",
       "\t<tr><td>2021</td><td>FYTD</td><td>OCT</td><td>U.S. Border Patrol        </td><td>UC / Single Minors</td><td>Honduras   </td><td>Title 42</td><td>Expulsions   </td><td>  221</td></tr>\n",
       "\t<tr><td>2019</td><td>FYTD</td><td>NOV</td><td>Office of Field Operations</td><td>Single Adults     </td><td>Mexico     </td><td>Title 8 </td><td>Inadmissibles</td><td> 3175</td></tr>\n",
       "\t<tr><td>2019</td><td>FYTD</td><td>AUG</td><td>Office of Field Operations</td><td>UC / Single Minors</td><td>Other      </td><td>Title 8 </td><td>Inadmissibles</td><td>   30</td></tr>\n",
       "\t<tr><td>2020</td><td>FYTD</td><td>JUL</td><td>U.S. Border Patrol        </td><td>Single Adults     </td><td>Honduras   </td><td>Title 8 </td><td>Apprehensions</td><td>   98</td></tr>\n",
       "\t<tr><td>2020</td><td>FYTD</td><td>JAN</td><td>U.S. Border Patrol        </td><td>Single Adults     </td><td>Other      </td><td>Title 8 </td><td>Apprehensions</td><td> 2532</td></tr>\n",
       "\t<tr><td>2020</td><td>FYTD</td><td>APR</td><td>U.S. Border Patrol        </td><td>FMUA              </td><td>Mexico     </td><td>Title 42</td><td>Expulsions   </td><td>  264</td></tr>\n",
       "\t<tr><td>2021</td><td>FYTD</td><td>DEC</td><td>Office of Field Operations</td><td>Accompanied Minors</td><td>Mexico     </td><td>Title 42</td><td>Expulsions   </td><td>   53</td></tr>\n",
       "\t<tr><td>2021</td><td>FYTD</td><td>MAR</td><td>Office of Field Operations</td><td>FMUA              </td><td>Mexico     </td><td>Title 8 </td><td>Inadmissibles</td><td>  327</td></tr>\n",
       "\t<tr><td>2020</td><td>FYTD</td><td>MAR</td><td>Office of Field Operations</td><td>FMUA              </td><td>Other      </td><td>Title 8 </td><td>Inadmissibles</td><td>  265</td></tr>\n",
       "\t<tr><td>2021</td><td>FYTD</td><td>MAR</td><td>U.S. Border Patrol        </td><td>FMUA              </td><td>Other      </td><td>Title 8 </td><td>Apprehensions</td><td> 9769</td></tr>\n",
       "\t<tr><td>2021</td><td>FYTD</td><td>JUN</td><td>U.S. Border Patrol        </td><td>FMUA              </td><td>Guatemala  </td><td>Title 42</td><td>Expulsions   </td><td> 1972</td></tr>\n",
       "\t<tr><td>2019</td><td>FYTD</td><td>SEP</td><td>U.S. Border Patrol        </td><td>Single Adults     </td><td>El Salvador</td><td>Title 8 </td><td>Apprehensions</td><td> 1089</td></tr>\n",
       "\t<tr><td>2019</td><td>FYTD</td><td>JAN</td><td>Office of Field Operations</td><td>FMUA              </td><td>Mexico     </td><td>Title 8 </td><td>Inadmissibles</td><td> 1870</td></tr>\n",
       "\t<tr><td>2019</td><td>FYTD</td><td>NOV</td><td>U.S. Border Patrol        </td><td>FMUA              </td><td>Guatemala  </td><td>Title 8 </td><td>Apprehensions</td><td>12306</td></tr>\n",
       "\t<tr><td>2020</td><td>FYTD</td><td>MAY</td><td>U.S. Border Patrol        </td><td>FMUA              </td><td>Guatemala  </td><td>Title 8 </td><td>Apprehensions</td><td>    2</td></tr>\n",
       "\t<tr><td>2021</td><td>FYTD</td><td>APR</td><td>U.S. Border Patrol        </td><td>Single Adults     </td><td>El Salvador</td><td>Title 8 </td><td>Apprehensions</td><td>  180</td></tr>\n",
       "\t<tr><td>2019</td><td>FYTD</td><td>MAR</td><td>Office of Field Operations</td><td>UC / Single Minors</td><td>El Salvador</td><td>Title 8 </td><td>Inadmissibles</td><td>   21</td></tr>\n",
       "\t<tr><td>⋮</td><td>⋮</td><td>⋮</td><td>⋮</td><td>⋮</td><td>⋮</td><td>⋮</td><td>⋮</td><td>⋮</td></tr>\n",
       "\t<tr><td>2022</td><td>FYTD</td><td>SEP</td><td>Office of Field Operations</td><td>UC / Single Minors</td><td>Honduras   </td><td>Title 8 </td><td>Inadmissibles</td><td>   20</td></tr>\n",
       "\t<tr><td>2022</td><td>FYTD</td><td>SEP</td><td>Office of Field Operations</td><td>UC / Single Minors</td><td>Mexico     </td><td>Title 8 </td><td>Inadmissibles</td><td>  289</td></tr>\n",
       "\t<tr><td>2022</td><td>FYTD</td><td>SEP</td><td>Office of Field Operations</td><td>UC / Single Minors</td><td>Other      </td><td>Title 8 </td><td>Inadmissibles</td><td>   26</td></tr>\n",
       "\t<tr><td>2022</td><td>FYTD</td><td>SEP</td><td>U.S. Border Patrol        </td><td>FMUA              </td><td>El Salvador</td><td>Title 42</td><td>Apprehensions</td><td>  419</td></tr>\n",
       "\t<tr><td>2022</td><td>FYTD</td><td>SEP</td><td>U.S. Border Patrol        </td><td>FMUA              </td><td>El Salvador</td><td>Title 8 </td><td>Apprehensions</td><td>  792</td></tr>\n",
       "\t<tr><td>2022</td><td>FYTD</td><td>SEP</td><td>U.S. Border Patrol        </td><td>FMUA              </td><td>Guatemala  </td><td>Title 42</td><td>Apprehensions</td><td> 1121</td></tr>\n",
       "\t<tr><td>2022</td><td>FYTD</td><td>SEP</td><td>U.S. Border Patrol        </td><td>FMUA              </td><td>Guatemala  </td><td>Title 8 </td><td>Apprehensions</td><td>  313</td></tr>\n",
       "\t<tr><td>2022</td><td>FYTD</td><td>SEP</td><td>U.S. Border Patrol        </td><td>FMUA              </td><td>Honduras   </td><td>Title 42</td><td>Apprehensions</td><td> 1643</td></tr>\n",
       "\t<tr><td>2022</td><td>FYTD</td><td>SEP</td><td>U.S. Border Patrol        </td><td>FMUA              </td><td>Honduras   </td><td>Title 8 </td><td>Apprehensions</td><td>  461</td></tr>\n",
       "\t<tr><td>2022</td><td>FYTD</td><td>SEP</td><td>U.S. Border Patrol        </td><td>FMUA              </td><td>Mexico     </td><td>Title 42</td><td>Apprehensions</td><td> 1872</td></tr>\n",
       "\t<tr><td>2022</td><td>FYTD</td><td>SEP</td><td>U.S. Border Patrol        </td><td>FMUA              </td><td>Mexico     </td><td>Title 8 </td><td>Apprehensions</td><td>  463</td></tr>\n",
       "\t<tr><td>2022</td><td>FYTD</td><td>SEP</td><td>U.S. Border Patrol        </td><td>FMUA              </td><td>Other      </td><td>Title 42</td><td>Apprehensions</td><td>  659</td></tr>\n",
       "\t<tr><td>2022</td><td>FYTD</td><td>SEP</td><td>U.S. Border Patrol        </td><td>FMUA              </td><td>Other      </td><td>Title 8 </td><td>Apprehensions</td><td>36836</td></tr>\n",
       "\t<tr><td>2022</td><td>FYTD</td><td>SEP</td><td>U.S. Border Patrol        </td><td>Single Adults     </td><td>El Salvador</td><td>Title 42</td><td>Apprehensions</td><td> 2980</td></tr>\n",
       "\t<tr><td>2022</td><td>FYTD</td><td>SEP</td><td>U.S. Border Patrol        </td><td>Single Adults     </td><td>El Salvador</td><td>Title 8 </td><td>Apprehensions</td><td>  386</td></tr>\n",
       "\t<tr><td>2022</td><td>FYTD</td><td>SEP</td><td>U.S. Border Patrol        </td><td>Single Adults     </td><td>Guatemala  </td><td>Title 42</td><td>Apprehensions</td><td> 8574</td></tr>\n",
       "\t<tr><td>2022</td><td>FYTD</td><td>SEP</td><td>U.S. Border Patrol        </td><td>Single Adults     </td><td>Guatemala  </td><td>Title 8 </td><td>Apprehensions</td><td>  459</td></tr>\n",
       "\t<tr><td>2022</td><td>FYTD</td><td>SEP</td><td>U.S. Border Patrol        </td><td>Single Adults     </td><td>Honduras   </td><td>Title 42</td><td>Apprehensions</td><td> 6740</td></tr>\n",
       "\t<tr><td>2022</td><td>FYTD</td><td>SEP</td><td>U.S. Border Patrol        </td><td>Single Adults     </td><td>Honduras   </td><td>Title 8 </td><td>Apprehensions</td><td>  596</td></tr>\n",
       "\t<tr><td>2022</td><td>FYTD</td><td>SEP</td><td>U.S. Border Patrol        </td><td>Single Adults     </td><td>Mexico     </td><td>Title 42</td><td>Apprehensions</td><td>46788</td></tr>\n",
       "\t<tr><td>2022</td><td>FYTD</td><td>SEP</td><td>U.S. Border Patrol        </td><td>Single Adults     </td><td>Mexico     </td><td>Title 8 </td><td>Apprehensions</td><td> 4234</td></tr>\n",
       "\t<tr><td>2022</td><td>FYTD</td><td>SEP</td><td>U.S. Border Patrol        </td><td>Single Adults     </td><td>Other      </td><td>Title 42</td><td>Apprehensions</td><td> 1674</td></tr>\n",
       "\t<tr><td>2022</td><td>FYTD</td><td>SEP</td><td>U.S. Border Patrol        </td><td>Single Adults     </td><td>Other      </td><td>Title 8 </td><td>Apprehensions</td><td>79048</td></tr>\n",
       "\t<tr><td>2022</td><td>FYTD</td><td>SEP</td><td>U.S. Border Patrol        </td><td>UC / Single Minors</td><td>El Salvador</td><td>Title 8 </td><td>Apprehensions</td><td> 1146</td></tr>\n",
       "\t<tr><td>2022</td><td>FYTD</td><td>SEP</td><td>U.S. Border Patrol        </td><td>UC / Single Minors</td><td>Guatemala  </td><td>Title 42</td><td>Apprehensions</td><td>    1</td></tr>\n",
       "\t<tr><td>2022</td><td>FYTD</td><td>SEP</td><td>U.S. Border Patrol        </td><td>UC / Single Minors</td><td>Guatemala  </td><td>Title 8 </td><td>Apprehensions</td><td> 4442</td></tr>\n",
       "\t<tr><td>2022</td><td>FYTD</td><td>SEP</td><td>U.S. Border Patrol        </td><td>UC / Single Minors</td><td>Honduras   </td><td>Title 8 </td><td>Apprehensions</td><td> 2757</td></tr>\n",
       "\t<tr><td>2022</td><td>FYTD</td><td>SEP</td><td>U.S. Border Patrol        </td><td>UC / Single Minors</td><td>Mexico     </td><td>Title 42</td><td>Apprehensions</td><td>    1</td></tr>\n",
       "\t<tr><td>2022</td><td>FYTD</td><td>SEP</td><td>U.S. Border Patrol        </td><td>UC / Single Minors</td><td>Mexico     </td><td>Title 8 </td><td>Apprehensions</td><td> 2014</td></tr>\n",
       "\t<tr><td>2022</td><td>FYTD</td><td>SEP</td><td>U.S. Border Patrol        </td><td>UC / Single Minors</td><td>Other      </td><td>Title 8 </td><td>Apprehensions</td><td> 1178</td></tr>\n",
       "</tbody>\n",
       "</table>\n"
      ],
      "text/latex": [
       "A data.frame: 2264 × 9\n",
       "\\begin{tabular}{lllllllll}\n",
       " Fiscal.Year & Month.Grouping & Month..abbv. & Component & Demographic & Citizenship.Grouping & Title.of.Authority & Encounter.Type & Encounter.Count\\\\\n",
       " <int> & <chr> & <chr> & <chr> & <chr> & <chr> & <chr> & <chr> & <dbl>\\\\\n",
       "\\hline\n",
       "\t 2019 & FYTD & AUG & Office of Field Operations & Accompanied Minors & Guatemala   & Title 8  & Inadmissibles &     0\\\\\n",
       "\t 2019 & FYTD & DEC & U.S. Border Patrol         & FMUA               & Honduras    & Title 8  & Apprehensions &  9584\\\\\n",
       "\t 2021 & FYTD & SEP & Office of Field Operations & Single Adults      & Other       & Title 8  & Inadmissibles &  1108\\\\\n",
       "\t 2021 & FYTD & SEP & Office of Field Operations & Single Adults      & Guatemala   & Title 8  & Inadmissibles &    14\\\\\n",
       "\t 2019 & FYTD & JUN & Office of Field Operations & Single Adults      & Honduras    & Title 8  & Inadmissibles &    87\\\\\n",
       "\t 2019 & FYTD & OCT & Office of Field Operations & UC / Single Minors & Guatemala   & Title 8  & Inadmissibles &   121\\\\\n",
       "\t 2019 & FYTD & SEP & U.S. Border Patrol         & FMUA               & Mexico      & Title 8  & Apprehensions &  1693\\\\\n",
       "\t 2021 & FYTD & AUG & U.S. Border Patrol         & FMUA               & Mexico      & Title 42 & Expulsions    &  1580\\\\\n",
       "\t 2020 & FYTD & MAY & U.S. Border Patrol         & FMUA               & Honduras    & Title 8  & Apprehensions &     8\\\\\n",
       "\t 2019 & FYTD & FEB & Office of Field Operations & UC / Single Minors & Honduras    & Title 8  & Inadmissibles &    71\\\\\n",
       "\t 2020 & FYTD & MAY & Office of Field Operations & Accompanied Minors & Other       & Title 42 & Expulsions    &     7\\\\\n",
       "\t 2019 & FYTD & JUN & Office of Field Operations & UC / Single Minors & El Salvador & Title 8  & Inadmissibles &     9\\\\\n",
       "\t 2019 & FYTD & JUL & Office of Field Operations & Single Adults      & Guatemala   & Title 8  & Inadmissibles &    49\\\\\n",
       "\t 2021 & FYTD & OCT & U.S. Border Patrol         & UC / Single Minors & Honduras    & Title 42 & Expulsions    &   221\\\\\n",
       "\t 2019 & FYTD & NOV & Office of Field Operations & Single Adults      & Mexico      & Title 8  & Inadmissibles &  3175\\\\\n",
       "\t 2019 & FYTD & AUG & Office of Field Operations & UC / Single Minors & Other       & Title 8  & Inadmissibles &    30\\\\\n",
       "\t 2020 & FYTD & JUL & U.S. Border Patrol         & Single Adults      & Honduras    & Title 8  & Apprehensions &    98\\\\\n",
       "\t 2020 & FYTD & JAN & U.S. Border Patrol         & Single Adults      & Other       & Title 8  & Apprehensions &  2532\\\\\n",
       "\t 2020 & FYTD & APR & U.S. Border Patrol         & FMUA               & Mexico      & Title 42 & Expulsions    &   264\\\\\n",
       "\t 2021 & FYTD & DEC & Office of Field Operations & Accompanied Minors & Mexico      & Title 42 & Expulsions    &    53\\\\\n",
       "\t 2021 & FYTD & MAR & Office of Field Operations & FMUA               & Mexico      & Title 8  & Inadmissibles &   327\\\\\n",
       "\t 2020 & FYTD & MAR & Office of Field Operations & FMUA               & Other       & Title 8  & Inadmissibles &   265\\\\\n",
       "\t 2021 & FYTD & MAR & U.S. Border Patrol         & FMUA               & Other       & Title 8  & Apprehensions &  9769\\\\\n",
       "\t 2021 & FYTD & JUN & U.S. Border Patrol         & FMUA               & Guatemala   & Title 42 & Expulsions    &  1972\\\\\n",
       "\t 2019 & FYTD & SEP & U.S. Border Patrol         & Single Adults      & El Salvador & Title 8  & Apprehensions &  1089\\\\\n",
       "\t 2019 & FYTD & JAN & Office of Field Operations & FMUA               & Mexico      & Title 8  & Inadmissibles &  1870\\\\\n",
       "\t 2019 & FYTD & NOV & U.S. Border Patrol         & FMUA               & Guatemala   & Title 8  & Apprehensions & 12306\\\\\n",
       "\t 2020 & FYTD & MAY & U.S. Border Patrol         & FMUA               & Guatemala   & Title 8  & Apprehensions &     2\\\\\n",
       "\t 2021 & FYTD & APR & U.S. Border Patrol         & Single Adults      & El Salvador & Title 8  & Apprehensions &   180\\\\\n",
       "\t 2019 & FYTD & MAR & Office of Field Operations & UC / Single Minors & El Salvador & Title 8  & Inadmissibles &    21\\\\\n",
       "\t ⋮ & ⋮ & ⋮ & ⋮ & ⋮ & ⋮ & ⋮ & ⋮ & ⋮\\\\\n",
       "\t 2022 & FYTD & SEP & Office of Field Operations & UC / Single Minors & Honduras    & Title 8  & Inadmissibles &    20\\\\\n",
       "\t 2022 & FYTD & SEP & Office of Field Operations & UC / Single Minors & Mexico      & Title 8  & Inadmissibles &   289\\\\\n",
       "\t 2022 & FYTD & SEP & Office of Field Operations & UC / Single Minors & Other       & Title 8  & Inadmissibles &    26\\\\\n",
       "\t 2022 & FYTD & SEP & U.S. Border Patrol         & FMUA               & El Salvador & Title 42 & Apprehensions &   419\\\\\n",
       "\t 2022 & FYTD & SEP & U.S. Border Patrol         & FMUA               & El Salvador & Title 8  & Apprehensions &   792\\\\\n",
       "\t 2022 & FYTD & SEP & U.S. Border Patrol         & FMUA               & Guatemala   & Title 42 & Apprehensions &  1121\\\\\n",
       "\t 2022 & FYTD & SEP & U.S. Border Patrol         & FMUA               & Guatemala   & Title 8  & Apprehensions &   313\\\\\n",
       "\t 2022 & FYTD & SEP & U.S. Border Patrol         & FMUA               & Honduras    & Title 42 & Apprehensions &  1643\\\\\n",
       "\t 2022 & FYTD & SEP & U.S. Border Patrol         & FMUA               & Honduras    & Title 8  & Apprehensions &   461\\\\\n",
       "\t 2022 & FYTD & SEP & U.S. Border Patrol         & FMUA               & Mexico      & Title 42 & Apprehensions &  1872\\\\\n",
       "\t 2022 & FYTD & SEP & U.S. Border Patrol         & FMUA               & Mexico      & Title 8  & Apprehensions &   463\\\\\n",
       "\t 2022 & FYTD & SEP & U.S. Border Patrol         & FMUA               & Other       & Title 42 & Apprehensions &   659\\\\\n",
       "\t 2022 & FYTD & SEP & U.S. Border Patrol         & FMUA               & Other       & Title 8  & Apprehensions & 36836\\\\\n",
       "\t 2022 & FYTD & SEP & U.S. Border Patrol         & Single Adults      & El Salvador & Title 42 & Apprehensions &  2980\\\\\n",
       "\t 2022 & FYTD & SEP & U.S. Border Patrol         & Single Adults      & El Salvador & Title 8  & Apprehensions &   386\\\\\n",
       "\t 2022 & FYTD & SEP & U.S. Border Patrol         & Single Adults      & Guatemala   & Title 42 & Apprehensions &  8574\\\\\n",
       "\t 2022 & FYTD & SEP & U.S. Border Patrol         & Single Adults      & Guatemala   & Title 8  & Apprehensions &   459\\\\\n",
       "\t 2022 & FYTD & SEP & U.S. Border Patrol         & Single Adults      & Honduras    & Title 42 & Apprehensions &  6740\\\\\n",
       "\t 2022 & FYTD & SEP & U.S. Border Patrol         & Single Adults      & Honduras    & Title 8  & Apprehensions &   596\\\\\n",
       "\t 2022 & FYTD & SEP & U.S. Border Patrol         & Single Adults      & Mexico      & Title 42 & Apprehensions & 46788\\\\\n",
       "\t 2022 & FYTD & SEP & U.S. Border Patrol         & Single Adults      & Mexico      & Title 8  & Apprehensions &  4234\\\\\n",
       "\t 2022 & FYTD & SEP & U.S. Border Patrol         & Single Adults      & Other       & Title 42 & Apprehensions &  1674\\\\\n",
       "\t 2022 & FYTD & SEP & U.S. Border Patrol         & Single Adults      & Other       & Title 8  & Apprehensions & 79048\\\\\n",
       "\t 2022 & FYTD & SEP & U.S. Border Patrol         & UC / Single Minors & El Salvador & Title 8  & Apprehensions &  1146\\\\\n",
       "\t 2022 & FYTD & SEP & U.S. Border Patrol         & UC / Single Minors & Guatemala   & Title 42 & Apprehensions &     1\\\\\n",
       "\t 2022 & FYTD & SEP & U.S. Border Patrol         & UC / Single Minors & Guatemala   & Title 8  & Apprehensions &  4442\\\\\n",
       "\t 2022 & FYTD & SEP & U.S. Border Patrol         & UC / Single Minors & Honduras    & Title 8  & Apprehensions &  2757\\\\\n",
       "\t 2022 & FYTD & SEP & U.S. Border Patrol         & UC / Single Minors & Mexico      & Title 42 & Apprehensions &     1\\\\\n",
       "\t 2022 & FYTD & SEP & U.S. Border Patrol         & UC / Single Minors & Mexico      & Title 8  & Apprehensions &  2014\\\\\n",
       "\t 2022 & FYTD & SEP & U.S. Border Patrol         & UC / Single Minors & Other       & Title 8  & Apprehensions &  1178\\\\\n",
       "\\end{tabular}\n"
      ],
      "text/markdown": [
       "\n",
       "A data.frame: 2264 × 9\n",
       "\n",
       "| Fiscal.Year &lt;int&gt; | Month.Grouping &lt;chr&gt; | Month..abbv. &lt;chr&gt; | Component &lt;chr&gt; | Demographic &lt;chr&gt; | Citizenship.Grouping &lt;chr&gt; | Title.of.Authority &lt;chr&gt; | Encounter.Type &lt;chr&gt; | Encounter.Count &lt;dbl&gt; |\n",
       "|---|---|---|---|---|---|---|---|---|\n",
       "| 2019 | FYTD | AUG | Office of Field Operations | Accompanied Minors | Guatemala   | Title 8  | Inadmissibles |     0 |\n",
       "| 2019 | FYTD | DEC | U.S. Border Patrol         | FMUA               | Honduras    | Title 8  | Apprehensions |  9584 |\n",
       "| 2021 | FYTD | SEP | Office of Field Operations | Single Adults      | Other       | Title 8  | Inadmissibles |  1108 |\n",
       "| 2021 | FYTD | SEP | Office of Field Operations | Single Adults      | Guatemala   | Title 8  | Inadmissibles |    14 |\n",
       "| 2019 | FYTD | JUN | Office of Field Operations | Single Adults      | Honduras    | Title 8  | Inadmissibles |    87 |\n",
       "| 2019 | FYTD | OCT | Office of Field Operations | UC / Single Minors | Guatemala   | Title 8  | Inadmissibles |   121 |\n",
       "| 2019 | FYTD | SEP | U.S. Border Patrol         | FMUA               | Mexico      | Title 8  | Apprehensions |  1693 |\n",
       "| 2021 | FYTD | AUG | U.S. Border Patrol         | FMUA               | Mexico      | Title 42 | Expulsions    |  1580 |\n",
       "| 2020 | FYTD | MAY | U.S. Border Patrol         | FMUA               | Honduras    | Title 8  | Apprehensions |     8 |\n",
       "| 2019 | FYTD | FEB | Office of Field Operations | UC / Single Minors | Honduras    | Title 8  | Inadmissibles |    71 |\n",
       "| 2020 | FYTD | MAY | Office of Field Operations | Accompanied Minors | Other       | Title 42 | Expulsions    |     7 |\n",
       "| 2019 | FYTD | JUN | Office of Field Operations | UC / Single Minors | El Salvador | Title 8  | Inadmissibles |     9 |\n",
       "| 2019 | FYTD | JUL | Office of Field Operations | Single Adults      | Guatemala   | Title 8  | Inadmissibles |    49 |\n",
       "| 2021 | FYTD | OCT | U.S. Border Patrol         | UC / Single Minors | Honduras    | Title 42 | Expulsions    |   221 |\n",
       "| 2019 | FYTD | NOV | Office of Field Operations | Single Adults      | Mexico      | Title 8  | Inadmissibles |  3175 |\n",
       "| 2019 | FYTD | AUG | Office of Field Operations | UC / Single Minors | Other       | Title 8  | Inadmissibles |    30 |\n",
       "| 2020 | FYTD | JUL | U.S. Border Patrol         | Single Adults      | Honduras    | Title 8  | Apprehensions |    98 |\n",
       "| 2020 | FYTD | JAN | U.S. Border Patrol         | Single Adults      | Other       | Title 8  | Apprehensions |  2532 |\n",
       "| 2020 | FYTD | APR | U.S. Border Patrol         | FMUA               | Mexico      | Title 42 | Expulsions    |   264 |\n",
       "| 2021 | FYTD | DEC | Office of Field Operations | Accompanied Minors | Mexico      | Title 42 | Expulsions    |    53 |\n",
       "| 2021 | FYTD | MAR | Office of Field Operations | FMUA               | Mexico      | Title 8  | Inadmissibles |   327 |\n",
       "| 2020 | FYTD | MAR | Office of Field Operations | FMUA               | Other       | Title 8  | Inadmissibles |   265 |\n",
       "| 2021 | FYTD | MAR | U.S. Border Patrol         | FMUA               | Other       | Title 8  | Apprehensions |  9769 |\n",
       "| 2021 | FYTD | JUN | U.S. Border Patrol         | FMUA               | Guatemala   | Title 42 | Expulsions    |  1972 |\n",
       "| 2019 | FYTD | SEP | U.S. Border Patrol         | Single Adults      | El Salvador | Title 8  | Apprehensions |  1089 |\n",
       "| 2019 | FYTD | JAN | Office of Field Operations | FMUA               | Mexico      | Title 8  | Inadmissibles |  1870 |\n",
       "| 2019 | FYTD | NOV | U.S. Border Patrol         | FMUA               | Guatemala   | Title 8  | Apprehensions | 12306 |\n",
       "| 2020 | FYTD | MAY | U.S. Border Patrol         | FMUA               | Guatemala   | Title 8  | Apprehensions |     2 |\n",
       "| 2021 | FYTD | APR | U.S. Border Patrol         | Single Adults      | El Salvador | Title 8  | Apprehensions |   180 |\n",
       "| 2019 | FYTD | MAR | Office of Field Operations | UC / Single Minors | El Salvador | Title 8  | Inadmissibles |    21 |\n",
       "| ⋮ | ⋮ | ⋮ | ⋮ | ⋮ | ⋮ | ⋮ | ⋮ | ⋮ |\n",
       "| 2022 | FYTD | SEP | Office of Field Operations | UC / Single Minors | Honduras    | Title 8  | Inadmissibles |    20 |\n",
       "| 2022 | FYTD | SEP | Office of Field Operations | UC / Single Minors | Mexico      | Title 8  | Inadmissibles |   289 |\n",
       "| 2022 | FYTD | SEP | Office of Field Operations | UC / Single Minors | Other       | Title 8  | Inadmissibles |    26 |\n",
       "| 2022 | FYTD | SEP | U.S. Border Patrol         | FMUA               | El Salvador | Title 42 | Apprehensions |   419 |\n",
       "| 2022 | FYTD | SEP | U.S. Border Patrol         | FMUA               | El Salvador | Title 8  | Apprehensions |   792 |\n",
       "| 2022 | FYTD | SEP | U.S. Border Patrol         | FMUA               | Guatemala   | Title 42 | Apprehensions |  1121 |\n",
       "| 2022 | FYTD | SEP | U.S. Border Patrol         | FMUA               | Guatemala   | Title 8  | Apprehensions |   313 |\n",
       "| 2022 | FYTD | SEP | U.S. Border Patrol         | FMUA               | Honduras    | Title 42 | Apprehensions |  1643 |\n",
       "| 2022 | FYTD | SEP | U.S. Border Patrol         | FMUA               | Honduras    | Title 8  | Apprehensions |   461 |\n",
       "| 2022 | FYTD | SEP | U.S. Border Patrol         | FMUA               | Mexico      | Title 42 | Apprehensions |  1872 |\n",
       "| 2022 | FYTD | SEP | U.S. Border Patrol         | FMUA               | Mexico      | Title 8  | Apprehensions |   463 |\n",
       "| 2022 | FYTD | SEP | U.S. Border Patrol         | FMUA               | Other       | Title 42 | Apprehensions |   659 |\n",
       "| 2022 | FYTD | SEP | U.S. Border Patrol         | FMUA               | Other       | Title 8  | Apprehensions | 36836 |\n",
       "| 2022 | FYTD | SEP | U.S. Border Patrol         | Single Adults      | El Salvador | Title 42 | Apprehensions |  2980 |\n",
       "| 2022 | FYTD | SEP | U.S. Border Patrol         | Single Adults      | El Salvador | Title 8  | Apprehensions |   386 |\n",
       "| 2022 | FYTD | SEP | U.S. Border Patrol         | Single Adults      | Guatemala   | Title 42 | Apprehensions |  8574 |\n",
       "| 2022 | FYTD | SEP | U.S. Border Patrol         | Single Adults      | Guatemala   | Title 8  | Apprehensions |   459 |\n",
       "| 2022 | FYTD | SEP | U.S. Border Patrol         | Single Adults      | Honduras    | Title 42 | Apprehensions |  6740 |\n",
       "| 2022 | FYTD | SEP | U.S. Border Patrol         | Single Adults      | Honduras    | Title 8  | Apprehensions |   596 |\n",
       "| 2022 | FYTD | SEP | U.S. Border Patrol         | Single Adults      | Mexico      | Title 42 | Apprehensions | 46788 |\n",
       "| 2022 | FYTD | SEP | U.S. Border Patrol         | Single Adults      | Mexico      | Title 8  | Apprehensions |  4234 |\n",
       "| 2022 | FYTD | SEP | U.S. Border Patrol         | Single Adults      | Other       | Title 42 | Apprehensions |  1674 |\n",
       "| 2022 | FYTD | SEP | U.S. Border Patrol         | Single Adults      | Other       | Title 8  | Apprehensions | 79048 |\n",
       "| 2022 | FYTD | SEP | U.S. Border Patrol         | UC / Single Minors | El Salvador | Title 8  | Apprehensions |  1146 |\n",
       "| 2022 | FYTD | SEP | U.S. Border Patrol         | UC / Single Minors | Guatemala   | Title 42 | Apprehensions |     1 |\n",
       "| 2022 | FYTD | SEP | U.S. Border Patrol         | UC / Single Minors | Guatemala   | Title 8  | Apprehensions |  4442 |\n",
       "| 2022 | FYTD | SEP | U.S. Border Patrol         | UC / Single Minors | Honduras    | Title 8  | Apprehensions |  2757 |\n",
       "| 2022 | FYTD | SEP | U.S. Border Patrol         | UC / Single Minors | Mexico      | Title 42 | Apprehensions |     1 |\n",
       "| 2022 | FYTD | SEP | U.S. Border Patrol         | UC / Single Minors | Mexico      | Title 8  | Apprehensions |  2014 |\n",
       "| 2022 | FYTD | SEP | U.S. Border Patrol         | UC / Single Minors | Other       | Title 8  | Apprehensions |  1178 |\n",
       "\n"
      ],
      "text/plain": [
       "     Fiscal.Year Month.Grouping Month..abbv. Component                 \n",
       "1    2019        FYTD           AUG          Office of Field Operations\n",
       "2    2019        FYTD           DEC          U.S. Border Patrol        \n",
       "3    2021        FYTD           SEP          Office of Field Operations\n",
       "4    2021        FYTD           SEP          Office of Field Operations\n",
       "5    2019        FYTD           JUN          Office of Field Operations\n",
       "6    2019        FYTD           OCT          Office of Field Operations\n",
       "7    2019        FYTD           SEP          U.S. Border Patrol        \n",
       "8    2021        FYTD           AUG          U.S. Border Patrol        \n",
       "9    2020        FYTD           MAY          U.S. Border Patrol        \n",
       "10   2019        FYTD           FEB          Office of Field Operations\n",
       "11   2020        FYTD           MAY          Office of Field Operations\n",
       "12   2019        FYTD           JUN          Office of Field Operations\n",
       "13   2019        FYTD           JUL          Office of Field Operations\n",
       "14   2021        FYTD           OCT          U.S. Border Patrol        \n",
       "15   2019        FYTD           NOV          Office of Field Operations\n",
       "16   2019        FYTD           AUG          Office of Field Operations\n",
       "17   2020        FYTD           JUL          U.S. Border Patrol        \n",
       "18   2020        FYTD           JAN          U.S. Border Patrol        \n",
       "19   2020        FYTD           APR          U.S. Border Patrol        \n",
       "20   2021        FYTD           DEC          Office of Field Operations\n",
       "21   2021        FYTD           MAR          Office of Field Operations\n",
       "22   2020        FYTD           MAR          Office of Field Operations\n",
       "23   2021        FYTD           MAR          U.S. Border Patrol        \n",
       "24   2021        FYTD           JUN          U.S. Border Patrol        \n",
       "25   2019        FYTD           SEP          U.S. Border Patrol        \n",
       "26   2019        FYTD           JAN          Office of Field Operations\n",
       "27   2019        FYTD           NOV          U.S. Border Patrol        \n",
       "28   2020        FYTD           MAY          U.S. Border Patrol        \n",
       "29   2021        FYTD           APR          U.S. Border Patrol        \n",
       "30   2019        FYTD           MAR          Office of Field Operations\n",
       "⋮    ⋮           ⋮              ⋮            ⋮                         \n",
       "2235 2022        FYTD           SEP          Office of Field Operations\n",
       "2236 2022        FYTD           SEP          Office of Field Operations\n",
       "2237 2022        FYTD           SEP          Office of Field Operations\n",
       "2238 2022        FYTD           SEP          U.S. Border Patrol        \n",
       "2239 2022        FYTD           SEP          U.S. Border Patrol        \n",
       "2240 2022        FYTD           SEP          U.S. Border Patrol        \n",
       "2241 2022        FYTD           SEP          U.S. Border Patrol        \n",
       "2242 2022        FYTD           SEP          U.S. Border Patrol        \n",
       "2243 2022        FYTD           SEP          U.S. Border Patrol        \n",
       "2244 2022        FYTD           SEP          U.S. Border Patrol        \n",
       "2245 2022        FYTD           SEP          U.S. Border Patrol        \n",
       "2246 2022        FYTD           SEP          U.S. Border Patrol        \n",
       "2247 2022        FYTD           SEP          U.S. Border Patrol        \n",
       "2248 2022        FYTD           SEP          U.S. Border Patrol        \n",
       "2249 2022        FYTD           SEP          U.S. Border Patrol        \n",
       "2250 2022        FYTD           SEP          U.S. Border Patrol        \n",
       "2251 2022        FYTD           SEP          U.S. Border Patrol        \n",
       "2252 2022        FYTD           SEP          U.S. Border Patrol        \n",
       "2253 2022        FYTD           SEP          U.S. Border Patrol        \n",
       "2254 2022        FYTD           SEP          U.S. Border Patrol        \n",
       "2255 2022        FYTD           SEP          U.S. Border Patrol        \n",
       "2256 2022        FYTD           SEP          U.S. Border Patrol        \n",
       "2257 2022        FYTD           SEP          U.S. Border Patrol        \n",
       "2258 2022        FYTD           SEP          U.S. Border Patrol        \n",
       "2259 2022        FYTD           SEP          U.S. Border Patrol        \n",
       "2260 2022        FYTD           SEP          U.S. Border Patrol        \n",
       "2261 2022        FYTD           SEP          U.S. Border Patrol        \n",
       "2262 2022        FYTD           SEP          U.S. Border Patrol        \n",
       "2263 2022        FYTD           SEP          U.S. Border Patrol        \n",
       "2264 2022        FYTD           SEP          U.S. Border Patrol        \n",
       "     Demographic        Citizenship.Grouping Title.of.Authority Encounter.Type\n",
       "1    Accompanied Minors Guatemala            Title 8            Inadmissibles \n",
       "2    FMUA               Honduras             Title 8            Apprehensions \n",
       "3    Single Adults      Other                Title 8            Inadmissibles \n",
       "4    Single Adults      Guatemala            Title 8            Inadmissibles \n",
       "5    Single Adults      Honduras             Title 8            Inadmissibles \n",
       "6    UC / Single Minors Guatemala            Title 8            Inadmissibles \n",
       "7    FMUA               Mexico               Title 8            Apprehensions \n",
       "8    FMUA               Mexico               Title 42           Expulsions    \n",
       "9    FMUA               Honduras             Title 8            Apprehensions \n",
       "10   UC / Single Minors Honduras             Title 8            Inadmissibles \n",
       "11   Accompanied Minors Other                Title 42           Expulsions    \n",
       "12   UC / Single Minors El Salvador          Title 8            Inadmissibles \n",
       "13   Single Adults      Guatemala            Title 8            Inadmissibles \n",
       "14   UC / Single Minors Honduras             Title 42           Expulsions    \n",
       "15   Single Adults      Mexico               Title 8            Inadmissibles \n",
       "16   UC / Single Minors Other                Title 8            Inadmissibles \n",
       "17   Single Adults      Honduras             Title 8            Apprehensions \n",
       "18   Single Adults      Other                Title 8            Apprehensions \n",
       "19   FMUA               Mexico               Title 42           Expulsions    \n",
       "20   Accompanied Minors Mexico               Title 42           Expulsions    \n",
       "21   FMUA               Mexico               Title 8            Inadmissibles \n",
       "22   FMUA               Other                Title 8            Inadmissibles \n",
       "23   FMUA               Other                Title 8            Apprehensions \n",
       "24   FMUA               Guatemala            Title 42           Expulsions    \n",
       "25   Single Adults      El Salvador          Title 8            Apprehensions \n",
       "26   FMUA               Mexico               Title 8            Inadmissibles \n",
       "27   FMUA               Guatemala            Title 8            Apprehensions \n",
       "28   FMUA               Guatemala            Title 8            Apprehensions \n",
       "29   Single Adults      El Salvador          Title 8            Apprehensions \n",
       "30   UC / Single Minors El Salvador          Title 8            Inadmissibles \n",
       "⋮    ⋮                  ⋮                    ⋮                  ⋮             \n",
       "2235 UC / Single Minors Honduras             Title 8            Inadmissibles \n",
       "2236 UC / Single Minors Mexico               Title 8            Inadmissibles \n",
       "2237 UC / Single Minors Other                Title 8            Inadmissibles \n",
       "2238 FMUA               El Salvador          Title 42           Apprehensions \n",
       "2239 FMUA               El Salvador          Title 8            Apprehensions \n",
       "2240 FMUA               Guatemala            Title 42           Apprehensions \n",
       "2241 FMUA               Guatemala            Title 8            Apprehensions \n",
       "2242 FMUA               Honduras             Title 42           Apprehensions \n",
       "2243 FMUA               Honduras             Title 8            Apprehensions \n",
       "2244 FMUA               Mexico               Title 42           Apprehensions \n",
       "2245 FMUA               Mexico               Title 8            Apprehensions \n",
       "2246 FMUA               Other                Title 42           Apprehensions \n",
       "2247 FMUA               Other                Title 8            Apprehensions \n",
       "2248 Single Adults      El Salvador          Title 42           Apprehensions \n",
       "2249 Single Adults      El Salvador          Title 8            Apprehensions \n",
       "2250 Single Adults      Guatemala            Title 42           Apprehensions \n",
       "2251 Single Adults      Guatemala            Title 8            Apprehensions \n",
       "2252 Single Adults      Honduras             Title 42           Apprehensions \n",
       "2253 Single Adults      Honduras             Title 8            Apprehensions \n",
       "2254 Single Adults      Mexico               Title 42           Apprehensions \n",
       "2255 Single Adults      Mexico               Title 8            Apprehensions \n",
       "2256 Single Adults      Other                Title 42           Apprehensions \n",
       "2257 Single Adults      Other                Title 8            Apprehensions \n",
       "2258 UC / Single Minors El Salvador          Title 8            Apprehensions \n",
       "2259 UC / Single Minors Guatemala            Title 42           Apprehensions \n",
       "2260 UC / Single Minors Guatemala            Title 8            Apprehensions \n",
       "2261 UC / Single Minors Honduras             Title 8            Apprehensions \n",
       "2262 UC / Single Minors Mexico               Title 42           Apprehensions \n",
       "2263 UC / Single Minors Mexico               Title 8            Apprehensions \n",
       "2264 UC / Single Minors Other                Title 8            Apprehensions \n",
       "     Encounter.Count\n",
       "1        0          \n",
       "2     9584          \n",
       "3     1108          \n",
       "4       14          \n",
       "5       87          \n",
       "6      121          \n",
       "7     1693          \n",
       "8     1580          \n",
       "9        8          \n",
       "10      71          \n",
       "11       7          \n",
       "12       9          \n",
       "13      49          \n",
       "14     221          \n",
       "15    3175          \n",
       "16      30          \n",
       "17      98          \n",
       "18    2532          \n",
       "19     264          \n",
       "20      53          \n",
       "21     327          \n",
       "22     265          \n",
       "23    9769          \n",
       "24    1972          \n",
       "25    1089          \n",
       "26    1870          \n",
       "27   12306          \n",
       "28       2          \n",
       "29     180          \n",
       "30      21          \n",
       "⋮    ⋮              \n",
       "2235    20          \n",
       "2236   289          \n",
       "2237    26          \n",
       "2238   419          \n",
       "2239   792          \n",
       "2240  1121          \n",
       "2241   313          \n",
       "2242  1643          \n",
       "2243   461          \n",
       "2244  1872          \n",
       "2245   463          \n",
       "2246   659          \n",
       "2247 36836          \n",
       "2248  2980          \n",
       "2249   386          \n",
       "2250  8574          \n",
       "2251   459          \n",
       "2252  6740          \n",
       "2253   596          \n",
       "2254 46788          \n",
       "2255  4234          \n",
       "2256  1674          \n",
       "2257 79048          \n",
       "2258  1146          \n",
       "2259     1          \n",
       "2260  4442          \n",
       "2261  2757          \n",
       "2262     1          \n",
       "2263  2014          \n",
       "2264  1178          "
      ]
     },
     "metadata": {},
     "output_type": "display_data"
    }
   ],
   "source": [
    "BPEncounters\n"
   ]
  },
  {
   "cell_type": "markdown",
   "id": "4724d94d",
   "metadata": {},
   "source": [
    "### Wrangle Columns"
   ]
  },
  {
   "cell_type": "markdown",
   "id": "4fc1c0fb",
   "metadata": {},
   "source": [
    "#### Identify Column Names"
   ]
  },
  {
   "cell_type": "code",
   "execution_count": 8,
   "id": "091a3472",
   "metadata": {},
   "outputs": [],
   "source": [
    "library(\"tidyr\")"
   ]
  },
  {
   "cell_type": "code",
   "execution_count": 9,
   "id": "5e0d29ea",
   "metadata": {},
   "outputs": [
    {
     "data": {
      "text/html": [
       "<style>\n",
       ".list-inline {list-style: none; margin:0; padding: 0}\n",
       ".list-inline>li {display: inline-block}\n",
       ".list-inline>li:not(:last-child)::after {content: \"\\00b7\"; padding: 0 .5ex}\n",
       "</style>\n",
       "<ol class=list-inline><li>'Fiscal.Year'</li><li>'Month.Grouping'</li><li>'Month..abbv.'</li><li>'Component'</li><li>'Demographic'</li><li>'Citizenship.Grouping'</li><li>'Title.of.Authority'</li><li>'Encounter.Type'</li><li>'Encounter.Count'</li></ol>\n"
      ],
      "text/latex": [
       "\\begin{enumerate*}\n",
       "\\item 'Fiscal.Year'\n",
       "\\item 'Month.Grouping'\n",
       "\\item 'Month..abbv.'\n",
       "\\item 'Component'\n",
       "\\item 'Demographic'\n",
       "\\item 'Citizenship.Grouping'\n",
       "\\item 'Title.of.Authority'\n",
       "\\item 'Encounter.Type'\n",
       "\\item 'Encounter.Count'\n",
       "\\end{enumerate*}\n"
      ],
      "text/markdown": [
       "1. 'Fiscal.Year'\n",
       "2. 'Month.Grouping'\n",
       "3. 'Month..abbv.'\n",
       "4. 'Component'\n",
       "5. 'Demographic'\n",
       "6. 'Citizenship.Grouping'\n",
       "7. 'Title.of.Authority'\n",
       "8. 'Encounter.Type'\n",
       "9. 'Encounter.Count'\n",
       "\n",
       "\n"
      ],
      "text/plain": [
       "[1] \"Fiscal.Year\"          \"Month.Grouping\"       \"Month..abbv.\"        \n",
       "[4] \"Component\"            \"Demographic\"          \"Citizenship.Grouping\"\n",
       "[7] \"Title.of.Authority\"   \"Encounter.Type\"       \"Encounter.Count\"     "
      ]
     },
     "metadata": {},
     "output_type": "display_data"
    }
   ],
   "source": [
    "colnames(BPEncounters)"
   ]
  },
  {
   "cell_type": "markdown",
   "id": "7a7ca83b",
   "metadata": {},
   "source": [
    "#### Renaming Columns"
   ]
  },
  {
   "cell_type": "code",
   "execution_count": 10,
   "id": "e4306745",
   "metadata": {},
   "outputs": [],
   "source": [
    "names(BPEncounters)[names(BPEncounters) == \"Citizenship.Grouping\"] <- \"Citizenship\""
   ]
  },
  {
   "cell_type": "code",
   "execution_count": 11,
   "id": "54796a7d",
   "metadata": {},
   "outputs": [],
   "source": [
    "names(BPEncounters)[names(BPEncounters) == \"Title.Enforced\"] <- \"Law.Enforced\""
   ]
  },
  {
   "cell_type": "code",
   "execution_count": 12,
   "id": "a5e0b1c4",
   "metadata": {},
   "outputs": [
    {
     "data": {
      "text/html": [
       "<table class=\"dataframe\">\n",
       "<caption>A data.frame: 6 × 9</caption>\n",
       "<thead>\n",
       "\t<tr><th></th><th scope=col>Fiscal.Year</th><th scope=col>Month.Grouping</th><th scope=col>Month..abbv.</th><th scope=col>Component</th><th scope=col>Demographic</th><th scope=col>Citizenship</th><th scope=col>Title.of.Authority</th><th scope=col>Encounter.Type</th><th scope=col>Encounter.Count</th></tr>\n",
       "\t<tr><th></th><th scope=col>&lt;int&gt;</th><th scope=col>&lt;chr&gt;</th><th scope=col>&lt;chr&gt;</th><th scope=col>&lt;chr&gt;</th><th scope=col>&lt;chr&gt;</th><th scope=col>&lt;chr&gt;</th><th scope=col>&lt;chr&gt;</th><th scope=col>&lt;chr&gt;</th><th scope=col>&lt;dbl&gt;</th></tr>\n",
       "</thead>\n",
       "<tbody>\n",
       "\t<tr><th scope=row>1</th><td>2019</td><td>FYTD</td><td>AUG</td><td>Office of Field Operations</td><td>Accompanied Minors</td><td>Guatemala</td><td>Title 8</td><td>Inadmissibles</td><td>   0</td></tr>\n",
       "\t<tr><th scope=row>2</th><td>2019</td><td>FYTD</td><td>DEC</td><td>U.S. Border Patrol        </td><td>FMUA              </td><td>Honduras </td><td>Title 8</td><td>Apprehensions</td><td>9584</td></tr>\n",
       "\t<tr><th scope=row>3</th><td>2021</td><td>FYTD</td><td>SEP</td><td>Office of Field Operations</td><td>Single Adults     </td><td>Other    </td><td>Title 8</td><td>Inadmissibles</td><td>1108</td></tr>\n",
       "\t<tr><th scope=row>4</th><td>2021</td><td>FYTD</td><td>SEP</td><td>Office of Field Operations</td><td>Single Adults     </td><td>Guatemala</td><td>Title 8</td><td>Inadmissibles</td><td>  14</td></tr>\n",
       "\t<tr><th scope=row>5</th><td>2019</td><td>FYTD</td><td>JUN</td><td>Office of Field Operations</td><td>Single Adults     </td><td>Honduras </td><td>Title 8</td><td>Inadmissibles</td><td>  87</td></tr>\n",
       "\t<tr><th scope=row>6</th><td>2019</td><td>FYTD</td><td>OCT</td><td>Office of Field Operations</td><td>UC / Single Minors</td><td>Guatemala</td><td>Title 8</td><td>Inadmissibles</td><td> 121</td></tr>\n",
       "</tbody>\n",
       "</table>\n"
      ],
      "text/latex": [
       "A data.frame: 6 × 9\n",
       "\\begin{tabular}{r|lllllllll}\n",
       "  & Fiscal.Year & Month.Grouping & Month..abbv. & Component & Demographic & Citizenship & Title.of.Authority & Encounter.Type & Encounter.Count\\\\\n",
       "  & <int> & <chr> & <chr> & <chr> & <chr> & <chr> & <chr> & <chr> & <dbl>\\\\\n",
       "\\hline\n",
       "\t1 & 2019 & FYTD & AUG & Office of Field Operations & Accompanied Minors & Guatemala & Title 8 & Inadmissibles &    0\\\\\n",
       "\t2 & 2019 & FYTD & DEC & U.S. Border Patrol         & FMUA               & Honduras  & Title 8 & Apprehensions & 9584\\\\\n",
       "\t3 & 2021 & FYTD & SEP & Office of Field Operations & Single Adults      & Other     & Title 8 & Inadmissibles & 1108\\\\\n",
       "\t4 & 2021 & FYTD & SEP & Office of Field Operations & Single Adults      & Guatemala & Title 8 & Inadmissibles &   14\\\\\n",
       "\t5 & 2019 & FYTD & JUN & Office of Field Operations & Single Adults      & Honduras  & Title 8 & Inadmissibles &   87\\\\\n",
       "\t6 & 2019 & FYTD & OCT & Office of Field Operations & UC / Single Minors & Guatemala & Title 8 & Inadmissibles &  121\\\\\n",
       "\\end{tabular}\n"
      ],
      "text/markdown": [
       "\n",
       "A data.frame: 6 × 9\n",
       "\n",
       "| <!--/--> | Fiscal.Year &lt;int&gt; | Month.Grouping &lt;chr&gt; | Month..abbv. &lt;chr&gt; | Component &lt;chr&gt; | Demographic &lt;chr&gt; | Citizenship &lt;chr&gt; | Title.of.Authority &lt;chr&gt; | Encounter.Type &lt;chr&gt; | Encounter.Count &lt;dbl&gt; |\n",
       "|---|---|---|---|---|---|---|---|---|---|\n",
       "| 1 | 2019 | FYTD | AUG | Office of Field Operations | Accompanied Minors | Guatemala | Title 8 | Inadmissibles |    0 |\n",
       "| 2 | 2019 | FYTD | DEC | U.S. Border Patrol         | FMUA               | Honduras  | Title 8 | Apprehensions | 9584 |\n",
       "| 3 | 2021 | FYTD | SEP | Office of Field Operations | Single Adults      | Other     | Title 8 | Inadmissibles | 1108 |\n",
       "| 4 | 2021 | FYTD | SEP | Office of Field Operations | Single Adults      | Guatemala | Title 8 | Inadmissibles |   14 |\n",
       "| 5 | 2019 | FYTD | JUN | Office of Field Operations | Single Adults      | Honduras  | Title 8 | Inadmissibles |   87 |\n",
       "| 6 | 2019 | FYTD | OCT | Office of Field Operations | UC / Single Minors | Guatemala | Title 8 | Inadmissibles |  121 |\n",
       "\n"
      ],
      "text/plain": [
       "  Fiscal.Year Month.Grouping Month..abbv. Component                 \n",
       "1 2019        FYTD           AUG          Office of Field Operations\n",
       "2 2019        FYTD           DEC          U.S. Border Patrol        \n",
       "3 2021        FYTD           SEP          Office of Field Operations\n",
       "4 2021        FYTD           SEP          Office of Field Operations\n",
       "5 2019        FYTD           JUN          Office of Field Operations\n",
       "6 2019        FYTD           OCT          Office of Field Operations\n",
       "  Demographic        Citizenship Title.of.Authority Encounter.Type\n",
       "1 Accompanied Minors Guatemala   Title 8            Inadmissibles \n",
       "2 FMUA               Honduras    Title 8            Apprehensions \n",
       "3 Single Adults      Other       Title 8            Inadmissibles \n",
       "4 Single Adults      Guatemala   Title 8            Inadmissibles \n",
       "5 Single Adults      Honduras    Title 8            Inadmissibles \n",
       "6 UC / Single Minors Guatemala   Title 8            Inadmissibles \n",
       "  Encounter.Count\n",
       "1    0           \n",
       "2 9584           \n",
       "3 1108           \n",
       "4   14           \n",
       "5   87           \n",
       "6  121           "
      ]
     },
     "metadata": {},
     "output_type": "display_data"
    }
   ],
   "source": [
    "head(BPEncounters)"
   ]
  },
  {
   "cell_type": "markdown",
   "id": "d818f49c",
   "metadata": {},
   "source": [
    "### Remove \"Month.Grouping\""
   ]
  },
  {
   "cell_type": "code",
   "execution_count": 13,
   "id": "236fd304",
   "metadata": {},
   "outputs": [],
   "source": [
    "BPEncounters <- BPEncounters[, -which(names(BPEncounters) == \"Month.Grouping\")]"
   ]
  },
  {
   "cell_type": "markdown",
   "id": "c4c0ae8c",
   "metadata": {},
   "source": [
    "### Subset Dataframe for just unaccompanied minors"
   ]
  },
  {
   "cell_type": "code",
   "execution_count": 14,
   "id": "f6056ab9",
   "metadata": {},
   "outputs": [],
   "source": [
    "library(dplyr)"
   ]
  },
  {
   "cell_type": "code",
   "execution_count": 15,
   "id": "44d5d85b",
   "metadata": {},
   "outputs": [],
   "source": [
    "subset_BPEncounters <- filter(BPEncounters, Demographic == \"UC / Single Minors\")"
   ]
  },
  {
   "cell_type": "code",
   "execution_count": 17,
   "id": "e4633784",
   "metadata": {
    "scrolled": true
   },
   "outputs": [
    {
     "data": {
      "text/html": [
       "<table class=\"dataframe\">\n",
       "<caption>A data.frame: 6 × 8</caption>\n",
       "<thead>\n",
       "\t<tr><th></th><th scope=col>Fiscal.Year</th><th scope=col>Month..abbv.</th><th scope=col>Component</th><th scope=col>Demographic</th><th scope=col>Citizenship</th><th scope=col>Title.of.Authority</th><th scope=col>Encounter.Type</th><th scope=col>Encounter.Count</th></tr>\n",
       "\t<tr><th></th><th scope=col>&lt;int&gt;</th><th scope=col>&lt;chr&gt;</th><th scope=col>&lt;chr&gt;</th><th scope=col>&lt;chr&gt;</th><th scope=col>&lt;chr&gt;</th><th scope=col>&lt;chr&gt;</th><th scope=col>&lt;chr&gt;</th><th scope=col>&lt;dbl&gt;</th></tr>\n",
       "</thead>\n",
       "<tbody>\n",
       "\t<tr><th scope=row>1</th><td>2019</td><td>OCT</td><td>Office of Field Operations</td><td>UC / Single Minors</td><td>Guatemala  </td><td>Title 8 </td><td>Inadmissibles</td><td>121</td></tr>\n",
       "\t<tr><th scope=row>2</th><td>2019</td><td>FEB</td><td>Office of Field Operations</td><td>UC / Single Minors</td><td>Honduras   </td><td>Title 8 </td><td>Inadmissibles</td><td> 71</td></tr>\n",
       "\t<tr><th scope=row>3</th><td>2019</td><td>JUN</td><td>Office of Field Operations</td><td>UC / Single Minors</td><td>El Salvador</td><td>Title 8 </td><td>Inadmissibles</td><td>  9</td></tr>\n",
       "\t<tr><th scope=row>4</th><td>2021</td><td>OCT</td><td>U.S. Border Patrol        </td><td>UC / Single Minors</td><td>Honduras   </td><td>Title 42</td><td>Expulsions   </td><td>221</td></tr>\n",
       "\t<tr><th scope=row>5</th><td>2019</td><td>AUG</td><td>Office of Field Operations</td><td>UC / Single Minors</td><td>Other      </td><td>Title 8 </td><td>Inadmissibles</td><td> 30</td></tr>\n",
       "\t<tr><th scope=row>6</th><td>2019</td><td>MAR</td><td>Office of Field Operations</td><td>UC / Single Minors</td><td>El Salvador</td><td>Title 8 </td><td>Inadmissibles</td><td> 21</td></tr>\n",
       "</tbody>\n",
       "</table>\n"
      ],
      "text/latex": [
       "A data.frame: 6 × 8\n",
       "\\begin{tabular}{r|llllllll}\n",
       "  & Fiscal.Year & Month..abbv. & Component & Demographic & Citizenship & Title.of.Authority & Encounter.Type & Encounter.Count\\\\\n",
       "  & <int> & <chr> & <chr> & <chr> & <chr> & <chr> & <chr> & <dbl>\\\\\n",
       "\\hline\n",
       "\t1 & 2019 & OCT & Office of Field Operations & UC / Single Minors & Guatemala   & Title 8  & Inadmissibles & 121\\\\\n",
       "\t2 & 2019 & FEB & Office of Field Operations & UC / Single Minors & Honduras    & Title 8  & Inadmissibles &  71\\\\\n",
       "\t3 & 2019 & JUN & Office of Field Operations & UC / Single Minors & El Salvador & Title 8  & Inadmissibles &   9\\\\\n",
       "\t4 & 2021 & OCT & U.S. Border Patrol         & UC / Single Minors & Honduras    & Title 42 & Expulsions    & 221\\\\\n",
       "\t5 & 2019 & AUG & Office of Field Operations & UC / Single Minors & Other       & Title 8  & Inadmissibles &  30\\\\\n",
       "\t6 & 2019 & MAR & Office of Field Operations & UC / Single Minors & El Salvador & Title 8  & Inadmissibles &  21\\\\\n",
       "\\end{tabular}\n"
      ],
      "text/markdown": [
       "\n",
       "A data.frame: 6 × 8\n",
       "\n",
       "| <!--/--> | Fiscal.Year &lt;int&gt; | Month..abbv. &lt;chr&gt; | Component &lt;chr&gt; | Demographic &lt;chr&gt; | Citizenship &lt;chr&gt; | Title.of.Authority &lt;chr&gt; | Encounter.Type &lt;chr&gt; | Encounter.Count &lt;dbl&gt; |\n",
       "|---|---|---|---|---|---|---|---|---|\n",
       "| 1 | 2019 | OCT | Office of Field Operations | UC / Single Minors | Guatemala   | Title 8  | Inadmissibles | 121 |\n",
       "| 2 | 2019 | FEB | Office of Field Operations | UC / Single Minors | Honduras    | Title 8  | Inadmissibles |  71 |\n",
       "| 3 | 2019 | JUN | Office of Field Operations | UC / Single Minors | El Salvador | Title 8  | Inadmissibles |   9 |\n",
       "| 4 | 2021 | OCT | U.S. Border Patrol         | UC / Single Minors | Honduras    | Title 42 | Expulsions    | 221 |\n",
       "| 5 | 2019 | AUG | Office of Field Operations | UC / Single Minors | Other       | Title 8  | Inadmissibles |  30 |\n",
       "| 6 | 2019 | MAR | Office of Field Operations | UC / Single Minors | El Salvador | Title 8  | Inadmissibles |  21 |\n",
       "\n"
      ],
      "text/plain": [
       "  Fiscal.Year Month..abbv. Component                  Demographic       \n",
       "1 2019        OCT          Office of Field Operations UC / Single Minors\n",
       "2 2019        FEB          Office of Field Operations UC / Single Minors\n",
       "3 2019        JUN          Office of Field Operations UC / Single Minors\n",
       "4 2021        OCT          U.S. Border Patrol         UC / Single Minors\n",
       "5 2019        AUG          Office of Field Operations UC / Single Minors\n",
       "6 2019        MAR          Office of Field Operations UC / Single Minors\n",
       "  Citizenship Title.of.Authority Encounter.Type Encounter.Count\n",
       "1 Guatemala   Title 8            Inadmissibles  121            \n",
       "2 Honduras    Title 8            Inadmissibles   71            \n",
       "3 El Salvador Title 8            Inadmissibles    9            \n",
       "4 Honduras    Title 42           Expulsions     221            \n",
       "5 Other       Title 8            Inadmissibles   30            \n",
       "6 El Salvador Title 8            Inadmissibles   21            "
      ]
     },
     "metadata": {},
     "output_type": "display_data"
    }
   ],
   "source": [
    "head(subset_BPEncounters)"
   ]
  },
  {
   "cell_type": "markdown",
   "id": "a6bef90c",
   "metadata": {},
   "source": [
    "## Line Plot of Unaccompanied Minors by Fiscal Year"
   ]
  },
  {
   "cell_type": "code",
   "execution_count": 18,
   "id": "cc60ede8",
   "metadata": {},
   "outputs": [],
   "source": [
    "library(ggplot2)"
   ]
  },
  {
   "cell_type": "code",
   "execution_count": 22,
   "id": "6bef2d71",
   "metadata": {},
   "outputs": [],
   "source": [
    "BPEncountersUCM <- ggplot(data = subset_BPEncounters, aes(x = Fiscal.Year, y = Encounter.Count))"
   ]
  },
  {
   "cell_type": "code",
   "execution_count": 23,
   "id": "c00e6201",
   "metadata": {},
   "outputs": [],
   "source": [
    "BPEncountersUCM <- BPEncountersUCM + geom_line()"
   ]
  },
  {
   "cell_type": "code",
   "execution_count": 24,
   "id": "6df810ea",
   "metadata": {},
   "outputs": [
    {
     "data": {
      "image/png": "[encoded data removed]",
      "text/plain": [
       "plot without title"
      ]
     },
     "metadata": {
      "image/png": {
       "height": 420,
       "width": 420
      }
     },
     "output_type": "display_data"
    }
   ],
   "source": [
    "BPEncountersUCM"
   ]
  },
  {
   "cell_type": "code",
   "execution_count": null,
   "id": "7709783e",
   "metadata": {},
   "outputs": [],
   "source": []
  }
 ],
 "metadata": {
  "kernelspec": {
   "display_name": "R",
   "language": "R",
   "name": "ir"
  },
  "language_info": {
   "codemirror_mode": "r",
   "file_extension": ".r",
   "mimetype": "text/x-r-source",
   "name": "R",
   "pygments_lexer": "r",
   "version": "4.2.2"
  }
 },
 "nbformat": 4,
 "nbformat_minor": 5
}
