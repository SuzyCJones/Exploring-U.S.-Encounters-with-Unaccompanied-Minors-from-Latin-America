{
 "cells": [
  {
   "cell_type": "markdown",
   "id": "0edaa268",
   "metadata": {},
   "source": [
    "# See how Encounter Type and Month relate to each other using a Chi Square"
   ]
  },
  {
   "cell_type": "markdown",
   "id": "0ef1c6b2",
   "metadata": {},
   "source": [
    "## Import packages"
   ]
  },
  {
   "cell_type": "code",
   "execution_count": 1,
   "id": "b4b8613b",
   "metadata": {},
   "outputs": [],
   "source": [
    "import pandas as pd\n",
    "import matplotlib.pyplot as plt\n",
    "import seaborn as sns"
   ]
  },
  {
   "cell_type": "code",
   "execution_count": 2,
   "id": "17f048a0",
   "metadata": {},
   "outputs": [],
   "source": [
    "Encounters = pd.read_excel(\"/Users/suzejones/Downloads/Finalsbo-encounters-fy20-fy23-apr .xlsx\")"
   ]
  },
  {
   "cell_type": "code",
   "execution_count": 3,
   "id": "18921c08",
   "metadata": {},
   "outputs": [
    {
     "data": {
      "text/html": [
       "<div>\n",
       "<style scoped>\n",
       "    .dataframe tbody tr th:only-of-type {\n",
       "        vertical-align: middle;\n",
       "    }\n",
       "\n",
       "    .dataframe tbody tr th {\n",
       "        vertical-align: top;\n",
       "    }\n",
       "\n",
       "    .dataframe thead th {\n",
       "        text-align: right;\n",
       "    }\n",
       "</style>\n",
       "<table border=\"1\" class=\"dataframe\">\n",
       "  <thead>\n",
       "    <tr style=\"text-align: right;\">\n",
       "      <th></th>\n",
       "      <th>Fiscal Year</th>\n",
       "      <th>Month Grouping</th>\n",
       "      <th>Month (abbv)</th>\n",
       "      <th>Component</th>\n",
       "      <th>Demographic</th>\n",
       "      <th>Citizenship Grouping</th>\n",
       "      <th>Title of Authority</th>\n",
       "      <th>Encounter Type</th>\n",
       "      <th>Encounter Count</th>\n",
       "    </tr>\n",
       "  </thead>\n",
       "  <tbody>\n",
       "    <tr>\n",
       "      <th>0</th>\n",
       "      <td>2020</td>\n",
       "      <td>FYTD</td>\n",
       "      <td>OCT</td>\n",
       "      <td>Office of Field Operations</td>\n",
       "      <td>Accompanied Minors</td>\n",
       "      <td>El Salvador</td>\n",
       "      <td>Title 8</td>\n",
       "      <td>Inadmissibles</td>\n",
       "      <td>2</td>\n",
       "    </tr>\n",
       "    <tr>\n",
       "      <th>1</th>\n",
       "      <td>2020</td>\n",
       "      <td>FYTD</td>\n",
       "      <td>OCT</td>\n",
       "      <td>Office of Field Operations</td>\n",
       "      <td>Accompanied Minors</td>\n",
       "      <td>Guatemala</td>\n",
       "      <td>Title 8</td>\n",
       "      <td>Inadmissibles</td>\n",
       "      <td>1</td>\n",
       "    </tr>\n",
       "    <tr>\n",
       "      <th>2</th>\n",
       "      <td>2020</td>\n",
       "      <td>FYTD</td>\n",
       "      <td>OCT</td>\n",
       "      <td>Office of Field Operations</td>\n",
       "      <td>Accompanied Minors</td>\n",
       "      <td>Mexico</td>\n",
       "      <td>Title 8</td>\n",
       "      <td>Inadmissibles</td>\n",
       "      <td>91</td>\n",
       "    </tr>\n",
       "    <tr>\n",
       "      <th>3</th>\n",
       "      <td>2020</td>\n",
       "      <td>FYTD</td>\n",
       "      <td>OCT</td>\n",
       "      <td>Office of Field Operations</td>\n",
       "      <td>Accompanied Minors</td>\n",
       "      <td>Other</td>\n",
       "      <td>Title 8</td>\n",
       "      <td>Inadmissibles</td>\n",
       "      <td>8</td>\n",
       "    </tr>\n",
       "    <tr>\n",
       "      <th>4</th>\n",
       "      <td>2020</td>\n",
       "      <td>FYTD</td>\n",
       "      <td>OCT</td>\n",
       "      <td>Office of Field Operations</td>\n",
       "      <td>FMUA</td>\n",
       "      <td>El Salvador</td>\n",
       "      <td>Title 8</td>\n",
       "      <td>Inadmissibles</td>\n",
       "      <td>38</td>\n",
       "    </tr>\n",
       "  </tbody>\n",
       "</table>\n",
       "</div>"
      ],
      "text/plain": [
       "  Fiscal Year Month Grouping Month (abbv)                   Component  \\\n",
       "0        2020           FYTD          OCT  Office of Field Operations   \n",
       "1        2020           FYTD          OCT  Office of Field Operations   \n",
       "2        2020           FYTD          OCT  Office of Field Operations   \n",
       "3        2020           FYTD          OCT  Office of Field Operations   \n",
       "4        2020           FYTD          OCT  Office of Field Operations   \n",
       "\n",
       "          Demographic Citizenship Grouping Title of Authority Encounter Type  \\\n",
       "0  Accompanied Minors          El Salvador            Title 8  Inadmissibles   \n",
       "1  Accompanied Minors            Guatemala            Title 8  Inadmissibles   \n",
       "2  Accompanied Minors               Mexico            Title 8  Inadmissibles   \n",
       "3  Accompanied Minors                Other            Title 8  Inadmissibles   \n",
       "4                FMUA          El Salvador            Title 8  Inadmissibles   \n",
       "\n",
       "   Encounter Count  \n",
       "0                2  \n",
       "1                1  \n",
       "2               91  \n",
       "3                8  \n",
       "4               38  "
      ]
     },
     "execution_count": 3,
     "metadata": {},
     "output_type": "execute_result"
    }
   ],
   "source": [
    "Encounters.head()"
   ]
  },
  {
   "cell_type": "code",
   "execution_count": 4,
   "id": "1174a016",
   "metadata": {},
   "outputs": [
    {
     "data": {
      "text/plain": [
       "Index(['Fiscal Year', 'Month Grouping', 'Month (abbv)', 'Component',\n",
       "       'Demographic', 'Citizenship Grouping', 'Title of Authority',\n",
       "       'Encounter Type', 'Encounter Count'],\n",
       "      dtype='object')"
      ]
     },
     "execution_count": 4,
     "metadata": {},
     "output_type": "execute_result"
    }
   ],
   "source": [
    "Encounters.columns"
   ]
  },
  {
   "cell_type": "code",
   "execution_count": 5,
   "id": "d1ee1faf",
   "metadata": {},
   "outputs": [],
   "source": [
    "from scipy import stats"
   ]
  },
  {
   "cell_type": "code",
   "execution_count": 6,
   "id": "173fd8c1",
   "metadata": {},
   "outputs": [],
   "source": [
    "Encounters_crosstab = pd.crosstab(Encounters['Encounter Type'], Encounters['Month (abbv)'])"
   ]
  },
  {
   "cell_type": "code",
   "execution_count": 7,
   "id": "67daa6a2",
   "metadata": {},
   "outputs": [
    {
     "data": {
      "text/html": [
       "<div>\n",
       "<style scoped>\n",
       "    .dataframe tbody tr th:only-of-type {\n",
       "        vertical-align: middle;\n",
       "    }\n",
       "\n",
       "    .dataframe tbody tr th {\n",
       "        vertical-align: top;\n",
       "    }\n",
       "\n",
       "    .dataframe thead th {\n",
       "        text-align: right;\n",
       "    }\n",
       "</style>\n",
       "<table border=\"1\" class=\"dataframe\">\n",
       "  <thead>\n",
       "    <tr style=\"text-align: right;\">\n",
       "      <th>Month (abbv)</th>\n",
       "      <th>APR</th>\n",
       "      <th>AUG</th>\n",
       "      <th>DEC</th>\n",
       "      <th>FEB</th>\n",
       "      <th>JAN</th>\n",
       "      <th>JUL</th>\n",
       "      <th>JUN</th>\n",
       "      <th>MAR</th>\n",
       "      <th>MAY</th>\n",
       "      <th>NOV</th>\n",
       "      <th>OCT</th>\n",
       "      <th>SEP</th>\n",
       "    </tr>\n",
       "    <tr>\n",
       "      <th>Encounter Type</th>\n",
       "      <th></th>\n",
       "      <th></th>\n",
       "      <th></th>\n",
       "      <th></th>\n",
       "      <th></th>\n",
       "      <th></th>\n",
       "      <th></th>\n",
       "      <th></th>\n",
       "      <th></th>\n",
       "      <th></th>\n",
       "      <th></th>\n",
       "      <th></th>\n",
       "    </tr>\n",
       "  </thead>\n",
       "  <tbody>\n",
       "    <tr>\n",
       "      <th>Apprehensions</th>\n",
       "      <td>58</td>\n",
       "      <td>45</td>\n",
       "      <td>60</td>\n",
       "      <td>60</td>\n",
       "      <td>60</td>\n",
       "      <td>44</td>\n",
       "      <td>45</td>\n",
       "      <td>60</td>\n",
       "      <td>44</td>\n",
       "      <td>60</td>\n",
       "      <td>60</td>\n",
       "      <td>45</td>\n",
       "    </tr>\n",
       "    <tr>\n",
       "      <th>Expulsions</th>\n",
       "      <td>87</td>\n",
       "      <td>70</td>\n",
       "      <td>61</td>\n",
       "      <td>66</td>\n",
       "      <td>59</td>\n",
       "      <td>67</td>\n",
       "      <td>66</td>\n",
       "      <td>83</td>\n",
       "      <td>66</td>\n",
       "      <td>66</td>\n",
       "      <td>69</td>\n",
       "      <td>66</td>\n",
       "    </tr>\n",
       "    <tr>\n",
       "      <th>Inadmissibles</th>\n",
       "      <td>71</td>\n",
       "      <td>57</td>\n",
       "      <td>69</td>\n",
       "      <td>72</td>\n",
       "      <td>68</td>\n",
       "      <td>52</td>\n",
       "      <td>55</td>\n",
       "      <td>69</td>\n",
       "      <td>51</td>\n",
       "      <td>72</td>\n",
       "      <td>66</td>\n",
       "      <td>53</td>\n",
       "    </tr>\n",
       "  </tbody>\n",
       "</table>\n",
       "</div>"
      ],
      "text/plain": [
       "Month (abbv)    APR  AUG  DEC  FEB  JAN  JUL  JUN  MAR  MAY  NOV  OCT  SEP\n",
       "Encounter Type                                                            \n",
       "Apprehensions    58   45   60   60   60   44   45   60   44   60   60   45\n",
       "Expulsions       87   70   61   66   59   67   66   83   66   66   69   66\n",
       "Inadmissibles    71   57   69   72   68   52   55   69   51   72   66   53"
      ]
     },
     "execution_count": 7,
     "metadata": {},
     "output_type": "execute_result"
    }
   ],
   "source": [
    "Encounters_crosstab"
   ]
  },
  {
   "cell_type": "markdown",
   "id": "71dc00d5",
   "metadata": {},
   "source": [
    "# The month of the encounter is largely connected to the Encounter Type or what happened to the people when they crossed the border. It is interesting\n",
    "# Mexico had the most expulsions"
   ]
  },
  {
   "cell_type": "code",
   "execution_count": null,
   "id": "71c67a02",
   "metadata": {},
   "outputs": [],
   "source": []
  }
 ],
 "metadata": {
  "kernelspec": {
   "display_name": "Python 3 (ipykernel)",
   "language": "python",
   "name": "python3"
  },
  "language_info": {
   "codemirror_mode": {
    "name": "ipython",
    "version": 3
   },
   "file_extension": ".py",
   "mimetype": "text/x-python",
   "name": "python",
   "nbconvert_exporter": "python",
   "pygments_lexer": "ipython3",
   "version": "3.10.9"
  }
 },
 "nbformat": 4,
 "nbformat_minor": 5
}
