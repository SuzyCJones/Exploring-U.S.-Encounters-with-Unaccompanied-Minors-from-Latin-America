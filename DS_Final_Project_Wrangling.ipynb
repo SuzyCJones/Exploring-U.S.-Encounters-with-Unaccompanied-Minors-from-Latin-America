{
 "cells": [
  {
   "cell_type": "markdown",
   "id": "1783ac77",
   "metadata": {},
   "source": [
    "# Unaccompanied Minors Data Science Final Project"
   ]
  },
  {
   "cell_type": "markdown",
   "id": "c6e96b90",
   "metadata": {},
   "source": [
    "## USBP Dataset Wrangling: "
   ]
  },
  {
   "cell_type": "code",
   "execution_count": 1,
   "id": "3c7bb020",
   "metadata": {},
   "outputs": [
    {
     "name": "stdout",
     "output_type": "stream",
     "text": [
      "\n",
      "The downloaded binary packages are in\n",
      "\t/var/folders/q_/vv8mn9pn63l7m3ps3k_2tqdm0000gn/T//Rtmp2w6KDV/downloaded_packages\n"
     ]
    },
    {
     "name": "stderr",
     "output_type": "stream",
     "text": [
      "Warning message:\n",
      "“package ‘datasets’ is a base package, and should not be updated”\n"
     ]
    },
    {
     "name": "stdout",
     "output_type": "stream",
     "text": [
      "\n",
      "The downloaded binary packages are in\n",
      "\t/var/folders/q_/vv8mn9pn63l7m3ps3k_2tqdm0000gn/T//Rtmp2w6KDV/downloaded_packages\n",
      "\n",
      "The downloaded binary packages are in\n",
      "\t/var/folders/q_/vv8mn9pn63l7m3ps3k_2tqdm0000gn/T//Rtmp2w6KDV/downloaded_packages\n"
     ]
    },
    {
     "name": "stderr",
     "output_type": "stream",
     "text": [
      "also installing the dependencies ‘xts’, ‘quadprog’\n",
      "\n",
      "\n"
     ]
    },
    {
     "name": "stdout",
     "output_type": "stream",
     "text": [
      "\n",
      "The downloaded binary packages are in\n",
      "\t/var/folders/q_/vv8mn9pn63l7m3ps3k_2tqdm0000gn/T//Rtmp2w6KDV/downloaded_packages\n",
      "\n",
      "The downloaded binary packages are in\n",
      "\t/var/folders/q_/vv8mn9pn63l7m3ps3k_2tqdm0000gn/T//Rtmp2w6KDV/downloaded_packages\n",
      "\n",
      "The downloaded binary packages are in\n",
      "\t/var/folders/q_/vv8mn9pn63l7m3ps3k_2tqdm0000gn/T//Rtmp2w6KDV/downloaded_packages\n"
     ]
    },
    {
     "name": "stderr",
     "output_type": "stream",
     "text": [
      "Warning message:\n",
      "“package ‘gridextra’ is not available for this version of R\n",
      "\n",
      "A version of this package for your version of R might be available elsewhere,\n",
      "see the ideas at\n",
      "https://cran.r-project.org/doc/manuals/r-patched/R-admin.html#Installing-packages”\n",
      "Warning message:\n",
      "“Perhaps you meant ‘gridExtra’ ?”\n"
     ]
    },
    {
     "name": "stdout",
     "output_type": "stream",
     "text": [
      "\n",
      "The downloaded binary packages are in\n",
      "\t/var/folders/q_/vv8mn9pn63l7m3ps3k_2tqdm0000gn/T//Rtmp2w6KDV/downloaded_packages\n",
      "\n",
      "The downloaded binary packages are in\n",
      "\t/var/folders/q_/vv8mn9pn63l7m3ps3k_2tqdm0000gn/T//Rtmp2w6KDV/downloaded_packages\n",
      "\n",
      "The downloaded binary packages are in\n",
      "\t/var/folders/q_/vv8mn9pn63l7m3ps3k_2tqdm0000gn/T//Rtmp2w6KDV/downloaded_packages\n",
      "\n",
      "The downloaded binary packages are in\n",
      "\t/var/folders/q_/vv8mn9pn63l7m3ps3k_2tqdm0000gn/T//Rtmp2w6KDV/downloaded_packages\n",
      "\n",
      "The downloaded binary packages are in\n",
      "\t/var/folders/q_/vv8mn9pn63l7m3ps3k_2tqdm0000gn/T//Rtmp2w6KDV/downloaded_packages\n",
      "\n",
      "The downloaded binary packages are in\n",
      "\t/var/folders/q_/vv8mn9pn63l7m3ps3k_2tqdm0000gn/T//Rtmp2w6KDV/downloaded_packages\n"
     ]
    },
    {
     "name": "stderr",
     "output_type": "stream",
     "text": [
      "also installing the dependencies ‘tensor’, ‘Rcpp’, ‘htmltools’, ‘wk’, ‘spatstat.data’, ‘spatstat.utils’, ‘polyclip’, ‘spatstat.random’, ‘spatstat.sparse’, ‘goftest’, ‘terra’, ‘hexbin’, ‘magic’, ‘lpSolve’, ‘linprog’, ‘RcppProgress’, ‘htmlwidgets’, ‘classInt’, ‘rlas’, ‘lobstr’, ‘s2’, ‘units’, ‘lwgeom’, ‘spatstat.geom’, ‘spatstat.explore’, ‘raster’, ‘rasterVis’, ‘sp’, ‘geometry’, ‘rgdal’, ‘rgl’, ‘lidR’, ‘pryr’, ‘sf’, ‘stars’\n",
      "\n",
      "\n"
     ]
    },
    {
     "name": "stdout",
     "output_type": "stream",
     "text": [
      "\n",
      "The downloaded binary packages are in\n",
      "\t/var/folders/q_/vv8mn9pn63l7m3ps3k_2tqdm0000gn/T//Rtmp2w6KDV/downloaded_packages\n",
      "\n",
      "The downloaded binary packages are in\n",
      "\t/var/folders/q_/vv8mn9pn63l7m3ps3k_2tqdm0000gn/T//Rtmp2w6KDV/downloaded_packages\n",
      "\n",
      "The downloaded binary packages are in\n",
      "\t/var/folders/q_/vv8mn9pn63l7m3ps3k_2tqdm0000gn/T//Rtmp2w6KDV/downloaded_packages\n",
      "\n",
      "The downloaded binary packages are in\n",
      "\t/var/folders/q_/vv8mn9pn63l7m3ps3k_2tqdm0000gn/T//Rtmp2w6KDV/downloaded_packages\n",
      "\n",
      "The downloaded binary packages are in\n",
      "\t/var/folders/q_/vv8mn9pn63l7m3ps3k_2tqdm0000gn/T//Rtmp2w6KDV/downloaded_packages\n",
      "\n",
      "The downloaded binary packages are in\n",
      "\t/var/folders/q_/vv8mn9pn63l7m3ps3k_2tqdm0000gn/T//Rtmp2w6KDV/downloaded_packages\n",
      "\n",
      "The downloaded binary packages are in\n",
      "\t/var/folders/q_/vv8mn9pn63l7m3ps3k_2tqdm0000gn/T//Rtmp2w6KDV/downloaded_packages\n",
      "\n",
      "The downloaded binary packages are in\n",
      "\t/var/folders/q_/vv8mn9pn63l7m3ps3k_2tqdm0000gn/T//Rtmp2w6KDV/downloaded_packages\n",
      "\n",
      "The downloaded binary packages are in\n",
      "\t/var/folders/q_/vv8mn9pn63l7m3ps3k_2tqdm0000gn/T//Rtmp2w6KDV/downloaded_packages\n",
      "\n",
      "The downloaded binary packages are in\n",
      "\t/var/folders/q_/vv8mn9pn63l7m3ps3k_2tqdm0000gn/T//Rtmp2w6KDV/downloaded_packages\n",
      "\n",
      "The downloaded binary packages are in\n",
      "\t/var/folders/q_/vv8mn9pn63l7m3ps3k_2tqdm0000gn/T//Rtmp2w6KDV/downloaded_packages\n",
      "\n",
      "The downloaded binary packages are in\n",
      "\t/var/folders/q_/vv8mn9pn63l7m3ps3k_2tqdm0000gn/T//Rtmp2w6KDV/downloaded_packages\n",
      "\n",
      "The downloaded binary packages are in\n",
      "\t/var/folders/q_/vv8mn9pn63l7m3ps3k_2tqdm0000gn/T//Rtmp2w6KDV/downloaded_packages\n",
      "\n",
      "The downloaded binary packages are in\n",
      "\t/var/folders/q_/vv8mn9pn63l7m3ps3k_2tqdm0000gn/T//Rtmp2w6KDV/downloaded_packages\n",
      "\n",
      "The downloaded binary packages are in\n",
      "\t/var/folders/q_/vv8mn9pn63l7m3ps3k_2tqdm0000gn/T//Rtmp2w6KDV/downloaded_packages\n",
      "\n",
      "The downloaded binary packages are in\n",
      "\t/var/folders/q_/vv8mn9pn63l7m3ps3k_2tqdm0000gn/T//Rtmp2w6KDV/downloaded_packages\n",
      "\n",
      "The downloaded binary packages are in\n",
      "\t/var/folders/q_/vv8mn9pn63l7m3ps3k_2tqdm0000gn/T//Rtmp2w6KDV/downloaded_packages\n",
      "\n",
      "The downloaded binary packages are in\n",
      "\t/var/folders/q_/vv8mn9pn63l7m3ps3k_2tqdm0000gn/T//Rtmp2w6KDV/downloaded_packages\n"
     ]
    }
   ],
   "source": [
    "install.packages(\"ggplot2\")\n",
    "install.packages(\"datasets\")\n",
    "install.packages(\"readxl\") \n",
    "install.packages(\"dplyr\") \n",
    "install.packages(\"PerformanceAnalytics\")\n",
    "install.packages(\"corrplot\") \n",
    "install.packages(\"gapminder\")\n",
    "install.packages(\"gridextra\")\n",
    "install.packages(\"Ecdat\")\n",
    "install.packages(\"corpcor\")\n",
    "install.packages(\"GPArotation\")\n",
    "install.packages(\"psych\")\n",
    "install.packages(\"IDPmisc\")\n",
    "install.packages(\"lattice\") \n",
    "install.packages(\"treetop\")\n",
    "install.packages(\"scales\")\n",
    "install.packages(\"rcompanion\")\n",
    "install.packages(\"gmodels\")\n",
    "install.packages(\"car\")\n",
    "install.packages(\"caret\")\n",
    "install.packages(\"gvlma\")\n",
    "install.packages(\"predictmeans\")\n",
    "install.packages(\"caret\")\n",
    "install.packages(\"magrittr\")\n",
    "install.packages(\"tidyr\")\n",
    "install.packages(\"lmtest\")\n",
    "install.packages(\"popbio\")\n",
    "install.packages(\"e1071\")\n",
    "install.packages(\"data.table\")\n",
    "install.packages(\"effects\")\n",
    "install.packages(\"multcomp\")\n",
    "install.packages(\"mvnormtest\")"
   ]
  },
  {
   "cell_type": "markdown",
   "id": "6aa34f3a",
   "metadata": {},
   "source": [
    "### Import Data"
   ]
  },
  {
   "cell_type": "code",
   "execution_count": 5,
   "id": "098565d9",
   "metadata": {},
   "outputs": [],
   "source": [
    "BPEncounters = read.csv(\"/Users/suzejones/Downloads/sbo-encounters-fy19-fy22.csv\")"
   ]
  },
  {
   "cell_type": "code",
   "execution_count": 6,
   "id": "50bd7ae2",
   "metadata": {},
   "outputs": [
    {
     "data": {
      "text/html": [
       "<table class=\"dataframe\">\n",
       "<caption>A data.frame: 6 × 9</caption>\n",
       "<thead>\n",
       "\t<tr><th></th><th scope=col>Fiscal.Year</th><th scope=col>Month.Grouping</th><th scope=col>Month..abbv.</th><th scope=col>Component</th><th scope=col>Demographic</th><th scope=col>Citizenship.Grouping</th><th scope=col>Title.of.Authority</th><th scope=col>Encounter.Type</th><th scope=col>Encounter.Count</th></tr>\n",
       "\t<tr><th></th><th scope=col>&lt;int&gt;</th><th scope=col>&lt;chr&gt;</th><th scope=col>&lt;chr&gt;</th><th scope=col>&lt;chr&gt;</th><th scope=col>&lt;chr&gt;</th><th scope=col>&lt;chr&gt;</th><th scope=col>&lt;chr&gt;</th><th scope=col>&lt;chr&gt;</th><th scope=col>&lt;dbl&gt;</th></tr>\n",
       "</thead>\n",
       "<tbody>\n",
       "\t<tr><th scope=row>1</th><td>2019</td><td>FYTD</td><td>AUG</td><td>Office of Field Operations</td><td>Accompanied Minors</td><td>Guatemala</td><td>Title 8</td><td>Inadmissibles</td><td>   0</td></tr>\n",
       "\t<tr><th scope=row>2</th><td>2019</td><td>FYTD</td><td>DEC</td><td>U.S. Border Patrol        </td><td>FMUA              </td><td>Honduras </td><td>Title 8</td><td>Apprehensions</td><td>9584</td></tr>\n",
       "\t<tr><th scope=row>3</th><td>2021</td><td>FYTD</td><td>SEP</td><td>Office of Field Operations</td><td>Single Adults     </td><td>Other    </td><td>Title 8</td><td>Inadmissibles</td><td>1108</td></tr>\n",
       "\t<tr><th scope=row>4</th><td>2021</td><td>FYTD</td><td>SEP</td><td>Office of Field Operations</td><td>Single Adults     </td><td>Guatemala</td><td>Title 8</td><td>Inadmissibles</td><td>  14</td></tr>\n",
       "\t<tr><th scope=row>5</th><td>2019</td><td>FYTD</td><td>JUN</td><td>Office of Field Operations</td><td>Single Adults     </td><td>Honduras </td><td>Title 8</td><td>Inadmissibles</td><td>  87</td></tr>\n",
       "\t<tr><th scope=row>6</th><td>2019</td><td>FYTD</td><td>OCT</td><td>Office of Field Operations</td><td>UC / Single Minors</td><td>Guatemala</td><td>Title 8</td><td>Inadmissibles</td><td> 121</td></tr>\n",
       "</tbody>\n",
       "</table>\n"
      ],
      "text/latex": [
       "A data.frame: 6 × 9\n",
       "\\begin{tabular}{r|lllllllll}\n",
       "  & Fiscal.Year & Month.Grouping & Month..abbv. & Component & Demographic & Citizenship.Grouping & Title.of.Authority & Encounter.Type & Encounter.Count\\\\\n",
       "  & <int> & <chr> & <chr> & <chr> & <chr> & <chr> & <chr> & <chr> & <dbl>\\\\\n",
       "\\hline\n",
       "\t1 & 2019 & FYTD & AUG & Office of Field Operations & Accompanied Minors & Guatemala & Title 8 & Inadmissibles &    0\\\\\n",
       "\t2 & 2019 & FYTD & DEC & U.S. Border Patrol         & FMUA               & Honduras  & Title 8 & Apprehensions & 9584\\\\\n",
       "\t3 & 2021 & FYTD & SEP & Office of Field Operations & Single Adults      & Other     & Title 8 & Inadmissibles & 1108\\\\\n",
       "\t4 & 2021 & FYTD & SEP & Office of Field Operations & Single Adults      & Guatemala & Title 8 & Inadmissibles &   14\\\\\n",
       "\t5 & 2019 & FYTD & JUN & Office of Field Operations & Single Adults      & Honduras  & Title 8 & Inadmissibles &   87\\\\\n",
       "\t6 & 2019 & FYTD & OCT & Office of Field Operations & UC / Single Minors & Guatemala & Title 8 & Inadmissibles &  121\\\\\n",
       "\\end{tabular}\n"
      ],
      "text/markdown": [
       "\n",
       "A data.frame: 6 × 9\n",
       "\n",
       "| <!--/--> | Fiscal.Year &lt;int&gt; | Month.Grouping &lt;chr&gt; | Month..abbv. &lt;chr&gt; | Component &lt;chr&gt; | Demographic &lt;chr&gt; | Citizenship.Grouping &lt;chr&gt; | Title.of.Authority &lt;chr&gt; | Encounter.Type &lt;chr&gt; | Encounter.Count &lt;dbl&gt; |\n",
       "|---|---|---|---|---|---|---|---|---|---|\n",
       "| 1 | 2019 | FYTD | AUG | Office of Field Operations | Accompanied Minors | Guatemala | Title 8 | Inadmissibles |    0 |\n",
       "| 2 | 2019 | FYTD | DEC | U.S. Border Patrol         | FMUA               | Honduras  | Title 8 | Apprehensions | 9584 |\n",
       "| 3 | 2021 | FYTD | SEP | Office of Field Operations | Single Adults      | Other     | Title 8 | Inadmissibles | 1108 |\n",
       "| 4 | 2021 | FYTD | SEP | Office of Field Operations | Single Adults      | Guatemala | Title 8 | Inadmissibles |   14 |\n",
       "| 5 | 2019 | FYTD | JUN | Office of Field Operations | Single Adults      | Honduras  | Title 8 | Inadmissibles |   87 |\n",
       "| 6 | 2019 | FYTD | OCT | Office of Field Operations | UC / Single Minors | Guatemala | Title 8 | Inadmissibles |  121 |\n",
       "\n"
      ],
      "text/plain": [
       "  Fiscal.Year Month.Grouping Month..abbv. Component                 \n",
       "1 2019        FYTD           AUG          Office of Field Operations\n",
       "2 2019        FYTD           DEC          U.S. Border Patrol        \n",
       "3 2021        FYTD           SEP          Office of Field Operations\n",
       "4 2021        FYTD           SEP          Office of Field Operations\n",
       "5 2019        FYTD           JUN          Office of Field Operations\n",
       "6 2019        FYTD           OCT          Office of Field Operations\n",
       "  Demographic        Citizenship.Grouping Title.of.Authority Encounter.Type\n",
       "1 Accompanied Minors Guatemala            Title 8            Inadmissibles \n",
       "2 FMUA               Honduras             Title 8            Apprehensions \n",
       "3 Single Adults      Other                Title 8            Inadmissibles \n",
       "4 Single Adults      Guatemala            Title 8            Inadmissibles \n",
       "5 Single Adults      Honduras             Title 8            Inadmissibles \n",
       "6 UC / Single Minors Guatemala            Title 8            Inadmissibles \n",
       "  Encounter.Count\n",
       "1    0           \n",
       "2 9584           \n",
       "3 1108           \n",
       "4   14           \n",
       "5   87           \n",
       "6  121           "
      ]
     },
     "metadata": {},
     "output_type": "display_data"
    }
   ],
   "source": [
    "head(BPEncounters)"
   ]
  },
  {
   "cell_type": "markdown",
   "id": "56944f52",
   "metadata": {},
   "source": [
    "### Wrangle Columns"
   ]
  },
  {
   "cell_type": "code",
   "execution_count": 8,
   "id": "35fc553e",
   "metadata": {},
   "outputs": [
    {
     "data": {
      "text/html": [
       "<style>\n",
       ".list-inline {list-style: none; margin:0; padding: 0}\n",
       ".list-inline>li {display: inline-block}\n",
       ".list-inline>li:not(:last-child)::after {content: \"\\00b7\"; padding: 0 .5ex}\n",
       "</style>\n",
       "<ol class=list-inline><li>'Fiscal.Year'</li><li>'Month.Grouping'</li><li>'Month..abbv.'</li><li>'Component'</li><li>'Demographic'</li><li>'Citizenship.Grouping'</li><li>'Title.of.Authority'</li><li>'Encounter.Type'</li><li>'Encounter.Count'</li></ol>\n"
      ],
      "text/latex": [
       "\\begin{enumerate*}\n",
       "\\item 'Fiscal.Year'\n",
       "\\item 'Month.Grouping'\n",
       "\\item 'Month..abbv.'\n",
       "\\item 'Component'\n",
       "\\item 'Demographic'\n",
       "\\item 'Citizenship.Grouping'\n",
       "\\item 'Title.of.Authority'\n",
       "\\item 'Encounter.Type'\n",
       "\\item 'Encounter.Count'\n",
       "\\end{enumerate*}\n"
      ],
      "text/markdown": [
       "1. 'Fiscal.Year'\n",
       "2. 'Month.Grouping'\n",
       "3. 'Month..abbv.'\n",
       "4. 'Component'\n",
       "5. 'Demographic'\n",
       "6. 'Citizenship.Grouping'\n",
       "7. 'Title.of.Authority'\n",
       "8. 'Encounter.Type'\n",
       "9. 'Encounter.Count'\n",
       "\n",
       "\n"
      ],
      "text/plain": [
       "[1] \"Fiscal.Year\"          \"Month.Grouping\"       \"Month..abbv.\"        \n",
       "[4] \"Component\"            \"Demographic\"          \"Citizenship.Grouping\"\n",
       "[7] \"Title.of.Authority\"   \"Encounter.Type\"       \"Encounter.Count\"     "
      ]
     },
     "metadata": {},
     "output_type": "display_data"
    }
   ],
   "source": [
    "colnames(BPEncounters)"
   ]
  },
  {
   "cell_type": "code",
   "execution_count": null,
   "id": "f6894f44",
   "metadata": {},
   "outputs": [],
   "source": []
  }
 ],
 "metadata": {
  "kernelspec": {
   "display_name": "R",
   "language": "R",
   "name": "ir"
  },
  "language_info": {
   "codemirror_mode": "r",
   "file_extension": ".r",
   "mimetype": "text/x-r-source",
   "name": "R",
   "pygments_lexer": "r",
   "version": "4.2.2"
  }
 },
 "nbformat": 4,
 "nbformat_minor": 5
}
